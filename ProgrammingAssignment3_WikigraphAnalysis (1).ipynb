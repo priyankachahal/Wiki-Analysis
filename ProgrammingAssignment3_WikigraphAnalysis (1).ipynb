{
 "cells": [
  {
   "cell_type": "markdown",
   "metadata": {
    "colab_type": "text",
    "id": "m54xv9Wc6CIo"
   },
   "source": [
    "**This program demonstrates performs network characterization on wikipedia Vote Dataset**"
   ]
  },
  {
   "cell_type": "code",
   "execution_count": 0,
   "metadata": {
    "colab": {},
    "colab_type": "code",
    "id": "LSUEP-NFxpGF"
   },
   "outputs": [],
   "source": [
    "import matplotlib.pyplot as plt\n",
    "import networkx as nx\n",
    "import pandas as pd\n",
    "from networkx.algorithms import community\n",
    "from networkx.algorithms import components\n",
    "from networkx.algorithms.community import girvan_newman\n",
    "import operator\n",
    "import itertools"
   ]
  },
  {
   "cell_type": "code",
   "execution_count": 2,
   "metadata": {
    "colab": {
     "base_uri": "https://localhost:8080/",
     "height": 34
    },
    "colab_type": "code",
    "executionInfo": {
     "elapsed": 285,
     "status": "ok",
     "timestamp": 1557470222557,
     "user": {
      "displayName": "Priyanka Kumar",
      "photoUrl": "",
      "userId": "04515317227541161014"
     },
     "user_tz": 420
    },
    "id": "aOXjHar0yv4C",
    "outputId": "c17e0bc6-bc5b-4eb5-f10b-c6dd51f7615b"
   },
   "outputs": [
    {
     "name": "stdout",
     "output_type": "stream",
     "text": [
      "Drive already mounted at /content/drive; to attempt to forcibly remount, call drive.mount(\"/content/drive\", force_remount=True).\n"
     ]
    }
   ],
   "source": [
    "from google.colab import drive\n",
    "drive.mount('/content/drive')"
   ]
  },
  {
   "cell_type": "code",
   "execution_count": 0,
   "metadata": {
    "colab": {
     "base_uri": "https://localhost:8080/",
     "height": 51
    },
    "colab_type": "code",
    "executionInfo": {
     "elapsed": 26710,
     "status": "ok",
     "timestamp": 1557467691062,
     "user": {
      "displayName": "Priyanka Kumar",
      "photoUrl": "",
      "userId": "04515317227541161014"
     },
     "user_tz": 420
    },
    "id": "xCD6MmJazGh0",
    "outputId": "b739b8ea-e84b-4bf3-854f-bd3644c314d8"
   },
   "outputs": [
    {
     "name": "stdout",
     "output_type": "stream",
     "text": [
      "Slashdot0811.txt   soc-sign-bitcoinotc.csv  Wiki-Vote.txt\n",
      "soc-Epinions1.txt  WikigraphAnalysis.ipynb\n"
     ]
    }
   ],
   "source": [
    "!ls '/content/drive/My Drive/CMPE_ 256_Graph_ Assignment'"
   ]
  },
  {
   "cell_type": "markdown",
   "metadata": {
    "colab_type": "text",
    "id": "4vJdT2QO6ehJ"
   },
   "source": [
    "**Dataset wiki-Vote.txt is read in the dataframe**"
   ]
  },
  {
   "cell_type": "code",
   "execution_count": 3,
   "metadata": {
    "colab": {
     "base_uri": "https://localhost:8080/",
     "height": 359
    },
    "colab_type": "code",
    "executionInfo": {
     "elapsed": 407,
     "status": "ok",
     "timestamp": 1557470227573,
     "user": {
      "displayName": "Priyanka Kumar",
      "photoUrl": "",
      "userId": "04515317227541161014"
     },
     "user_tz": 420
    },
    "id": "VZgoZahyzSTZ",
    "outputId": "8f68ace1-7854-4ba2-a43a-7fde7c232b3e"
   },
   "outputs": [
    {
     "data": {
      "text/html": [
       "<div>\n",
       "<style scoped>\n",
       "    .dataframe tbody tr th:only-of-type {\n",
       "        vertical-align: middle;\n",
       "    }\n",
       "\n",
       "    .dataframe tbody tr th {\n",
       "        vertical-align: top;\n",
       "    }\n",
       "\n",
       "    .dataframe thead th {\n",
       "        text-align: right;\n",
       "    }\n",
       "</style>\n",
       "<table border=\"1\" class=\"dataframe\">\n",
       "  <thead>\n",
       "    <tr style=\"text-align: right;\">\n",
       "      <th></th>\n",
       "      <th># Directed graph (each unordered pair of nodes is saved once): Wiki-Vote.txt</th>\n",
       "    </tr>\n",
       "  </thead>\n",
       "  <tbody>\n",
       "    <tr>\n",
       "      <th>0</th>\n",
       "      <td># Wikipedia voting on promotion to administrat...</td>\n",
       "    </tr>\n",
       "    <tr>\n",
       "      <th>1</th>\n",
       "      <td># Nodes: 7115 Edges: 103689</td>\n",
       "    </tr>\n",
       "    <tr>\n",
       "      <th>2</th>\n",
       "      <td># FromNodeId\\tToNodeId</td>\n",
       "    </tr>\n",
       "    <tr>\n",
       "      <th>3</th>\n",
       "      <td>30\\t1412</td>\n",
       "    </tr>\n",
       "    <tr>\n",
       "      <th>4</th>\n",
       "      <td>30\\t3352</td>\n",
       "    </tr>\n",
       "    <tr>\n",
       "      <th>5</th>\n",
       "      <td>30\\t5254</td>\n",
       "    </tr>\n",
       "    <tr>\n",
       "      <th>6</th>\n",
       "      <td>30\\t5543</td>\n",
       "    </tr>\n",
       "    <tr>\n",
       "      <th>7</th>\n",
       "      <td>30\\t7478</td>\n",
       "    </tr>\n",
       "    <tr>\n",
       "      <th>8</th>\n",
       "      <td>3\\t28</td>\n",
       "    </tr>\n",
       "    <tr>\n",
       "      <th>9</th>\n",
       "      <td>3\\t30</td>\n",
       "    </tr>\n",
       "  </tbody>\n",
       "</table>\n",
       "</div>"
      ],
      "text/plain": [
       "  # Directed graph (each unordered pair of nodes is saved once): Wiki-Vote.txt \n",
       "0  # Wikipedia voting on promotion to administrat...                           \n",
       "1                        # Nodes: 7115 Edges: 103689                           \n",
       "2                             # FromNodeId\\tToNodeId                           \n",
       "3                                           30\\t1412                           \n",
       "4                                           30\\t3352                           \n",
       "5                                           30\\t5254                           \n",
       "6                                           30\\t5543                           \n",
       "7                                           30\\t7478                           \n",
       "8                                              3\\t28                           \n",
       "9                                              3\\t30                           "
      ]
     },
     "execution_count": 3,
     "metadata": {
      "tags": []
     },
     "output_type": "execute_result"
    }
   ],
   "source": [
    "df = pd.read_csv('/content/drive/My Drive/CMPE_ 256_Graph_ Assignment/Wiki-Vote.txt')\n",
    "df.head(10)"
   ]
  },
  {
   "cell_type": "markdown",
   "metadata": {
    "colab_type": "text",
    "id": "ozYbE4jX6pC-"
   },
   "source": [
    "**Rows 0,1,2 are dropped from the dataframe**"
   ]
  },
  {
   "cell_type": "code",
   "execution_count": 0,
   "metadata": {
    "colab": {},
    "colab_type": "code",
    "id": "cQs3kVHyzqoU"
   },
   "outputs": [],
   "source": [
    "df.drop([0,1,2],inplace=True) #drops first 3 rows"
   ]
  },
  {
   "cell_type": "code",
   "execution_count": 0,
   "metadata": {
    "colab": {
     "base_uri": "https://localhost:8080/",
     "height": 359
    },
    "colab_type": "code",
    "executionInfo": {
     "elapsed": 288,
     "status": "ok",
     "timestamp": 1557470086162,
     "user": {
      "displayName": "Priyanka Kumar",
      "photoUrl": "",
      "userId": "04515317227541161014"
     },
     "user_tz": 420
    },
    "id": "WYFt2J7L02ij",
    "outputId": "189a1793-845e-41e7-9b1b-eba4b5698c4d"
   },
   "outputs": [
    {
     "data": {
      "text/html": [
       "<div>\n",
       "<style scoped>\n",
       "    .dataframe tbody tr th:only-of-type {\n",
       "        vertical-align: middle;\n",
       "    }\n",
       "\n",
       "    .dataframe tbody tr th {\n",
       "        vertical-align: top;\n",
       "    }\n",
       "\n",
       "    .dataframe thead th {\n",
       "        text-align: right;\n",
       "    }\n",
       "</style>\n",
       "<table border=\"1\" class=\"dataframe\">\n",
       "  <thead>\n",
       "    <tr style=\"text-align: right;\">\n",
       "      <th></th>\n",
       "      <th># Directed graph (each unordered pair of nodes is saved once): Wiki-Vote.txt</th>\n",
       "    </tr>\n",
       "  </thead>\n",
       "  <tbody>\n",
       "    <tr>\n",
       "      <th>3</th>\n",
       "      <td>30\\t1412</td>\n",
       "    </tr>\n",
       "    <tr>\n",
       "      <th>4</th>\n",
       "      <td>30\\t3352</td>\n",
       "    </tr>\n",
       "    <tr>\n",
       "      <th>5</th>\n",
       "      <td>30\\t5254</td>\n",
       "    </tr>\n",
       "    <tr>\n",
       "      <th>6</th>\n",
       "      <td>30\\t5543</td>\n",
       "    </tr>\n",
       "    <tr>\n",
       "      <th>7</th>\n",
       "      <td>30\\t7478</td>\n",
       "    </tr>\n",
       "    <tr>\n",
       "      <th>8</th>\n",
       "      <td>3\\t28</td>\n",
       "    </tr>\n",
       "    <tr>\n",
       "      <th>9</th>\n",
       "      <td>3\\t30</td>\n",
       "    </tr>\n",
       "    <tr>\n",
       "      <th>10</th>\n",
       "      <td>3\\t39</td>\n",
       "    </tr>\n",
       "    <tr>\n",
       "      <th>11</th>\n",
       "      <td>3\\t54</td>\n",
       "    </tr>\n",
       "    <tr>\n",
       "      <th>12</th>\n",
       "      <td>3\\t108</td>\n",
       "    </tr>\n",
       "  </tbody>\n",
       "</table>\n",
       "</div>"
      ],
      "text/plain": [
       "   # Directed graph (each unordered pair of nodes is saved once): Wiki-Vote.txt \n",
       "3                                            30\\t1412                           \n",
       "4                                            30\\t3352                           \n",
       "5                                            30\\t5254                           \n",
       "6                                            30\\t5543                           \n",
       "7                                            30\\t7478                           \n",
       "8                                               3\\t28                           \n",
       "9                                               3\\t30                           \n",
       "10                                              3\\t39                           \n",
       "11                                              3\\t54                           \n",
       "12                                             3\\t108                           "
      ]
     },
     "execution_count": 6,
     "metadata": {
      "tags": []
     },
     "output_type": "execute_result"
    }
   ],
   "source": [
    "df.head(10)"
   ]
  },
  {
   "cell_type": "markdown",
   "metadata": {
    "colab_type": "text",
    "id": "tV-Ij3Ai6yIT"
   },
   "source": [
    "**Reset index of the dataframe to 0 after dropping three rows**"
   ]
  },
  {
   "cell_type": "code",
   "execution_count": 0,
   "metadata": {
    "colab": {},
    "colab_type": "code",
    "id": "h11__P9i1Idq"
   },
   "outputs": [],
   "source": [
    "df.reset_index(inplace=True,drop=True)"
   ]
  },
  {
   "cell_type": "code",
   "execution_count": 0,
   "metadata": {
    "colab": {
     "base_uri": "https://localhost:8080/",
     "height": 204
    },
    "colab_type": "code",
    "executionInfo": {
     "elapsed": 215,
     "status": "ok",
     "timestamp": 1557467697348,
     "user": {
      "displayName": "Priyanka Kumar",
      "photoUrl": "",
      "userId": "04515317227541161014"
     },
     "user_tz": 420
    },
    "id": "7cc_zaJ-1L3m",
    "outputId": "c1773c38-6d90-48a0-875a-74829519434f"
   },
   "outputs": [
    {
     "data": {
      "text/html": [
       "<div>\n",
       "<style scoped>\n",
       "    .dataframe tbody tr th:only-of-type {\n",
       "        vertical-align: middle;\n",
       "    }\n",
       "\n",
       "    .dataframe tbody tr th {\n",
       "        vertical-align: top;\n",
       "    }\n",
       "\n",
       "    .dataframe thead th {\n",
       "        text-align: right;\n",
       "    }\n",
       "</style>\n",
       "<table border=\"1\" class=\"dataframe\">\n",
       "  <thead>\n",
       "    <tr style=\"text-align: right;\">\n",
       "      <th></th>\n",
       "      <th># Directed graph (each unordered pair of nodes is saved once): Wiki-Vote.txt</th>\n",
       "    </tr>\n",
       "  </thead>\n",
       "  <tbody>\n",
       "    <tr>\n",
       "      <th>0</th>\n",
       "      <td>30\\t1412</td>\n",
       "    </tr>\n",
       "    <tr>\n",
       "      <th>1</th>\n",
       "      <td>30\\t3352</td>\n",
       "    </tr>\n",
       "    <tr>\n",
       "      <th>2</th>\n",
       "      <td>30\\t5254</td>\n",
       "    </tr>\n",
       "    <tr>\n",
       "      <th>3</th>\n",
       "      <td>30\\t5543</td>\n",
       "    </tr>\n",
       "    <tr>\n",
       "      <th>4</th>\n",
       "      <td>30\\t7478</td>\n",
       "    </tr>\n",
       "  </tbody>\n",
       "</table>\n",
       "</div>"
      ],
      "text/plain": [
       "  # Directed graph (each unordered pair of nodes is saved once): Wiki-Vote.txt \n",
       "0                                           30\\t1412                           \n",
       "1                                           30\\t3352                           \n",
       "2                                           30\\t5254                           \n",
       "3                                           30\\t5543                           \n",
       "4                                           30\\t7478                           "
      ]
     },
     "execution_count": 9,
     "metadata": {
      "tags": []
     },
     "output_type": "execute_result"
    }
   ],
   "source": [
    "df.head()"
   ]
  },
  {
   "cell_type": "code",
   "execution_count": 0,
   "metadata": {
    "colab": {
     "base_uri": "https://localhost:8080/",
     "height": 34
    },
    "colab_type": "code",
    "executionInfo": {
     "elapsed": 396,
     "status": "ok",
     "timestamp": 1557452801399,
     "user": {
      "displayName": "Priyanka Kumar",
      "photoUrl": "",
      "userId": "04515317227541161014"
     },
     "user_tz": 420
    },
    "id": "XoSrBBi6_ZMI",
    "outputId": "6e947b5c-6355-4069-827a-0053c1281b68"
   },
   "outputs": [
    {
     "data": {
      "text/plain": [
       "(103689, 1)"
      ]
     },
     "execution_count": 8,
     "metadata": {
      "tags": []
     },
     "output_type": "execute_result"
    }
   ],
   "source": [
    "df.shape"
   ]
  },
  {
   "cell_type": "markdown",
   "metadata": {
    "colab_type": "text",
    "id": "YwXFrqWK69ri"
   },
   "source": [
    "**Split the column 0 into two columns named as Source_node and Target_node**"
   ]
  },
  {
   "cell_type": "code",
   "execution_count": 0,
   "metadata": {
    "colab": {},
    "colab_type": "code",
    "id": "_OGxlxfS1O0N"
   },
   "outputs": [],
   "source": [
    "df = pd.DataFrame(df[df.columns[0]].str.split('\\t',1).tolist(),        \n",
    "                                   columns = ['Source_node','Target_node']) #split column 0 two columns Source_node and Target_node"
   ]
  },
  {
   "cell_type": "code",
   "execution_count": 0,
   "metadata": {
    "colab": {
     "base_uri": "https://localhost:8080/",
     "height": 204
    },
    "colab_type": "code",
    "executionInfo": {
     "elapsed": 415,
     "status": "ok",
     "timestamp": 1557452805736,
     "user": {
      "displayName": "Priyanka Kumar",
      "photoUrl": "",
      "userId": "04515317227541161014"
     },
     "user_tz": 420
    },
    "id": "8lFFK5V74bVY",
    "outputId": "aa998c27-de07-4e44-d5f3-7417ccce07ac"
   },
   "outputs": [
    {
     "data": {
      "text/html": [
       "<div>\n",
       "<style scoped>\n",
       "    .dataframe tbody tr th:only-of-type {\n",
       "        vertical-align: middle;\n",
       "    }\n",
       "\n",
       "    .dataframe tbody tr th {\n",
       "        vertical-align: top;\n",
       "    }\n",
       "\n",
       "    .dataframe thead th {\n",
       "        text-align: right;\n",
       "    }\n",
       "</style>\n",
       "<table border=\"1\" class=\"dataframe\">\n",
       "  <thead>\n",
       "    <tr style=\"text-align: right;\">\n",
       "      <th></th>\n",
       "      <th>Source_node</th>\n",
       "      <th>Target_node</th>\n",
       "    </tr>\n",
       "  </thead>\n",
       "  <tbody>\n",
       "    <tr>\n",
       "      <th>0</th>\n",
       "      <td>30</td>\n",
       "      <td>1412</td>\n",
       "    </tr>\n",
       "    <tr>\n",
       "      <th>1</th>\n",
       "      <td>30</td>\n",
       "      <td>3352</td>\n",
       "    </tr>\n",
       "    <tr>\n",
       "      <th>2</th>\n",
       "      <td>30</td>\n",
       "      <td>5254</td>\n",
       "    </tr>\n",
       "    <tr>\n",
       "      <th>3</th>\n",
       "      <td>30</td>\n",
       "      <td>5543</td>\n",
       "    </tr>\n",
       "    <tr>\n",
       "      <th>4</th>\n",
       "      <td>30</td>\n",
       "      <td>7478</td>\n",
       "    </tr>\n",
       "  </tbody>\n",
       "</table>\n",
       "</div>"
      ],
      "text/plain": [
       "  Source_node Target_node\n",
       "0          30        1412\n",
       "1          30        3352\n",
       "2          30        5254\n",
       "3          30        5543\n",
       "4          30        7478"
      ]
     },
     "execution_count": 10,
     "metadata": {
      "tags": []
     },
     "output_type": "execute_result"
    }
   ],
   "source": [
    "df.head()"
   ]
  },
  {
   "cell_type": "markdown",
   "metadata": {
    "colab_type": "text",
    "id": "hd99t3fq7PAp"
   },
   "source": [
    "**A directed Graph H is created from the dataframe**"
   ]
  },
  {
   "cell_type": "code",
   "execution_count": 0,
   "metadata": {
    "colab": {},
    "colab_type": "code",
    "id": "dwD6wdfW7Dfb"
   },
   "outputs": [],
   "source": [
    "H = nx.from_pandas_edgelist(df, source='Source_node', target='Target_node', create_using=nx.DiGraph()) #create a directed graph from dataframe df"
   ]
  },
  {
   "cell_type": "code",
   "execution_count": 0,
   "metadata": {
    "colab": {
     "base_uri": "https://localhost:8080/",
     "height": 34
    },
    "colab_type": "code",
    "executionInfo": {
     "elapsed": 259,
     "status": "ok",
     "timestamp": 1557467704074,
     "user": {
      "displayName": "Priyanka Kumar",
      "photoUrl": "",
      "userId": "04515317227541161014"
     },
     "user_tz": 420
    },
    "id": "6obPtmo7Jk_U",
    "outputId": "0ff79ea1-881c-4314-f801-df12a76f2d4a"
   },
   "outputs": [
    {
     "data": {
      "text/plain": [
       "True"
      ]
     },
     "execution_count": 12,
     "metadata": {
      "tags": []
     },
     "output_type": "execute_result"
    }
   ],
   "source": [
    "nx.is_directed(H)"
   ]
  },
  {
   "cell_type": "markdown",
   "metadata": {
    "colab_type": "text",
    "id": "6ZHG64fB7cYd"
   },
   "source": [
    "**Prints number of nodes in the graph**"
   ]
  },
  {
   "cell_type": "code",
   "execution_count": 0,
   "metadata": {
    "colab": {
     "base_uri": "https://localhost:8080/",
     "height": 34
    },
    "colab_type": "code",
    "executionInfo": {
     "elapsed": 237,
     "status": "ok",
     "timestamp": 1557467709024,
     "user": {
      "displayName": "Priyanka Kumar",
      "photoUrl": "",
      "userId": "04515317227541161014"
     },
     "user_tz": 420
    },
    "id": "GJGCCpsq9Z0v",
    "outputId": "a7a8e602-f8fe-4450-9513-d87dc8509855"
   },
   "outputs": [
    {
     "data": {
      "text/plain": [
       "7115"
      ]
     },
     "execution_count": 13,
     "metadata": {
      "tags": []
     },
     "output_type": "execute_result"
    }
   ],
   "source": [
    "H.number_of_nodes() #prints number of nodes in the graph"
   ]
  },
  {
   "cell_type": "markdown",
   "metadata": {
    "colab_type": "text",
    "id": "0UU74EGE7j8a"
   },
   "source": [
    "**Prints number of edges in the graph**"
   ]
  },
  {
   "cell_type": "code",
   "execution_count": 0,
   "metadata": {
    "colab": {
     "base_uri": "https://localhost:8080/",
     "height": 34
    },
    "colab_type": "code",
    "executionInfo": {
     "elapsed": 360,
     "status": "ok",
     "timestamp": 1557389590773,
     "user": {
      "displayName": "Priyanka Kumar",
      "photoUrl": "",
      "userId": "04515317227541161014"
     },
     "user_tz": 420
    },
    "id": "DUO8MsyY98be",
    "outputId": "eb883ae2-3914-4a3f-9e44-3be5184b874e"
   },
   "outputs": [
    {
     "data": {
      "text/plain": [
       "103689"
      ]
     },
     "execution_count": 21,
     "metadata": {
      "tags": []
     },
     "output_type": "execute_result"
    }
   ],
   "source": [
    "H.number_of_edges() #prints number of edges in the graph"
   ]
  },
  {
   "cell_type": "markdown",
   "metadata": {
    "colab_type": "text",
    "id": "HCAjM5IX76TJ"
   },
   "source": [
    "**Converted directed graph into undirected one**"
   ]
  },
  {
   "cell_type": "code",
   "execution_count": 8,
   "metadata": {
    "colab": {
     "base_uri": "https://localhost:8080/",
     "height": 34
    },
    "colab_type": "code",
    "executionInfo": {
     "elapsed": 900,
     "status": "ok",
     "timestamp": 1557470256653,
     "user": {
      "displayName": "Priyanka Kumar",
      "photoUrl": "",
      "userId": "04515317227541161014"
     },
     "user_tz": 420
    },
    "id": "ihKoEkj7I5Oe",
    "outputId": "252dee64-c3a4-4037-cab7-6adf3ce42f06"
   },
   "outputs": [
    {
     "data": {
      "text/plain": [
       "False"
      ]
     },
     "execution_count": 8,
     "metadata": {
      "tags": []
     },
     "output_type": "execute_result"
    }
   ],
   "source": [
    "H_undirected = nx.Graph(H) #converted graph H into undirected graph named as H_undirected\n",
    "nx.is_directed(H_undirected)"
   ]
  },
  {
   "cell_type": "markdown",
   "metadata": {
    "colab_type": "text",
    "id": "UvlwpOjP7se4"
   },
   "source": [
    "**Checking if the undirected graph is connected or not**"
   ]
  },
  {
   "cell_type": "code",
   "execution_count": 0,
   "metadata": {
    "colab": {
     "base_uri": "https://localhost:8080/",
     "height": 34
    },
    "colab_type": "code",
    "executionInfo": {
     "elapsed": 317,
     "status": "ok",
     "timestamp": 1557389595432,
     "user": {
      "displayName": "Priyanka Kumar",
      "photoUrl": "",
      "userId": "04515317227541161014"
     },
     "user_tz": 420
    },
    "id": "yLo_BzJNCDD9",
    "outputId": "5834e881-efec-40d1-cb16-1da473765206"
   },
   "outputs": [
    {
     "name": "stdout",
     "output_type": "stream",
     "text": [
      "False\n"
     ]
    }
   ],
   "source": [
    "print(nx.is_connected(H_undirected)) #checking if the undirected graph is connected or not"
   ]
  },
  {
   "cell_type": "markdown",
   "metadata": {
    "colab_type": "text",
    "id": "sCHOUKZT70IR"
   },
   "source": [
    "**Prints number of connected components in the undirected graph**"
   ]
  },
  {
   "cell_type": "code",
   "execution_count": 24,
   "metadata": {
    "colab": {
     "base_uri": "https://localhost:8080/",
     "height": 34
    },
    "colab_type": "code",
    "executionInfo": {
     "elapsed": 331,
     "status": "ok",
     "timestamp": 1557473788323,
     "user": {
      "displayName": "Priyanka Kumar",
      "photoUrl": "",
      "userId": "04515317227541161014"
     },
     "user_tz": 420
    },
    "id": "uCv5boQpDB9h",
    "outputId": "b724e36a-de63-4661-875c-1fa47b61f51b"
   },
   "outputs": [
    {
     "data": {
      "text/plain": [
       "24"
      ]
     },
     "execution_count": 24,
     "metadata": {
      "tags": []
     },
     "output_type": "execute_result"
    }
   ],
   "source": [
    "nx.number_connected_components(H_undirected) #prints number of connected components in the undirected graph"
   ]
  },
  {
   "cell_type": "markdown",
   "metadata": {
    "colab_type": "text",
    "id": "2405qVRw8KQb"
   },
   "source": [
    "**Finds the diameter of undirected graph.**\n",
    "**Since the graph is not connected, the diameter is infinity.So, First largest connected Component is found and then diameter of that component is calculated.**"
   ]
  },
  {
   "cell_type": "code",
   "execution_count": 0,
   "metadata": {
    "colab": {
     "base_uri": "https://localhost:8080/",
     "height": 34
    },
    "colab_type": "code",
    "executionInfo": {
     "elapsed": 650481,
     "status": "ok",
     "timestamp": 1557391301117,
     "user": {
      "displayName": "Priyanka Kumar",
      "photoUrl": "",
      "userId": "04515317227541161014"
     },
     "user_tz": 420
    },
    "id": "VzXZOGAwEWsB",
    "outputId": "080240a8-466b-44ad-98cc-cea58689f7ef"
   },
   "outputs": [
    {
     "data": {
      "text/plain": [
       "7"
      ]
     },
     "execution_count": 49,
     "metadata": {
      "tags": []
     },
     "output_type": "execute_result"
    }
   ],
   "source": [
    "Gc = max(nx.connected_component_subgraphs(H_undirected), key=len) #gives only largest connected component\n",
    "nx.diameter(Gc) #prints the diameter of the each connected subgraph"
   ]
  },
  {
   "cell_type": "markdown",
   "metadata": {
    "colab_type": "text",
    "id": "Ck_uo6EM896l"
   },
   "source": [
    "**Prints average clustering coefficient of the undirected graph**"
   ]
  },
  {
   "cell_type": "code",
   "execution_count": 0,
   "metadata": {
    "colab": {
     "base_uri": "https://localhost:8080/",
     "height": 34
    },
    "colab_type": "code",
    "executionInfo": {
     "elapsed": 3782,
     "status": "ok",
     "timestamp": 1557389622693,
     "user": {
      "displayName": "Priyanka Kumar",
      "photoUrl": "",
      "userId": "04515317227541161014"
     },
     "user_tz": 420
    },
    "id": "xSCQ9MC4ThIp",
    "outputId": "4e89ed82-ebb9-47c0-c920-2d3b1c46b679"
   },
   "outputs": [
    {
     "data": {
      "text/plain": [
       "0.14089784589308738"
      ]
     },
     "execution_count": 25,
     "metadata": {
      "tags": []
     },
     "output_type": "execute_result"
    }
   ],
   "source": [
    "nx.average_clustering(H_undirected) #prints average clustering coefficient of the undirected graph"
   ]
  },
  {
   "cell_type": "markdown",
   "metadata": {
    "colab_type": "text",
    "id": "2BLJpCRq9Efl"
   },
   "source": [
    "**Calculates closeness centrality of the undirected graph and prints top five nodes with the highest closeness centrality**"
   ]
  },
  {
   "cell_type": "code",
   "execution_count": 0,
   "metadata": {
    "colab": {
     "base_uri": "https://localhost:8080/",
     "height": 102
    },
    "colab_type": "code",
    "executionInfo": {
     "elapsed": 5635,
     "status": "ok",
     "timestamp": 1557391965742,
     "user": {
      "displayName": "Priyanka Kumar",
      "photoUrl": "",
      "userId": "04515317227541161014"
     },
     "user_tz": 420
    },
    "id": "HzPSatEWFIUH",
    "outputId": "612ee533-1748-4534-8348-ed990d59b2aa"
   },
   "outputs": [
    {
     "data": {
      "text/plain": [
       "[('2565', 0.48741490125142045),\n",
       " ('766', 0.46691538587304166),\n",
       " ('457', 0.46660487487625174),\n",
       " ('1549', 0.46586133082226927),\n",
       " ('1166', 0.4656758149276032)]"
      ]
     },
     "execution_count": 50,
     "metadata": {
      "tags": []
     },
     "output_type": "execute_result"
    }
   ],
   "source": [
    "cc = nx.closeness_centrality(H_undirected) #prints five nodes with the highest closeness centrality\n",
    "sorted(cc.items(), key=lambda x: x[1], reverse=True)[:5]"
   ]
  },
  {
   "cell_type": "markdown",
   "metadata": {
    "colab_type": "text",
    "id": "UEnjjoxF9Tvv"
   },
   "source": [
    "**Calculates betweenness centrality of the undirected graph and prints top five nodes with the highest betweenness centrality**"
   ]
  },
  {
   "cell_type": "code",
   "execution_count": 0,
   "metadata": {
    "colab": {
     "base_uri": "https://localhost:8080/",
     "height": 102
    },
    "colab_type": "code",
    "executionInfo": {
     "elapsed": 170081,
     "status": "ok",
     "timestamp": 1557417570862,
     "user": {
      "displayName": "Priyanka Kumar",
      "photoUrl": "",
      "userId": "04515317227541161014"
     },
     "user_tz": 420
    },
    "id": "8Wg7cyCkYidM",
    "outputId": "90794de9-120b-403b-df72-09e30606ab49"
   },
   "outputs": [
    {
     "data": {
      "text/plain": [
       "[('2565', 0.017654409558147836),\n",
       " ('1549', 0.016564095998753692),\n",
       " ('15', 0.01156258726064681),\n",
       " ('72', 0.008011822532712367),\n",
       " ('737', 0.006134997021063534)]"
      ]
     },
     "execution_count": 19,
     "metadata": {
      "tags": []
     },
     "output_type": "execute_result"
    }
   ],
   "source": [
    "bc = nx.betweenness_centrality(H)\n",
    "sorted(bc.items(), key=lambda x: x[1], reverse=True)[:5] # prints top 5 nodes with highest betweenness centrality"
   ]
  },
  {
   "cell_type": "markdown",
   "metadata": {
    "colab_type": "text",
    "id": "ulsxeGDD9cGN"
   },
   "source": [
    "**Calculates Page Rank of the undirected graph with damping factor 0.85**"
   ]
  },
  {
   "cell_type": "code",
   "execution_count": 32,
   "metadata": {
    "colab": {
     "base_uri": "https://localhost:8080/",
     "height": 71
    },
    "colab_type": "code",
    "executionInfo": {
     "elapsed": 9070,
     "status": "ok",
     "timestamp": 1557473988471,
     "user": {
      "displayName": "Priyanka Kumar",
      "photoUrl": "",
      "userId": "04515317227541161014"
     },
     "user_tz": 420
    },
    "id": "Cg4iR5AEHgDn",
    "outputId": "b4f4cf45-b854-4873-fed2-f4b0ed9a2cf8"
   },
   "outputs": [
    {
     "name": "stdout",
     "output_type": "stream",
     "text": [
      "Node PageRank\n",
      "{'30': 0.0001519420295970706, '1412': 0.00027009254747362144, '3352': 0.0019525879232285515, '5254': 0.001420883364095316, '5543': 0.0011601173401803375, '7478': 0.0005475256334928842, '3': 0.0002553264053400368, '28': 0.0013206264022200284, '39': 0.00037782528519348654, '54': 0.0002396030366645042, '108': 0.00010589231201963163, '152': 0.00041106746997705536, '178': 0.00044856068330143055, '182': 0.0004715537347278227, '214': 0.0010717293236942457, '271': 0.0009286325801151901, '286': 9.947562011920545e-05, '300': 0.0001281002801454951, '348': 0.000259094694421394, '349': 9.122964848007005e-05, '371': 0.0005852805485038237, '567': 0.0002260313240958663, '581': 7.754809696180836e-05, '584': 0.00010131740024872271, '586': 0.00011940315851059695, '590': 0.0001821208488053907, '604': 0.00012559092792704935, '611': 0.0001437822512124007, '8283': 7.820901519667703e-05, '25': 0.000413529090703603, '6': 0.0014071396248192722, '8': 0.001056689972482109, '19': 0.0002649820810360589, '23': 0.0004136356148522906, '29': 0.0007887451901547966, '33': 0.0003243749402586223, '35': 0.0006779127571699791, '50': 0.0002081273619711354, '55': 0.0007118673684653431, '75': 0.0005473656894094351, '80': 0.0004942660975898623, '86': 0.0010175689344545647, '94': 0.0004896281592528198, '127': 0.0006266537850707115, '154': 0.00033543606100516684, '192': 0.00024941018757378337, '224': 0.00013952438334885478, '226': 0.0002069738310630527, '246': 0.00012379265173474664, '252': 0.00018045132873188938, '255': 0.0004400777294607627, '257': 0.00017724836195021472, '261': 0.00015129339951809644, '273': 0.00010962523066319671, '280': 0.0004420673303784337, '282': 0.0007080502498356278, '299': 0.000818032905778998, '302': 0.00019702363222808987, '306': 0.0010614510615166858, '308': 0.0006930079160849258, '310': 0.0010813448070050129, '322': 0.0002414419060362372, '325': 0.0003194708803498216, '339': 0.00045539209773378005, '356': 0.0002878252411397647, '358': 8.966543361042506e-05, '363': 0.00010954121616646144, '370': 0.0002457266496912061, '373': 0.00010365456948641201, '377': 0.0001692952931517611, '379': 0.0001072983625162341, '407': 0.001224457793204601, '415': 0.0003177110057982932, '422': 8.789266238193594e-05, '428': 0.00011958930694982788, '439': 0.0003308514929623022, '488': 0.00012748529211718945, '514': 0.0001637248552691977, '545': 0.0003241121627194087, '549': 0.0003742874729294911, '560': 0.00027398581521308657, '592': 0.00014875066472029282, '600': 0.0011539769871404585, '645': 0.00012456613199794396, '650': 0.00047769245338756045, '659': 0.0002606151413728842, '664': 0.00018987319977664706, '667': 0.0002488221028269901, '673': 0.0002512879264867429, '675': 0.0001272517064457296, '696': 0.00017974263351938378, '706': 0.0004987569491225492, '723': 0.00011588510196576776, '739': 0.00036780506609893337, '756': 0.000393820905910333, '857': 0.0005047749478985573, '864': 0.00010039545972758729, '893': 0.0002739776973827046, '959': 0.00034744837265517276, '994': 0.00030312461375397954, '1131': 0.0001752221891042038, '3755': 0.0006243013714515196, '8282': 6.796305016771156e-05, '8284': 8.614885344621005e-05, '4': 0.00015164148508051316, '10': 0.0004800223220114014, '38': 0.00013596734833739554, '56': 0.000746246788728239, '130': 0.0001598791170742841, '140': 0.00027746924063628273, '147': 0.00031565161692462555, '151': 0.000527182640852593, '232': 0.0002565595926702496, '243': 0.000463585884058548, '341': 0.0002831382768107119, '606': 0.000101732236801769, '5': 0.00012811806658550201, '61': 0.00010658440003065314, '89': 0.0002236181100142981, '93': 0.00012212258136317842, '153': 0.00014242206420406954, '163': 0.00015202212265135611, '167': 7.719084797313545e-05, '168': 0.00016750034201750254, '175': 0.00014643658216546623, '34': 0.0001815251897635528, '132': 0.00026410563630070824, '135': 0.0002477279319542196, '171': 0.0004780205878130688, '183': 0.0001361252323949348, '216': 0.0001392700019902954, '219': 0.00011540011954039871, '227': 0.00014981329218136092, '228': 0.00022923573114369233, '236': 0.00025675614918268234, '250': 0.00011253553549230457, '258': 9.442666060746529e-05, '259': 0.0006057460864512289, '274': 0.0001514663552207797, '285': 0.0003122925910192243, '290': 0.0007774930729434824, '298': 0.0002026194361389289, '301': 8.478421629454542e-05, '304': 0.0004934727837680166, '317': 0.0007046039661254673, '319': 0.0008611643501483943, '359': 5.1836835017454666e-05, '362': 6.832852124893048e-05, '378': 9.479375273789327e-05, '390': 7.60389771258258e-05, '391': 0.00016469923688512773, '392': 4.29155544452772e-05, '394': 0.00011773071757480651, '396': 0.00012135718826937756, '402': 0.0003514790393614642, '405': 0.00019321421396850227, '406': 0.0002513584396734512, '421': 6.401618546922463e-05, '427': 0.0001478556967965114, '431': 0.00011227650503053194, '432': 0.0008305735277914053, '433': 7.353142387195458e-05, '435': 9.770400419287765e-05, '440': 0.0001189642413833356, '447': 0.00019694959449608764, '538': 6.331123006995502e-05, '564': 0.0001447973472059108, '566': 8.254271867474452e-05, '579': 0.00034916000551113864, '589': 9.65719572023134e-05, '609': 0.00011119858942447619, '613': 0.00011588159778233462, '616': 9.541406602854027e-05, '617': 6.469057483262767e-05, '619': 5.933752335450369e-05, '643': 0.00035508952871243343, '656': 0.0003217191679605175, '665': 0.0009595295674259727, '668': 9.530154098110015e-05, '691': 0.00018298542073343172, '694': 6.365238941013141e-05, '700': 9.944084951565567e-05, '704': 0.0004994129009114233, '717': 7.772488577460543e-05, '730': 0.00033633385528981425, '733': 0.00025198466108755353, '741': 0.00016928163890657957, '761': 0.000359579913311428, '765': 0.0004256537171460652, '779': 7.657335906612435e-05, '789': 0.001505826193800165, '791': 0.00023051658860920397, '798': 0.00021092542224173722, '802': 0.00015376127210258773, '813': 0.0011518521441315677, '820': 0.00015305654103426613, '826': 0.0010790403862257379, '863': 0.0002405702984545162, '871': 0.0004048655012891999, '881': 0.00012365123672742812, '885': 0.00012137604708470411, '895': 0.0002269361525263685, '897': 0.00011153883049570189, '904': 0.000663024810180009, '906': 0.00010202536614147842, '907': 0.00018029949606338582, '913': 0.00015888215383247866, '922': 0.0009062474045186137, '932': 0.00015556412005353717, '936': 0.00011157168074028798, '955': 0.00012088542207044146, '960': 0.0003452128590409706, '963': 0.00019978556896449516, '966': 0.00017532631971751031, '971': 0.0004501494114446704, '972': 0.0001656840832705114, '978': 0.0006274289369769769, '979': 0.00013233854314450308, '983': 4.5089979260773424e-05, '991': 0.00012261264279975214, '993': 0.0014059383638091371, '995': 8.977134886577548e-05, '1007': 0.00013827537559504916, '1014': 0.00026054246503891807, '1022': 0.0001799462830839418, '1026': 0.0008776072733219157, '1032': 0.0002502003758501449, '1035': 0.000311348242724183, '1043': 0.00021559056780706592, '1055': 0.0008514018462731711, '1062': 0.0007831145627059548, '1125': 0.000264921962401043, '1144': 0.00012029101851726037, '1152': 0.0001114998005804358, '1156': 0.00019620187891359573, '1160': 0.00019106382405148796, '1167': 0.000856697355712681, '1168': 0.00010466192387772249, '1218': 0.00015796182442534668, '1220': 8.733061812412254e-05, '1221': 0.00034138823085138914, '1222': 0.00019300801178053352, '1234': 0.00031849693598890306, '1241': 0.0002697245279832088, '1248': 0.0002942031783336297, '1253': 0.00041562682507660713, '1261': 0.0003158771518249717, '1297': 0.0014514923655827594, '1321': 0.00011857176301474473, '1326': 0.0001236339359351102, '1377': 0.000290271084443139, '1389': 0.00016680547008493852, '1390': 0.0003014984700004696, '1394': 0.00018860557805375019, '1396': 0.00012544419811920466, '1428': 0.0010491160897322148, '1439': 0.00019060719064414058, '1441': 0.00031351380166331247, '1442': 0.00020494291349029627, '1446': 0.0001139004528989155, '1453': 0.000487794182295606, '1464': 0.0003846622694960929, '1465': 0.00012140626501054942, '1468': 0.00021282265011042986, '1471': 0.00047766264837597607, '1472': 3.9951459997543824e-05, '1476': 0.0002053512835485358, '1478': 6.924712166167517e-05, '1484': 0.0002517590578386596, '1485': 9.705004982214195e-05, '1487': 0.0005822625176514143, '1489': 0.0004420986624584707, '1490': 0.0001266740403155081, '1497': 0.0003429214115723921, '1501': 0.0002634327589110601, '1506': 0.0003216480944251895, '1507': 7.531832303790625e-05, '1513': 0.00015140323813041032, '1514': 0.00039371295581049943, '1518': 0.00012402863703485175, '1524': 0.00013831586610824732, '1525': 0.00037319072300784876, '1531': 0.00011541983907064702, '1532': 6.107445616285396e-05, '1533': 5.582558261326724e-05, '1538': 0.0005416027771766516, '1549': 0.002851831750051355, '1555': 0.00045245134805662615, '1556': 0.0001286113084166636, '1557': 6.452155985756501e-05, '1563': 0.00016561943283417954, '1569': 0.0001763938829949159, '1573': 0.00023766954243685485, '1587': 0.00014432512948685423, '1597': 0.00014079427574452318, '1610': 0.0001465738036666631, '1619': 9.401296068473457e-05, '1641': 0.00019799699085110525, '1648': 0.0002928543467591246, '1652': 0.00015581164734332654, '1654': 0.00016495443104915143, '1657': 5.131776691424257e-05, '1662': 0.0001697005976382642, '1669': 0.0001057520352859702, '1679': 0.0003597336673050284, '1689': 8.069067624387599e-05, '1692': 0.00010612144348041787, '1701': 0.0006945072181527961, '1716': 9.958697972539234e-05, '1718': 0.0002822702325072555, '1752': 0.0001351477032500016, '1758': 0.00024043138200318588, '1768': 0.00012551200390953528, '1774': 0.0002619864298334216, '1783': 0.0004227763399047193, '1787': 0.00021843088195205084, '1788': 0.00012174789156756283, '1798': 0.00015641994893410437, '1861': 0.00011405179412754588, '1864': 0.00021241157421741328, '1982': 0.0007266552842535427, '2409': 8.904106821149325e-05, '2651': 0.0016034014576339762, '2843': 6.41610797401715e-05, '2909': 0.00044910779759221544, '3892': 0.0004038691146081605, '4037': 0.002885166158797284, '4134': 0.00019282982784938677, '4792': 0.0005229132208973309, '4942': 5.525325975266587e-05, '5323': 0.0001875065460701788, '5697': 0.0013152945988101552, '6227': 0.00027218385008393126, '6330': 0.00038407445355225417, '6624': 0.0007920463597066593, '6765': 0.0002417384731626033, '6790': 0.00034573946730393764, '6965': 3.204862155156989e-05, '7161': 4.0420452535817205e-05, '7632': 0.0008117944860982697, '8290': 0.00041296443845378097, '7': 0.00013900998762207228, '32': 0.0001272110816155221, '105': 0.0001890699681901561, '524': 0.00022083234284801472, '1190': 0.00022464829755377053, '1193': 0.0006264737968329326, '1425': 0.00022682544790920774, '1919': 0.0009309256437644967, '8287': 0.0003280616112086082, '36': 0.0010227543121009602, '49': 0.0002201474056421417, '144': 0.0001929107229743098, '150': 0.0002549902696404876, '389': 6.551309102260419e-05, '506': 0.00017650159359498406, '587': 0.00024254180673359608, '607': 7.212821000425948e-05, '622': 8.376596722580908e-05, '624': 9.244412432179575e-05, '627': 8.156025036233774e-05, '628': 9.847443843982446e-05, '631': 8.934124793394861e-05, '636': 0.00018996336116516459, '637': 0.00022727167811417676, '657': 9.920735597198751e-05, '658': 0.00014851903957768293, '674': 0.00013212120396004546, '677': 0.00020303196889302, '681': 0.00013063147640150158, '687': 6.843365689036468e-05, '715': 0.00030413045986447685, '719': 0.00014774082154362967, '725': 0.00011860704390217587, '749': 0.00040237027339149487, '760': 0.00011640542752494377, '778': 0.0001124910191064939, '806': 9.825254624444497e-05, '810': 0.00026233224250092987, '817': 0.00032359533073699224, '822': 0.0001742502329618616, '844': 0.0003254385296403016, '866': 8.93603010739059e-05, '868': 0.00012658258747401933, '875': 0.00011743962170578374, '878': 0.00018624792085947286, '882': 0.00011165520281393405, '938': 0.0001615918138723729, '977': 0.00014431058554158246, '1092': 7.379336066462717e-05, '9': 0.00038688237197581307, '517': 0.0001611736463449576, '559': 0.00021826084972503422, '626': 0.00040112160256499567, '918': 0.00020628543792154352, '982': 0.00032372472527110745, '1049': 0.00035425608321865696, '1103': 0.0002897664716263895, '1384': 0.0004255748167650965, '1580': 0.00021350384874196707, '1618': 0.0001471165972348886, '1717': 0.0009176208820939758, '1855': 0.00069914033104845, '1966': 0.0004111348423565592, '743': 8.137149294230705e-05, '746': 0.00013902783024421104, '748': 9.359851839656357e-05, '750': 0.00012730809948299408, '11': 0.00301243768596226, '15': 0.002165849083708575, '72': 0.0012887616821434726, '95': 0.0003567846795533526, '204': 0.0005440496299326968, '230': 0.0002874390729329754, '313': 0.0003831052622689979, '332': 0.0002466186665637633, '334': 0.00037384428225816033, '338': 8.714060697458985e-05, '350': 0.0002095984317976817, '372': 0.00020778967351313884, '429': 0.0001240382526860062, '465': 0.0004116308535806218, '575': 8.203141950655062e-05, '608': 0.0004738739694289827, '644': 0.00039954688671582633, '647': 0.0002623116049450603, '684': 0.00011165426069428974, '705': 0.00019588277272667145, '707': 0.0005608102658521779, '710': 0.000541088114916892, '722': 0.0012232405971361558, '744': 6.173196232755225e-05, '762': 0.0013234400715365008, '763': 0.0004965371295670817, '764': 0.0002531974883907332, '771': 0.0002916946760117667, '793': 7.297136557510013e-05, '803': 0.00015927055714054102, '805': 0.0004810052168709765, '825': 0.0010212382439755362, '829': 0.00021579729464666053, '836': 0.00020000116479067842, '837': 8.779349755506577e-05, '838': 0.00030698888234464533, '839': 5.973655852980281e-05, '849': 0.00015818740059649018, '853': 0.0002192705436218783, '859': 0.0002685015857709425, '873': 0.00014782892311507496, '887': 0.00024192370143988776, '908': 0.00025015440809745876, '929': 8.032330796986991e-05, '934': 6.900081053194493e-05, '935': 0.00034216606225479174, '937': 0.0004586082201094794, '941': 0.0006550377468244456, '942': 7.062529371555703e-05, '943': 0.0002191971520666558, '945': 0.00012253515476012727, '946': 0.0006350931517642721, '947': 0.0002718059508417511, '956': 0.00026638077390884985, '958': 0.0001947383703195902, '968': 0.00016662428315650932, '975': 0.00022407370693759254, '985': 0.0001644214613937327, '989': 0.00020590980638662105, '999': 0.00017205894853390585, '1000': 0.0003814179581499293, '1006': 0.0006580997933821066, '1012': 0.0001722934878255332, '1018': 0.00022671901376797947, '1031': 0.0003908213621276302, '1034': 0.0002543044989085431, '1061': 0.0001300120314749157, '1075': 0.00044851953525630573, '1080': 0.0004681523512041823, '1097': 0.00048723466451940567, '1111': 0.0005448530731637581, '1124': 0.00016154190618128503, '1127': 0.00035422276130599254, '1128': 0.0001231779541698093, '1137': 0.0005884351256410591, '1151': 0.002020075677974967, '1154': 0.00018500294422128365, '1164': 0.00042486694669551786, '1165': 0.0002451216572679256, '1185': 0.0003726119454165364, '1186': 0.0013531902360240586, '1191': 0.00018541553810894136, '1196': 0.0001528305453231729, '1199': 0.0003235288510550297, '1200': 0.000549002267339555, '1201': 0.0004885498450234275, '1203': 0.00030374619221130875, '1211': 0.0010239178039362575, '1230': 0.00030247613687596904, '1239': 0.00027456617636700944, '1243': 0.00016730575326923323, '1250': 0.0001928387738261268, '1259': 0.0002933213815938335, '1260': 8.981190953693448e-05, '1279': 0.0007212237831238998, '1282': 0.00011305066710786925, '1284': 0.0003193065016371306, '1285': 0.00031489137183757877, '1286': 0.00044441022784554046, '1296': 0.00020450950913586326, '1305': 0.0013755276670541642, '1307': 0.0004190117362596703, '1310': 0.00029705997555188056, '1319': 0.0009908550215998475, '1322': 0.00029821267576342846, '1330': 0.0001924735504867821, '1353': 0.0002802954614337285, '1360': 0.0003252729631116648, '1372': 9.617344117161651e-05, '1374': 0.0021279555733158145, '1375': 0.00014740286825499184, '1378': 0.00027366574205143086, '1382': 0.00022078760774126209, '1385': 0.000733852091329888, '1402': 0.0002201812782557482, '1407': 0.00022991672109015028, '1411': 0.00022823320720025898, '1413': 0.0002817783098932028, '1418': 0.0001254121935085792, '1420': 0.00016227750736019537, '1435': 7.143284461740995e-05, '1437': 0.0002259649787656904, '1444': 0.00016783166429379777, '1482': 0.00039044242532187046, '1486': 7.357887198875325e-05, '1492': 0.0008689376262599091, '1496': 0.0009949617498197384, '1520': 0.00018948494807435315, '1521': 0.0005635663077360177, '1534': 0.00023226438747866155, '1542': 0.0011232474358509475, '1547': 0.0002571102153219769, '1550': 0.00029868929714740237, '1565': 0.0001535442868883571, '1566': 0.000361711542379933, '1583': 0.0004076277013297425, '1585': 0.0007346847880612264, '1592': 0.0003072854964179448, '1608': 0.0015832488060724698, '1613': 0.00020179433672506017, '1621': 0.0004952650361860807, '1622': 0.0005229101426754073, '1628': 0.0001754224110642515, '1629': 8.470112908717109e-05, '1633': 0.0007881494791734068, '1637': 0.00022785948645795342, '1638': 0.00019733163869263117, '1646': 0.0002746241185347805, '1649': 0.00010559405024318227, '1653': 0.0001857550753040424, '1658': 0.0002344769579493196, '1661': 0.0005259627515543652, '1672': 0.00011945444168068759, '1680': 0.00035689563965171124, '1687': 9.938954740399513e-05, '1688': 0.0004715320716694085, '1697': 0.0004978426154767929, '1700': 0.0006304052973858597, '1706': 0.00029448166888021334, '1707': 0.000273791711114405, '1714': 0.00016314585055449138, '1726': 0.00030359305850586254, '1729': 0.00036997024171921334, '1730': 0.0003008970529110299, '1732': 0.00017683703205627663, '1746': 0.00018939236193381384, '1747': 0.00012103388778036969, '1749': 0.0003609651634534528, '1757': 0.00020748992987929622, '1769': 0.000539645664078115, '1771': 4.462686234100445e-05, '1772': 0.0008235458521603347, '1780': 0.0001556602354886104, '1791': 0.00013371085206656828, '1802': 0.00015383145820526965, '1805': 0.00017697747414345874, '1811': 0.0004271287026285026, '1816': 0.0002849827410861119, '1835': 0.0005578502667936461, '1836': 0.0003654456287114759, '1842': 0.000810125619994364, '1847': 0.0004790910543776346, '1848': 0.00019320804664863634, '1849': 0.00031312865953780444, '1857': 0.00016192665271149486, '1858': 0.00018103904421876366, '1859': 0.00030552989734071125, '1880': 0.00012848267094404308, '1884': 0.0001027987687907061, '1888': 0.0004459762204634467, '1893': 0.0004028564660535144, '1901': 0.0001490627660885795, '1903': 0.0002034189078998617, '1908': 0.00032802092727682915, '1920': 0.00011524640327175877, '1927': 0.00020308011713262048, '1953': 0.0001655779733850106, '1956': 0.0006416061869288811, '1963': 0.0002182217523146794, '1964': 0.00030329833270517826, '1965': 0.0001767887826358593, '1969': 0.00021452913400764258, '1973': 0.00019796443490164255, '1977': 0.0003681999093227906, '1979': 0.00013746750758363585, '1983': 8.616079939804036e-05, '1985': 0.00031578204287417445, '1987': 0.00014781484776593, '1990': 0.00048001992778841325, '1991': 0.0003569154450608644, '1992': 0.0003758240715311863, '1997': 0.0005326829775111879, '2004': 0.00015638327829196538, '2007': 6.788023695762176e-05, '2014': 0.00028950228673396846, '2055': 8.148473848145682e-05, '2060': 0.00010666600472210086, '2062': 0.0007044419936486752, '2066': 0.0010079738554950347, '2071': 0.0002635488408239115, '2073': 0.00021608781965936477, '2076': 0.00014017356677811107, '2079': 0.00012988470806089483, '2085': 0.0002923051912719232, '2091': 0.00025087561102974927, '2095': 0.0002861440175404373, '2097': 0.00017832000236650596, '2101': 0.00010775932864182981, '2109': 0.00027968259060129656, '2114': 0.00048549843394023857, '2117': 0.0004853122796492017, '2119': 0.00011576708010071156, '2128': 0.00026434133564846456, '2134': 0.0003536276853038476, '2137': 0.0001304406516271732, '2144': 0.0005695305846104316, '2145': 0.000995678608213181, '2151': 0.0003909459076027128, '2157': 0.00024693534588183516, '2168': 0.00012806269154726874, '2178': 0.00011758270031445096, '2181': 0.00017062049481137798, '2182': 0.00024003858638932212, '2193': 0.0003331252372015484, '2202': 0.0001132907524602956, '2205': 9.513258202747638e-05, '2206': 0.0001405161236032541, '2210': 0.0006024507063387696, '2237': 0.00211325976703479, '2240': 0.0008198598445034038, '2241': 0.0002271306485031677, '2246': 0.00020920134107455706, '2252': 0.0004343024902541304, '2253': 9.995973769997368e-05, '2257': 0.0004509588723218551, '2273': 0.00025150260209204687, '2289': 0.00032601371586569875, '2294': 0.00019174943004346824, '2328': 0.0018601116715127907, '2329': 0.00015549285380264476, '2332': 0.0002554981152903723, '2333': 0.0001719739969923441, '2339': 0.00022554385904059165, '2341': 0.00017521160408387766, '2345': 0.00016343586691154103, '2350': 0.00011025171954247324, '2362': 6.856858823076536e-05, '2364': 0.0003688207772656234, '2381': 0.0006205220976448541, '2384': 0.0004892426221364327, '2385': 0.00018534101755367214, '2397': 0.0003715265265682434, '2400': 0.0002467577097014189, '2410': 0.0003259425936801055, '2411': 0.0010304632748617496, '2426': 0.00010427668511862889, '2435': 0.0002623083175510356, '2456': 0.00044608266300639955, '2470': 0.0014739898821014622, '2475': 0.00018002484123281912, '2479': 0.0001427760658005177, '2484': 8.605553437659323e-05, '2485': 0.0017068104823183214, '2490': 0.0002769239226148147, '2499': 0.0001375082658151437, '2504': 0.0007907739097332598, '2506': 0.0004641140316294782, '2508': 0.0005669473676108946, '2517': 0.0004161227604277516, '2535': 0.0012242154063996466, '2544': 0.00032164669889140864, '2565': 0.00432884820637688, '2570': 0.00017640832005908898, '2575': 0.00012512879141293688, '2579': 0.00024240084750536941, '2580': 0.0001537217933585381, '2585': 0.0006111525889166435, '2587': 0.0003224948360138724, '2593': 0.0006076822197309774, '2595': 0.0004384319685197228, '2604': 0.0001382802076803007, '2612': 0.00032043144059387457, '2619': 0.0005553969530576364, '2625': 0.0015681746421418433, '2643': 0.000623462834770448, '2646': 0.0003978321879775872, '2653': 0.0009203104969623223, '2655': 0.0004602516793907342, '2657': 0.0008789920752873773, '2665': 0.00026800040450533717, '2669': 0.0001851435170385953, '2685': 0.0003236444395076423, '2686': 0.0007844344673801489, '2696': 0.0004952515584126346, '2720': 0.00011428658872525459, '2727': 0.00043230380968710516, '2746': 0.00047534472820893065, '2754': 0.0002932471559297006, '2760': 0.00031347385739151557, '2763': 0.00029509352835238107, '2775': 0.0007615740278533957, '2777': 0.0001940768811417342, '2787': 0.0002880641895549568, '2794': 0.00032089076366750114, '2811': 0.0003079717140172993, '2859': 0.0008980405746121529, '2871': 0.0016614669704038136, '2900': 0.0005434809822603664, '2923': 0.0004766663201924732, '2932': 0.00047406113756684546, '2958': 0.0006326123278023335, '2981': 0.00041349856100879887, '3002': 0.00031886063029367865, '3005': 0.0005816807062386469, '3007': 0.00037650646863635203, '3010': 0.0006202569140488199, '3014': 0.00041958067803022476, '3024': 0.000598950260258398, '3026': 0.0009904873825828924, '3028': 0.0010889169887681608, '3034': 0.0006697217382487826, '3059': 0.0004628449239294805, '3073': 0.00027765267559878723, '3084': 0.0007917880182369015, '3092': 0.0005634262759766763, '3114': 0.00018635458585673944, '3117': 0.000769563628527138, '3125': 0.0003769463987975947, '3136': 0.00041577338805130754, '3140': 0.00037061785384090684, '3144': 0.0005974289519138211, '3180': 0.00029463989339721967, '3192': 0.0008383869814976532, '3258': 0.0006097995240485646, '3260': 0.0004370719946159852, '3284': 0.0003414251026080111, '3291': 0.000734378108852552, '3309': 0.00025947866112344337, '3321': 0.0004545151000114492, '3334': 0.0010598780833335443, '3394': 0.0008155966143545024, '3404': 0.0006201126088021723, '3433': 0.0002670875030978648, '3439': 0.0006748115344063935, '3443': 0.0006998802744301634, '3447': 0.0013337471439445914, '3452': 0.0007410639436362069, '3453': 0.001518617897360446, '3454': 0.0008824097153004535, '3458': 0.00043072125113714435, '3463': 0.00032405325301019047, '3464': 0.00016804255458032684, '3480': 0.0004920025349100991, '3529': 0.00030114729183876467, '3537': 0.0008416946431513373, '3557': 0.00033356654625160725, '3562': 0.0007261443912817016, '3568': 0.0010270328370074913, '3607': 0.00036549654610201017, '3615': 0.0008471522853085716, '3631': 0.0007409779130574379, '3635': 0.0005349187264036313, '3645': 0.0005331440145752055, '3650': 0.0004887987729567152, '3660': 0.0005017717016704281, '3661': 0.00034265890093717396, '3680': 0.000325685880326636, '3748': 0.0004589862006949447, '3787': 0.0010492704602834309, '3800': 0.0002796478526448198, '3806': 0.00034640547257538105, '3807': 0.0002760636484169505, '3812': 0.0005621986295172266, '3830': 0.00034270837264755593, '3843': 0.00045014111211639395, '3847': 0.0002225308069338189, '3871': 0.0002574946611275834, '3903': 0.0002986303012476528, '3926': 0.00024921716553548813, '3937': 0.00024176327997134232, '3956': 0.0005321334265296967, '3958': 0.0004768970325779189, '3967': 0.00020274323655088757, '3970': 0.00031248843965281386, '4011': 0.00042124094717649823, '4013': 0.00030832405399957674, '4021': 0.0003111381135190335, '4024': 0.00017842281273550722, '4040': 0.0007134805836100283, '4043': 0.00025354330124626996, '4044': 0.0006131410224123237, '4055': 0.00037125065343094965, '4058': 7.700182520840157e-05, '4065': 0.0006913844563195881, '4072': 0.00030539087168448886, '4088': 0.00010362486080591095, '4103': 0.00022927110950959336, '4124': 0.0006549700687463458, '4162': 0.00035836822042563675, '4179': 0.0004646223887556641, '4201': 0.0004760446878041131, '4212': 0.0004629842914528851, '4231': 8.959294633064791e-05, '4247': 0.0006918856655187604, '4256': 0.000438268902971918, '4261': 0.0007640666152846083, '4263': 0.0003103860845053037, '4266': 0.00037277359197400374, '4269': 0.0002894499144648038, '4289': 0.00022825331147741993, '4290': 0.0002653023851464014, '4297': 0.0005471786232067545, '4299': 0.00028095525328982195, '4335': 0.0010766679105350717, '4384': 0.0004220284362257293, '4417': 0.00019720385144865563, '4422': 0.0002522901425416092, '4424': 0.0003074281516726624, '4463': 0.0003964431707836494, '4485': 0.0003347449934554224, '4510': 0.00030094374186697586, '4528': 0.00023828438283608386, '4531': 0.00032556395626087947, '4547': 0.0004320551959663345, '4578': 0.0004136980844096544, '4613': 0.00022793909585907702, '4661': 0.0003887990448838101, '4662': 0.0003592367947021916, '4706': 0.00027669524511549494, '4709': 0.0004026100164159394, '4719': 0.00027876933910889694, '4796': 0.00036802418640340194, '4808': 0.00028502766607086457, '4811': 0.0003216324947778055, '4814': 0.00026622044763526816, '4820': 0.00024420191893357153, '4827': 0.00030644284798280163, '4938': 0.00023518194405652902, '4962': 0.00023680763052377017, '5026': 0.000251332309118934, '5037': 0.0003173544533346737, '5055': 0.00033630135553236473, '5073': 0.0002281707205171885, '5092': 0.00036149719019922124, '5100': 0.00036505529680366523, '5106': 0.0004267125611761902, '5130': 0.00041872597552838344, '5132': 0.00013679572832775652, '5144': 0.00030027075946291535, '5802': 0.001727701476905561, '6170': 0.00019558043740988253, '6496': 0.0004417652569380513, '6715': 0.00034623601422695, '6739': 0.00023350815296771163, '8286': 6.506454940002512e-05, '8291': 0.00037770953958423536, '8293': 0.0010429680020295382, '12': 0.0002987169226754617, '663': 0.0008078876104599307, '697': 0.0005958784848844928, '2708': 0.00028498292053110303, '3371': 0.0003222347963957958, '4233': 0.0002449061025286434, '13': 6.991459715790358e-05, '14': 0.0005523733334001955, '324': 0.00013995997222875228, '368': 0.00011012841729780142, '477': 0.0002092018322443518, '797': 0.00012083016156744594, '1053': 0.0002782622594853835, '1123': 0.0002984082152389753, '2016': 0.0003069321977986028, '8285': 5.674087573184736e-05, '417': 0.0005035262850146539, '737': 0.0018868726207002312, '974': 0.0005105643552161818, '2229': 0.000576316913596311, '2398': 0.0016493476671701206, '4561': 4.9787749154504636e-05, '4600': 0.0006506994860022532, '4645': 0.00014761033217361083, '4658': 2.9330566043988552e-05, '7871': 0.00026313230993964764, '8292': 0.0002003231687866404, '16': 8.506029517877151e-05, '17': 0.00023599850393766185, '18': 7.731017080239944e-05, '20': 0.0008084043937323262, '321': 0.0002830691280199693, '425': 0.00048302146107972034, '861': 0.00017372946195091143, '896': 0.00047720968415133447, '981': 0.00015982368513427239, '1044': 0.0001787862061408139, '1352': 0.000744744301584442, '1604': 0.0001244594154846593, '2165': 0.0001433034292794769, '2281': 7.525035597240705e-05, '2285': 0.0008549085163478251, '2324': 0.0003669966800111939, '2348': 0.00011341327898603828, '2693': 0.0008948719579633573, '2774': 0.000635875758194902, '2828': 0.000227220301689646, '2877': 0.0004118430619807734, '3027': 0.0005564766649564452, '3456': 0.0016261083095514908, '3516': 0.0004903376629400965, '3614': 0.0009424456000602025, '4373': 0.00029467681816706644, '5327': 0.0002211652905693958, '5714': 0.0006647947109657831, '5775': 0.0004961546817045101, '5780': 0.0002442994014910199, '5814': 0.0009884314687051904, '5818': 0.0006121920129823754, '6229': 0.0003912722594626877, '6262': 0.0002850385709184017, '6780': 0.0003766519196375216, '7726': 0.00020220078053399733, '8288': 9.553575385239839e-05, '21': 0.00034589868369699624, '794': 0.00020688361675280553, '2814': 0.00021700379208201888, '22': 2.9912295539110424e-05, '601': 9.123251263475643e-05, '670': 8.490399774032623e-05, '1029': 0.000604120291284771, '1039': 0.00013393432488231703, '1593': 0.00025438492763131315, '24': 0.001213320251348234, '311': 0.0013292473744463199, '633': 0.00048717095004897356, '742': 0.0004685151981408263, '769': 0.0007520334093414879, '856': 0.0006090458170731533, '1100': 0.00016392902967159466, '1267': 0.0005647588229888282, '1315': 0.0002587509888905273, '1357': 0.0006915383866506585, '1416': 0.00037303852405719447, '1419': 0.00035834099720264496, '1473': 0.0007385611715453706, '1548': 0.00027906310358344534, '1705': 0.0004022110366220581, '1723': 0.0004269584253804254, '1734': 0.0005661952931511746, '1754': 0.0005347010741961, '1781': 0.0002627839164298307, '1808': 0.0007481362179381207, '1814': 0.0006624801377714553, '1837': 0.00020524249785298444, '2209': 0.00038325727449305195, '2225': 0.000500060665151158, '2264': 0.0004957568128624433, '2276': 0.0004928692793572934, '2323': 0.0009174843188959953, '2354': 0.0005547886814232672, '2371': 0.000772710486776511, '2375': 0.00043404795706721374, '2516': 0.0008285528842977859, '2542': 0.0006791451387380433, '2560': 0.0008969837924900732, '2660': 0.0010562303842293539, '2667': 0.000825901856724715, '2697': 0.00047043633141999016, '2707': 0.0006688836620423713, '2815': 0.00022132663004011764, '2819': 0.00031346078709928527, '2822': 0.0005165603906181035, '2830': 0.00032387426694316303, '2922': 0.00018976327515064076, '2926': 0.00011072085570567105, '2955': 0.00030413897511078836, '2963': 0.0003533340527366085, '2999': 0.0002783189023078941, '3018': 0.00041231099058055697, '3089': 0.001012244316789691, '3164': 0.00030800938305950684, '3351': 0.00025224691798509974, '3408': 0.0005113422846173691, '3410': 7.427769146393626e-05, '3473': 0.0003581959450523988, '3586': 0.001066587851063214, '3643': 0.0006021452952602193, '3792': 0.00040954033880816854, '3854': 0.0005162683518891632, '3898': 0.00031303827110728275, '3910': 0.0005253116387993606, '4276': 0.0003640702186751233, '4310': 0.0015738804387148873, '4338': 0.0005462357287316696, '4349': 0.0003044089973956812, '4712': 0.0011938846338345138, '4944': 0.00023000242701142452, '4953': 0.0002604844450493968, '4999': 0.00031819442287763395, '5123': 0.0006879214961465306, '5162': 0.0003885413229230728, '5341': 0.0002677936003268361, '5412': 0.0008954239275015323, '5423': 0.0006703759567872281, '5484': 0.0008361508645776052, '5511': 0.00025002142754655524, '5596': 0.00048326264205043716, '5863': 0.00023623390612440137, '6097': 0.00034990097261870465, '6272': 0.0004600313467176228, '6441': 0.00027458675520649847, '6566': 0.0002557336303440662, '6833': 0.00046963444858821646, '6855': 0.00034656410763295425, '6869': 0.00032943829014319114, '6948': 0.00011841391731379584, '6955': 0.00022901041408052739, '7119': 0.00022909415538479257, '7143': 0.00021740387180246048, '7144': 0.0002326439452481082, '1030': 8.129807853945362e-05, '1077': 7.122641337632918e-05, '2801': 0.00021024102033870125, '6251': 0.00022688318861326925, '1023': 0.00016526210045403854, '1038': 0.00010266666824939473, '1166': 0.0026623805922779305, '2120': 0.0008065710081745936, '2135': 0.0008398267252231977, '2297': 0.0009768605149560437, '2594': 0.0006836408669087141, '2599': 0.00019342853674279216, '2620': 0.0004225391559660601, '2689': 0.00033629645866230305, '2831': 0.00046453924270533476, '2834': 0.00024563666194865337, '3150': 0.0002499149898322947, '3274': 0.0004840671656709208, '3489': 0.0003030887735685514, '4099': 0.001218467629970079, '4303': 3.141109386793799e-05, '4483': 0.0008737766948181477, '4574': 0.0004725543497774407, '4717': 0.000504952859103612, '4781': 0.00037357869053128754, '4929': 0.00030880935874422015, '5022': 0.0014092352006103382, '5459': 0.0007490434004502445, '5529': 0.00045794231667951326, '5605': 0.0004323937900640824, '5799': 0.0003895196374999362, '5804': 0.00044507895092198017, '5822': 0.0006670456852127187, '5897': 0.00025555780778964605, '6006': 0.0007663629987797998, '6044': 0.0004045719184811061, '6151': 0.00032441182828959266, '6437': 0.00027974022864645897, '7115': 0.00043771430635046655, '7289': 5.700542722849762e-05, '7908': 0.00039617333596541693, '8174': 0.00042513750272510934, '37': 0.00010166591634320285, '3976': 0.0011997017661661113, '4735': 0.0008815430956645182, '6123': 0.0005387215441739942, '40': 7.18087966339079e-05, '26': 0.0004672585836147725, '419': 4.231035650756028e-05, '41': 0.00015571696083233147, '42': 0.00039557036792812637, '823': 0.00011623262779564581, '1024': 0.0003149766814422172, '6458': 0.0005283391122618197, '7108': 0.000294468391829121, '43': 3.7317894353042656e-05, '44': 0.00020015551125623278, '2652': 0.00010126115358293456, '3813': 0.0006014351493948942, '4687': 0.0006353016667246293, '4795': 0.0006216544042378059, '4875': 0.000983839485947269, '5439': 0.0004652859567245142, '6306': 0.00034002133656505483, '6432': 0.00023656511492676615, '7092': 0.0010378461584328504, '8295': 0.0005162616520328982, '45': 5.609868748912997e-05, '46': 0.00027373044396110233, '3435': 0.0001880173304380813, '3506': 0.00012804469220752883, '47': 0.0006482264976493205, '1236': 0.0004674200592262349, '1300': 2.4880811934337105e-05, '1564': 0.0003643477363844338, '1603': 0.0002910434185230374, '2185': 0.0001059822442315234, '3720': 0.00029191498542562445, '3803': 0.00037482655499553215, '3897': 0.0008037253559660384, '3946': 0.00026071313358395757, '4189': 0.00020430343542249816, '5922': 0.00023408557323182196, '6875': 0.0003472070835223012, '8212': 0.00022573652305087215, '8294': 0.00042539109364650055, '48': 0.0001108008237081852, '51': 0.00013194173531707592, '52': 2.5603524482364185e-05, '53': 0.0001932940091696284, '1744': 0.00041732384654860947, '3276': 0.0007646738425597836, '3646': 0.00019568496536374029, '3717': 0.00019092113654004716, '4183': 5.5869341450118034e-05, '4191': 0.001346419404959113, '4235': 7.23210020005319e-05, '4389': 2.5311239045331732e-05, '4666': 0.0008111386571525493, '4764': 0.00036125195737295537, '5079': 0.0017342053492529548, '5640': 0.00017687004040767268, '5998': 0.0004651376731071406, '840': 0.0002864011514253903, '5404': 0.0006957805051991795, '5545': 0.00034411752024988447, '5582': 0.0005674361871045317, '6198': 0.00012569445609256043, '6498': 0.00023512169013190348, '6503': 0.00020992563744036183, '6913': 0.0005266090145927153, '6946': 0.0008575911489574054, '7040': 0.00015010124952616327, '7052': 0.0008677941449320052, '7295': 0.00030321114946104695, '682': 0.00015168105397883778, '714': 0.0001802619821859941, '784': 0.0009852459175671816, '795': 0.00029936648665766704, '1020': 6.715855066560136e-05, '1432': 6.981552019756328e-05, '515': 7.225149986389665e-05, '2211': 0.0001451812433998725, '57': 7.846661408665882e-05, '58': 0.00018757257129462847, '5378': 0.00035645013203885854, '8237': 0.00017285883019077086, '59': 0.00039919922281058073, '928': 0.0001919842693594458, '1595': 0.00010954749696601097, '1918': 0.00035308879572427455, '2174': 0.0005765116730812465, '2547': 0.0005825938493952875, '2550': 0.0003396097437216033, '2724': 0.0002458758051435557, '2946': 0.0001724732682226451, '2966': 0.0001640172243240148, '2972': 0.001598718169869427, '2977': 0.0001384337463815459, '2979': 0.00010518741336231579, '3015': 0.00035713030500558155, '5624': 0.0003774007225890975, '6166': 0.00014842785476180153, '60': 5.558690028572401e-05, '7624': 0.0002661649638079842, '62': 0.00011275566529208825, '2092': 8.527062436666881e-05, '2247': 6.681507530231572e-05, '27': 0.00047507624319831484, '2369': 0.000978976521700535, '2917': 0.00018600088274807778, '4400': 0.0004977213361054603, '4448': 0.0005337248145052914, '4715': 0.0002643866555041994, '4828': 0.0013241648261538568, '5210': 0.0007912506095805618, '5743': 0.0003481704417840255, '5844': 0.00027154961866547773, '6246': 0.0002476692850610898, '63': 2.4916860258919096e-05, '64': 5.681454134309435e-05, '65': 2.9150173709109475e-05, '66': 0.00021448793690109403, '2799': 0.00022936662343078884, '4588': 0.00023478895399132725, '5614': 0.00016659972354701724, '7961': 0.0003916305342658035, '3238': 0.0007057637842457676, '3459': 0.0011224882883641314, '3479': 0.0006061715803324623, '3498': 0.0007439195900964353, '4098': 0.00029031154662279804, '4994': 0.0003619096701036492, '5061': 0.00025387414659001613, '5321': 0.0005286640706339689, '5524': 0.0020757518576023093, '5683': 0.0003459928099407893, '6004': 0.00044014978790868575, '6774': 0.0009653427632647783, '6832': 0.0008045620687587344, '6979': 0.00045615197975514324, '7050': 0.00029831824495215226, '7279': 0.00043817040801956116, '7620': 0.0010601023429632052, '8042': 0.00027407863657349154, '8128': 0.00018483526263745847, '73': 8.515680467216554e-05, '76': 3.218963916932028e-05, '78': 0.00022935770142860448, '1192': 9.52855332049707e-05, '79': 0.0002623811922818693, '930': 0.00013007106989809767, '77': 0.00014344901226937652, '81': 0.0001224340379605637, '1157': 0.00042958515041300113, '83': 5.8662753600091376e-05, '91': 3.1059887712271254e-05, '67': 9.998606714601176e-05, '84': 2.600936246989786e-05, '85': 2.600936246989786e-05, '2160': 0.0005398258518001934, '2576': 0.00131420681978059, '2809': 0.00023060747928747263, '3050': 0.0001602042987874114, '3310': 0.00023816160513964494, '3576': 0.00012863433267184052, '3681': 0.00017330875618011272, '5028': 0.0004913271169317091, '5421': 0.00018947645958578775, '5449': 0.00041666661912675946, '5936': 0.0002926146106538962, '6094': 0.0002619705185759971, '6327': 0.001029594716208735, '6914': 0.000985356599785165, '6930': 0.000282173968371305, '7553': 0.000919797338696469, '71': 0.0004574373651258304, '1636': 5.6274488592777426e-05, '1915': 0.0002743004455587907, '2106': 0.0001982714533517116, '3804': 0.00017674740121167876, '4780': 0.0001360569200361945, '5058': 0.00016170593515101562, '5671': 0.0002861429876831288, '7809': 0.000527338115036777, '7921': 0.0001485607802158858, '87': 0.0007968130519033592, '2053': 0.00017419230013679908, '2256': 0.0013776136291322575, '2623': 0.0006862632663648782, '2764': 0.0002651352298769503, '2790': 0.0011185705871218927, '2925': 0.00022957963063183112, '3460': 0.0004611585967721605, '3873': 0.0003363515217129627, '3912': 0.00012408228377571405, '3962': 0.0004841721474709312, '4078': 5.8259191148987534e-05, '4110': 0.00054838477936335, '4332': 4.183991701556459e-05, '4453': 0.00028320267187154747, '4632': 0.0011042843396239837, '4748': 0.0003620699517278345, '5020': 0.0010140765095411866, '5072': 0.0003051397709367769, '5200': 0.00043748371027009216, '5308': 9.199075467607027e-05, '5392': 0.0002855176584105528, '5415': 0.00020759262228477624, '5584': 0.0002641998084264081, '5630': 0.00022749477403302953, '5684': 0.00027369237292945383, '5732': 0.0002360143906029545, '5737': 0.00021578125348693873, '5790': 0.00022599480595331077, '5798': 0.00025480130766069995, '5963': 0.0004864176487612409, '6156': 0.0005580563495516804, '6174': 0.00019851140351016052, '6296': 0.00030580160973646403, '6337': 0.0003043505221844691, '6400': 0.0003469391210500468, '6407': 0.00015466519590395252, '6553': 0.00012889306225553028, '6737': 0.00021106343319128517, '7381': 0.00025789119275942577, '7649': 0.0003270959461662101, '7662': 0.00030559026710251486, '8141': 0.00029146911978046326, '88': 2.600936246989786e-05, '1270': 5.1007567195552646e-05, '1612': 0.00036345984029269275, '2991': 0.00014883775571646025, '3921': 4.574743047281591e-05, '3974': 4.399797535173632e-05, '90': 0.00031286817584557156, '1596': 0.0002984072460710107, '92': 4.739644018138829e-05, '82': 2.6823572878289908e-05, '99': 0.00012530572359771607, '1498': 0.0002564889784228675, '3293': 0.0002640218107821085, '4071': 0.0003649271561190427, '5812': 0.0004135525330519596, '6560': 0.0007946231460930071, '6592': 4.740772607770962e-05, '6634': 0.0010621189724804682, '6918': 0.00037127295567542683, '7574': 9.562420855835527e-05, '7588': 0.00012688028942346247, '7803': 0.0003737604579200009, '8132': 9.266169769478301e-05, '96': 3.0120072655837462e-05, '100': 4.666469324163028e-05, '98': 5.623314083455683e-05, '31': 0.00011351360517899686, '102': 5.243523563184452e-05, '1232': 6.408684450616474e-05, '103': 0.00031136999262654035, '2589': 0.0001099799698269204, '2851': 0.0005779241791833049, '4536': 0.0010298536915218793, '5452': 0.00033265979747715144, '5503': 3.238008886011676e-05, '5800': 0.0013608693397138768, '5872': 0.0005220174168194549, '6589': 0.0001173060706644509, '6665': 0.0006656744978271519, '6967': 4.6270153222253945e-05, '7074': 0.00010124507366373384, '7618': 0.0002116160271683479, '115': 4.074688567170909e-05, '116': 3.3815637286341436e-05, '104': 0.0001669709159043072, '106': 6.064168466275004e-05, '3033': 0.0004275490892056866, '68': 0.0011175728561197533, '1159': 0.0002486599523942579, '1792': 0.00034698411614933803, '2001': 0.0004042888386480432, '2072': 0.0005483311279066619, '2102': 0.0003814930382635248, '2307': 0.00020063580116429905, '2325': 0.0002919011295163127, '2338': 0.00026385368632703067, '2440': 0.0004727164248690486, '2597': 0.0002010437702405486, '2618': 0.0003342749305269971, '2654': 0.0014344965711439535, '2765': 0.0002926591587379629, '2912': 0.00031268364963985614, '2951': 0.0002707968119431226, '2973': 0.00027671452065470913, '3021': 0.00023968686960791, '3056': 0.0003666067705699269, '3145': 0.00017979097096507032, '3307': 0.00041684551733594947, '3313': 0.0001054412313547455, '3376': 0.00014646562378229256, '3634': 0.0007754662425487503, '3691': 0.0006100104938283304, '3816': 8.449195418087426e-05, '3949': 0.0001493221885906048, '3980': 7.411006095756002e-05, '4051': 0.00015666254204703647, '4111': 0.00011139173154246229, '4211': 0.0003059610993420484, '4351': 9.952561929832552e-05, '4584': 5.8783570575761066e-05, '4587': 0.0004958569503990198, '4604': 0.00021127260715827958, '4631': 0.00012288042742173753, '4791': 0.00031919137522222154, '4884': 0.0003110006281771396, '4896': 2.455625745444395e-05, '4981': 0.0005775941703075443, '5002': 0.0009449368600466297, '5096': 0.0003470652484255606, '5179': 0.0012966735790850786, '5188': 0.0010110243077244862, '5226': 0.0003767246180659012, '5233': 0.0007534159144745242, '5245': 0.00017044024399763, '5262': 0.0005697788766077003, '5288': 0.0006228397332282916, '5351': 4.263376641506042e-05, '5430': 0.00030269189958879615, '5437': 0.00031360139580488604, '5445': 0.0005188578639667602, '5457': 0.00038173018703939585, '5463': 0.0002633810550733779, '5527': 0.00025073978865407557, '5620': 0.00017822383812417947, '5637': 0.00022545048825690957, '5639': 0.0001046809783686731, '5655': 0.0007119106483027227, '5680': 0.00029449293895001305, '5721': 0.00023979494869183292, '5745': 0.00013481960830205814, '5806': 0.000717206358345108, '5839': 0.0005511092666027218, '5848': 0.00021380455455640042, '5860': 7.75172584196966e-05, '5886': 0.00039173413295946557, '5902': 0.00038933566484307766, '5925': 0.0003258052605196835, '5933': 0.00019803267498950396, '5972': 9.82007178466238e-05, '5994': 0.00026237772676214715, '6083': 6.011749914946597e-05, '6098': 0.00027000032739529556, '6124': 0.0002901921910320248, '6130': 4.789053483707904e-05, '6505': 0.0002843622492188485, '6599': 0.00021154819399003854, '6682': 7.782343192355461e-05, '6784': 0.0007119710738346134, '7063': 0.00030639357018617645, '7094': 0.0001631593703526427, '7168': 0.00026638430894497045, '7233': 0.00043286385010250685, '7341': 0.00012739713824290477, '7544': 0.0002555485140812743, '7795': 0.000249849776113565, '7839': 0.00030283994847486923, '8051': 0.0002938985016061777, '8178': 0.0004166264545946645, '117': 2.860794800464335e-05, '118': 2.860794800464335e-05, '119': 2.860794800464335e-05, '107': 4.963697879789662e-05, '109': 0.000779213820359134, '1074': 0.0004494524782834502, '2511': 0.00024968654954425916, '3752': 0.0002901912129260654, '4361': 0.00042946241647109896, '4401': 0.00034714954822722197, '4441': 0.0008754690093813438, '4786': 0.00011385385144477929, '4798': 0.00026871666836687476, '4940': 0.00045100118576819653, '5140': 0.000435444217645435, '5273': 0.00026616230653315234, '5295': 0.0003177423971580675, '5465': 0.00020784958330385291, '5479': 0.0003139786102465663, '5563': 0.0004619661583679527, '5626': 0.00018411471910096354, '5739': 0.00044518148198113025, '5760': 0.00044288227930385415, '5819': 0.0005366595726770815, '5824': 0.00032331278502148366, '5827': 0.00029579820133132764, '5829': 0.00040870870530860647, '5871': 0.0004853961182622179, '6001': 0.0002548055041883679, '6043': 0.00033620801516393614, '6328': 0.0002654709771976678, '6344': 4.2323291707200456e-05, '6376': 3.524984103403008e-05, '6417': 0.0003533330705474238, '6442': 0.0003122168395684512, '6464': 5.428486133120438e-05, '6481': 0.0002713093885424071, '6511': 7.573027801672857e-05, '6523': 0.000538291548557281, '6528': 0.00016870837131396216, '6529': 7.558178188197635e-05, '6552': 0.00024340733535170006, '6555': 0.0006640546612932968, '6567': 8.422100996394438e-05, '6576': 0.00022821702813117357, '6596': 0.0008767393367062977, '6600': 0.000323518615249528, '6699': 0.00022457510709476307, '6770': 0.00036902632827295304, '6788': 9.23695062001882e-05, '6860': 0.000202168515500736, '6901': 0.0001909844625177708, '6934': 0.0005568065019481606, '6951': 0.0002735772886155712, '6980': 0.0003197908813036189, '7005': 0.0003030523440018576, '7021': 0.0005601729874637554, '7047': 0.0009533003362586726, '7101': 0.00020275428030317802, '7185': 0.00015081165410321868, '7225': 0.0005466632578327307, '7280': 0.0006366905852412698, '7373': 0.00020585739865436423, '7393': 0.00014333009918297422, '7400': 0.00029643939246650543, '7414': 0.0004137272848861604, '7668': 5.2054178926222674e-05, '7694': 0.00017423962929950034, '7757': 0.0003045829155554819, '7763': 0.00035776442924721936, '7788': 0.00019989439000314235, '7810': 0.0002747806100254837, '7924': 0.00030957430976403307, '8297': 0.00023157684910809473, '110': 0.0004544436235805603, '4435': 0.00019214045051992552, '7855': 0.00026586818205282604, '7862': 0.00027834889033377555, '111': 0.00015174292936075912, '120': 6.135673039602514e-05, '112': 2.860794800464335e-05, '121': 7.513987259522135e-05, '122': 0.0007989855094317845, '403': 0.0002820884630287028, '1247': 0.0004856281449862671, '1291': 0.0003287025081390273, '1393': 0.00022367419694275536, '1777': 0.00024479917264786185, '1984': 0.00021666866825834064, '2322': 0.00038509164523410535, '2474': 0.0007930589178575557, '2700': 0.0008041571657777456, '2747': 0.0005947880674075823, '2768': 0.0002608245944738701, '2805': 0.00024215739162813192, '2968': 0.0004004832568566702, '3029': 0.00023882396760852538, '3106': 0.0002825827807513497, '3148': 0.000369993660430089, '3173': 0.00030422337689055924, '3251': 0.000241698051626376, '3253': 0.000408486277965774, '3393': 0.00030773569816033966, '3520': 0.00016395753542740684, '3541': 0.0005257834303766033, '3580': 0.00034395052132770793, '3587': 0.00047091808123419203, '3772': 0.00012352307044830767, '3776': 0.00010176539209051889, '3887': 0.00022824700867751584, '4117': 7.807371839091228e-05, '4365': 0.00028078571327073564, '4530': 0.0003590327508159858, '4964': 0.0005954111742302597, '4977': 0.00025591419529329373, '5155': 0.00034613654127048235, '5335': 0.0004383300030262056, '5454': 0.00035408937649564226, '5506': 0.00021371095193725159, '5509': 0.00023053729274621408, '5592': 0.00012795511800138966, '5651': 0.00024079449035901043, '5947': 0.0003213162942463781, '7699': 0.00035060906843945337, '113': 0.0003994224240225742, '686': 0.0004548580218758304, '5178': 0.0005708253202897686, '7651': 0.00021397080387694224, '123': 2.860794800464335e-05, '124': 4.2733153399556606e-05, '114': 2.860794800464335e-05, '126': 0.00012360466357689954, '346': 0.0004913748694228124, '2290': 0.0007359584679377274, '2687': 0.00020585840175334463, '2928': 8.700754172474059e-05, '3009': 0.0003862277262135173, '3265': 0.00041275617559408784, '3549': 6.165336253674546e-05, '3567': 0.0001596874601069655, '3713': 9.507303951275173e-05, '3769': 0.00017843104614750777, '4234': 0.00019391943253051715, '5928': 0.00025563485264624324, '7012': 0.0002550754547984479, '128': 0.0003358983295576156, '1950': 4.146101030713342e-05, '2069': 0.00015210261752285307, '2340': 0.00012031954889690696, '2366': 9.88421999797926e-05, '2386': 8.498132490551038e-05, '3126': 0.00012076967615184475, '129': 3.909925262520637e-05, '133': 6.86816588771033e-05, '134': 3.156946525669703e-05, '136': 0.00043645064597793364, '1493': 0.0001555161135412918, '3297': 0.00035341157219927335, '3346': 0.00029334092883812366, '3919': 0.00025559309443320955, '4412': 0.00014994245531802959, '4713': 0.00026737885096618307, '5482': 0.0003834168357895539, '5738': 0.0002816559880603157, '5950': 0.00019834687776416294, '5980': 0.00015973605340064106, '6000': 0.0003067307697118015, '6299': 0.0007321865715802154, '6472': 9.143421970406063e-05, '6628': 9.514567726181069e-05, '6670': 4.90893120453833e-05, '6707': 6.544105397646982e-05, '6725': 0.00012453073007027748, '6777': 7.613955107584045e-05, '6805': 7.697367433524099e-05, '6938': 8.549326655511318e-05, '6953': 0.00015337462373376487, '6997': 6.107447520330286e-05, '7054': 0.00040736250917064335, '7301': 0.0004861385372897333, '7442': 0.00014644106704411256, '137': 2.671803157400972e-05, '138': 0.0003289545833944929, '139': 0.00019219567739309665, '141': 2.671803157400972e-05, '142': 0.00013462696822466323, '143': 0.00040442501996621686, '1678': 8.735392443309033e-05, '1955': 4.879736790620596e-05, '145': 9.557982966056765e-05, '5189': 0.0015052045662899182, '6720': 0.00025197579459443884, '146': 2.4814464522685115e-05, '1140': 0.00019423469861538624, '1141': 7.662397456033394e-05, '149': 2.528292538063027e-05, '155': 0.0004378350176394554, '6923': 6.497393164809797e-05, '6993': 0.0004714778112105432, '7116': 0.00020953704895794537, '7493': 6.647500242245802e-05, '7587': 0.0004240466688350735, '7604': 6.875910459195014e-05, '7647': 0.00013876450518140372, '7648': 6.011803967552206e-05, '7652': 6.324750125617608e-05, '7672': 2.5670698330511578e-05, '7701': 9.636128561067919e-05, '7927': 0.0002743654889573631, '156': 3.963497954357972e-05, '157': 0.0001910728671150093, '1114': 0.0001982202850948265, '158': 6.106282649106689e-05, '159': 2.743559660595465e-05, '160': 2.743559660595465e-05, '161': 0.00016056071256519632, '1240': 5.26828142686555e-05, '3429': 4.663769639017468e-05, '162': 3.910933987456966e-05, '6691': 0.0002649321708874417, '165': 3.686118879779101e-05, '4689': 0.00018718116193185182, '172': 0.00048646272248594743, '1571': 0.00032307662776962735, '1972': 0.0008509289344729457, '2356': 0.00042260745465706333, '2510': 0.0005248615230907696, '2662': 0.00026653167004757957, '3020': 0.00044180429810974827, '3030': 0.0003457378018426469, '3099': 0.0002490882149841163, '3243': 0.00019669559476139062, '3338': 0.00022658787942320615, '3670': 0.00014173672618376996, '173': 0.0013356645354351431, '314': 7.629307908939784e-05, '948': 0.00027568400062943433, '1537': 0.0003575723837191952, '6269': 5.7577394232564285e-05, '6414': 0.0004938580474820698, '6606': 0.00010719721062140841, '6994': 0.00025540185264805523, '7813': 0.00017733934249125846, '174': 2.7280241677443492e-05, '74': 0.0003024204360057612, '176': 0.00017413524404995734, '177': 0.00010291832107922775, '1733': 0.00031187433615644634, '1799': 0.00048015837024377515, '4646': 0.00012694171204786963, '179': 9.635576926095837e-05, '180': 0.00023645321559045014, '181': 3.46140549677388e-05, '166': 0.00040072582656207155, '1935': 0.0002343997978784707, '5246': 0.00035036905131570625, '6305': 0.000987157263886353, '6945': 0.00018939273732596009, '7695': 0.00019017553971554922, '8079': 6.825742246043471e-05, '8083': 0.00021827237800604502, '8134': 0.00035750206257593493, '8163': 0.0002154002628881766, '8198': 0.00020711691674747473, '185': 3.772425488023063e-05, '194': 4.290830475836243e-05, '187': 0.00017755866867756576, '188': 3.6088216419676624e-05, '2713': 0.0009174751391858684, '189': 2.625865357827072e-05, '196': 2.625865357827072e-05, '190': 3.088132530761058e-05, '197': 6.943144190195677e-05, '195': 2.625865357827072e-05, '198': 2.625865357827072e-05, '199': 9.461332538688165e-05, '2721': 0.00015327552852388988, '191': 7.631142443551893e-05, '200': 2.625865357827072e-05, '201': 0.00011141307988260265, '202': 5.067971900323265e-05, '203': 0.0001463133376570528, '3835': 0.00037156277068815455, '205': 7.509261435728109e-05, '206': 2.625865357827072e-05, '207': 2.625865357827072e-05, '208': 5.2504602150384267e-05, '209': 6.408234333945432e-05, '210': 2.625865357827072e-05, '125': 0.00014113395836494295, '215': 0.0004261674098764973, '2195': 0.00010576276675730158, '2234': 0.00014406105414851227, '2242': 0.00010178193649661076, '2378': 6.230230667667589e-05, '2736': 9.704004034955622e-05, '217': 2.650234143080685e-05, '221': 6.74872443680541e-05, '222': 6.519685965334596e-05, '223': 0.0001050034423910134, '1793': 8.713769193564515e-05, '225': 2.597030793575726e-05, '240': 4.109377632519347e-05, '242': 2.9769786850686928e-05, '244': 3.7386493503677754e-05, '245': 3.429209875297168e-05, '247': 7.193933936747769e-05, '231': 0.00023607458803584977, '5263': 0.0005035451179227488, '233': 2.597030793575726e-05, '234': 2.597030793575726e-05, '235': 3.0062504497098547e-05, '237': 0.00019153747961382422, '2838': 0.0001991856730898639, '8121': 0.00030465068419194925, '248': 2.597030793575726e-05, '238': 3.6391304794115834e-05, '239': 2.597030793575726e-05, '169': 3.49720890655988e-05, '253': 2.5784988251514777e-05, '254': 0.00013473305392703458, '1287': 4.3775051161941586e-05, '256': 6.719665323225229e-05, '260': 4.559907210640184e-05, '2770': 0.00016141814786204745, '5773': 0.0007122226904639953, '5828': 0.00029162284598298956, '6840': 7.471350231963908e-05, '263': 0.00010875783726626182, '3726': 0.00021402741336176335, '5222': 0.00029236685149986694, '264': 2.5174417221917537e-05, '265': 0.00015038497045430845, '827': 0.00013460916932259506, '5083': 0.000281666159600286, '266': 7.770295526012824e-05, '267': 2.5174417221917537e-05, '268': 3.3625721042100895e-05, '269': 0.00013991771833220715, '270': 7.292227343746162e-05, '4432': 0.00026985790289895436, '276': 5.224315511579977e-05, '277': 3.0231351551658138e-05, '275': 0.00024110904532369753, '2844': 6.203114875700274e-05, '241': 5.779920602475556e-05, '2785': 0.0004961579166808551, '283': 3.222663984040333e-05, '284': 5.409281858013874e-05, '287': 2.778152508769287e-05, '288': 2.778152508769287e-05, '289': 2.778152508769287e-05, '291': 0.0001626271765513942, '2326': 0.0010977640237229188, '3455': 0.0004570506573169609, '4466': 0.00010782987951762029, '4776': 0.00012234034600555873, '294': 2.5461696050755545e-05, '292': 4.898537598253976e-05, '293': 3.39205406800682e-05, '295': 4.39582085180867e-05, '296': 6.399905016995278e-05, '297': 2.5461696050755545e-05, '4983': 0.00043472503453318155, '5793': 2.806008980921679e-05, '3724': 0.0005398046421086914, '4557': 0.0002513191431627015, '249': 8.379914139858234e-05, '303': 3.411245490331162e-05, '1833': 8.667302196637204e-05, '903': 4.269982626721261e-05, '1277': 0.0002459987334355046, '3191': 0.0004633999003555012, '4041': 0.0007073587729141237, '4138': 0.0004819368241687833, '5176': 0.000714499509799723, '5182': 0.00028725371491417745, '5969': 0.00023581818321031438, '6029': 0.00019401948265818593, '307': 4.6822845154355605e-05, '320': 5.559540403229654e-05, '309': 2.5827689803992618e-05, '2121': 6.309965166698131e-05, '3417': 0.0004006490156974305, '3664': 0.0002093934336814639, '4471': 8.200846587747372e-05, '4482': 0.0001884424061658336, '5239': 0.00021177850999762766, '5753': 0.00021337861661983244, '2425': 7.630904770367175e-05, '2605': 0.0004090497130595293, '2672': 8.13233114348987e-05, '2918': 0.00019086023455473135, '2940': 0.0007450091373354265, '3068': 0.0001019821920541483, '3969': 0.0005290080777929959, '4534': 0.0002848702990431466, '4650': 4.58561790965215e-05, '6595': 0.0002306842553394536, '7833': 0.0002786556721777222, '312': 0.0009443431289545776, '315': 0.00034086274763782685, '316': 3.4046322075081054e-05, '305': 5.0884070688697825e-05, '318': 3.674572571564306e-05, '967': 0.000330994195799384, '2592': 0.000288593756776671, '2629': 8.231679989191195e-05, '3547': 7.214271178376862e-05, '3796': 0.0009151509676629854, '4527': 0.00021370277525976702, '4551': 0.0002054895955056228, '4954': 4.158787296042555e-05, '5075': 4.2731458302995694e-05, '6110': 4.7552290766489826e-05, '6347': 0.00034890544797802284, '6570': 0.00015285571121974504, '7910': 0.0002928404571452664, '8037': 0.00014901618567759287, '329': 4.732102398667235e-05, '330': 2.538123419947926e-05, '323': 2.538123419947926e-05, '326': 7.510714380447534e-05, '331': 3.6983621022866414e-05, '327': 5.405191754276898e-05, '251': 5.456464201581703e-05, '328': 7.684707012968981e-05, '333': 3.0200639594223442e-05, '335': 0.00020348069052211222, '5887': 0.00010585788986611832, '7443': 0.00022282689536882593, '7497': 0.0001399295586905911, '7688': 8.498557318229587e-05, '4403': 5.7444762540230646e-05, '336': 0.00014921843271211425, '6221': 0.0003381594651704512, '7450': 0.00025243320315882227, '337': 2.6087729432762208e-05, '340': 0.0001473542310831317, '1266': 5.920845632077211e-05, '2163': 8.534561672488029e-05, '2670': 6.6329931076188e-05, '342': 3.11382546751356e-05, '343': 3.927855862090996e-05, '344': 3.490745270488027e-05, '2501': 0.0001234806261894416, '345': 6.233166891522351e-05, '2251': 0.0004820067100076341, '2416': 0.0003463970888383874, '3104': 0.00011715729148533251, '3446': 8.000198331970792e-05, '3483': 0.00025228143699163594, '3971': 8.76716939691893e-05, '4822': 5.22065779236573e-05, '351': 6.45278560447509e-05, '355': 2.5222983646754357e-05, '352': 6.748424766875781e-05, '353': 4.8315123611807396e-05, '357': 3.138669047653572e-05, '193': 0.0001079996241856768, '364': 8.660531784824328e-05, '365': 6.255060140014425e-05, '366': 8.650492523839092e-05, '369': 2.5704892389916113e-05, '367': 4.6827654824917954e-05, '6388': 0.0003011197869456156, '7277': 0.00031872465101994156, '7422': 0.00015948924055285925, '374': 4.265305779805425e-05, '375': 2.6186880394406245e-05, '376': 0.00016394061945808265, '386': 3.325002048229633e-05, '381': 3.1539255131647157e-05, '382': 2.5638792768969033e-05, '387': 6.805575327946384e-05, '101': 0.0001073222173236762, '383': 0.00020907350064343255, '2674': 0.0005818080025857175, '384': 2.5638792768969033e-05, '393': 2.6328462269911528e-05, '395': 0.0002144187966379431, '4175': 0.0003333416945041096, '4341': 0.00021007862335719785, '5199': 0.0003786242315725884, '6904': 6.939148732049025e-05, '6976': 0.00044077613824538317, '7512': 0.0001494077587225394, '7890': 0.0004259299191923368, '397': 2.7033782142803994e-05, '398': 5.152481344167691e-05, '6890': 6.487261953044893e-05, '399': 4.9291553276257464e-05, '400': 7.890138909064276e-05, '401': 2.7033782142803994e-05, '404': 4.288800778283616e-05, '2433': 0.0003960791132345759, '2617': 0.00026244271023237204, '3130': 0.0003145026696506935, '4846': 0.0004084697038185612, '4980': 0.0002648602122408838, '5559': 0.00014163886449803, '5568': 0.00019720666869824305, '5817': 0.0005700031989990086, '7306': 9.102576219655129e-05, '408': 2.7033782142803994e-05, '409': 3.2888814839462113e-05, '410': 4.9883812771655625e-05, '411': 2.7033782142803994e-05, '413': 2.7033782142803994e-05, '414': 3.51315385876555e-05, '416': 3.013579323481827e-05, '418': 2.5818248036285856e-05, '423': 5.03480852831953e-05, '424': 4.5898638036693717e-05, '2231': 0.0005135552927336266, '2880': 0.00029299321623691934, '5384': 0.00020658761316596727, '5487': 0.0002582947509858226, '5811': 0.0005732279742792785, '5835': 0.00015055224089424352, '6241': 0.00042703099056755036, '6255': 0.00020507268185009984, '6323': 0.00030072297245285605, '6424': 0.0002383621070914482, '6447': 0.0001299604896982113, '6613': 0.00023718373652375176, '6803': 0.00012743412974349934, '6809': 0.0001278069457330851, '6813': 4.6524139070989e-05, '6982': 0.00011214430784179881, '7131': 0.000591676088500922, '7351': 0.0002763262293944819, '7707': 0.0002620189467760059, '426': 0.00023607715832159274, '430': 4.7429229665046254e-05, '618': 7.646229631293163e-05, '4653': 0.0008996165519269203, '5466': 0.0001874850378532079, '5693': 0.0002730937125552648, '434': 4.470005781265751e-05, '436': 2.6054582852990893e-05, '437': 2.6054582852990893e-05, '438': 2.50621504669334e-05, '412': 0.00010440270217329522, '441': 2.50621504669334e-05, '443': 2.597030793575726e-05, '7992': 0.0002210151113513243, '444': 3.102083317813065e-05, '451': 2.597030793575726e-05, '448': 2.597030793575726e-05, '449': 5.693859171268793e-05, '3548': 0.00016053782207222365, '4402': 0.00034110703919512647, '446': 2.597030793575726e-05, '450': 2.597030793575726e-05, '211': 3.276291309365513e-05, '453': 2.6007968492278478e-05, '454': 7.20194114726554e-05, '455': 4.044004989917772e-05, '456': 4.274369549502276e-05, '457': 0.002956712367016676, '1600': 9.190656816116883e-05, '2277': 0.0001370527567335686, '2818': 7.53025851962677e-05, '2996': 0.00011054474448147578, '3200': 0.00018299029192078272, '3324': 0.00011985970061293158, '3409': 5.572347817523432e-05, '3849': 8.910947967885808e-05, '3911': 5.511621057681735e-05, '3922': 0.00015828024364332715, '4173': 0.00012098301211309719, '4315': 0.00038121062090733265, '4488': 0.0003625975897617332, '4507': 0.0002670662410749257, '4621': 5.242225728767483e-05, '4797': 0.00027681679133124406, '4824': 0.000613830954119077, '4831': 9.769585985696449e-05, '4879': 0.00020333451853585667, '4899': 0.0007836397241564851, '4986': 0.00019656601431397333, '5012': 0.00027123164451740346, '5045': 5.362406144616844e-05, '5121': 0.00022838947172689681, '5148': 0.00026713081748978114, '5204': 0.00032051366935484106, '5285': 0.00022804285039438292, '5289': 0.0002614067741692045, '5305': 0.0002024779636375395, '5513': 8.309911672712853e-05, '5623': 0.00010150997036605143, '5631': 4.0213718814536786e-05, '5638': 0.0001600155826063357, '5663': 5.441267616622976e-05, '5705': 0.00012699072244511044, '5757': 7.681552975409609e-05, '5776': 0.00023273698864005257, '5792': 3.188360321775715e-05, '5801': 9.44469021037128e-05, '5809': 0.00013613098993520248, '5830': 5.064286413698838e-05, '5832': 4.086324214696214e-05, '5850': 0.00010367308198997072, '5891': 0.0002925998791092954, '5931': 4.511151941847104e-05, '5932': 0.00027480549383898623, '5973': 0.00014152520624257734, '5991': 9.087187901030029e-05, '6009': 6.274598898182952e-05, '6010': 3.153068256853138e-05, '6021': 6.626308028581357e-05, '6032': 0.0005564000346299406, '6106': 3.538151041872189e-05, '6149': 3.2516920900454294e-05, '6161': 0.00012558237866497395, '6218': 0.0004510885365095668, '6243': 0.0003511016788396581, '6261': 6.900259463973855e-05, '6270': 0.0005203570584404994, '6302': 0.00010504081504786775, '6334': 0.00024003691392778046, '6409': 0.00010380198341924906, '6422': 0.0003867238946011234, '6474': 0.0001256072926823466, '6491': 8.49776371067561e-05, '6554': 0.00016132656716127966, '6571': 9.066612068912187e-05, '6594': 0.00016114961447045856, '6632': 0.00016033822526509683, '6663': 8.078014186963451e-05, '6668': 4.414913672980312e-05, '6685': 7.559671256024613e-05, '6686': 7.032769243337022e-05, '6783': 0.0001960080318355966, '6873': 0.00016765809824402804, '6897': 0.0002006139710992114, '6907': 0.001069498413754673, '7034': 2.4535131676199253e-05, '7073': 0.0002051201221101887, '7237': 0.0002885480258183193, '7238': 0.00029076660497118965, '7389': 0.0001813962514027357, '7491': 6.24434742356367e-05, '7529': 0.0002324923793057419, '7561': 0.0002372594433663514, '7791': 0.0001200804900439745, '7835': 0.0002636819429052127, '7860': 0.00023139880672849426, '7946': 0.00016299972957453595, '7957': 2.4535131676199253e-05, '7965': 0.00016859820359926505, '7979': 0.000239723699182254, '8044': 0.00015811319236316498, '8050': 8.92611840933568e-05, '8209': 0.0001654307967738638, '8219': 0.00021634795121242828, '8224': 0.00022623415833222243, '8226': 6.207702579450852e-05, '8249': 0.0002362026978474087, '458': 4.044941690634295e-05, '460': 3.779855066786208e-05, '461': 4.463183931904322e-05, '462': 4.411322638232049e-05, '463': 5.7851360553980077e-05, '3939': 4.1713389234782337e-05, '3942': 8.224211662530458e-05, '467': 8.053138350377895e-05, '468': 2.7437213730395278e-05, '164': 5.654170913132557e-05, '472': 2.8402916702321982e-05, '476': 2.873644260715672e-05, '479': 5.7506369455107906e-05, '480': 2.873644260715672e-05, '481': 2.873644260715672e-05, '486': 3.937744123520686e-05, '473': 2.775452652643269e-05, '489': 5.500207310227598e-05, '490': 2.775452652643269e-05, '492': 2.5461696050755545e-05, '493': 3.444403725936294e-05, '494': 3.693230863146234e-05, '497': 3.0472824684218347e-05, '498': 3.0138214221079178e-05, '499': 8.701084204246698e-05, '501': 5.8792119208140025e-05, '502': 4.0156059169381607e-05, '504': 2.628078018137672e-05, '507': 2.5739114282832433e-05, '513': 4.1413570557890476e-05, '511': 3.716019333873952e-05, '509': 2.8022054500749214e-05, '516': 2.787482581847412e-05, '519': 2.9919320815539796e-05, '520': 2.9919320815539796e-05, '525': 5.5551362682188356e-05, '521': 4.4208574584042435e-05, '522': 2.9919320815539796e-05, '523': 2.9919320815539796e-05, '445': 4.1089345076988454e-05, '527': 2.7664424349351188e-05, '528': 2.7664424349351188e-05, '531': 2.7664424349351188e-05, '530': 5.2348781899596225e-05, '529': 2.7664424349351188e-05, '534': 3.707109124243682e-05, '536': 4.4422553124887136e-05, '539': 2.933202491510676e-05, '540': 2.597062955250811e-05, '541': 3.621971431568197e-05, '542': 5.136106524551071e-05, '543': 2.6132745902949645e-05, '544': 3.095444212364904e-05, '7646': 0.00021556203664348255, '546': 0.0005673142132472614, '3811': 8.288194789368583e-05, '4199': 0.00017793416152040383, '5298': 6.952028680248648e-05, '5807': 0.00025120212035118796, '6421': 0.0001605633403253805, '6590': 5.4304274915831304e-05, '551': 2.6132745902949645e-05, '218': 3.369903967272113e-05, '547': 2.6132745902949645e-05, '548': 2.6132745902949645e-05, '550': 2.6132745902949645e-05, '552': 3.020981542601504e-05, '553': 0.00010995805831148076, '554': 7.049841065695129e-05, '555': 3.569223700720966e-05, '556': 0.0005097677047150427, '557': 2.6134490774829783e-05, '558': 2.6134490774829783e-05, '561': 3.867908200000299e-05, '562': 2.571224652628507e-05, '563': 2.571224652628507e-05, '565': 0.00013483773319409014, '568': 2.8172605146248372e-05, '569': 2.8172605146248372e-05, '570': 4.264426224353934e-05, '571': 2.8172605146248372e-05, '572': 4.3613184399961586e-05, '573': 2.8172605146248372e-05, '574': 4.552951794520081e-05, '576': 2.630524001564728e-05, '577': 2.630524001564728e-05, '578': 2.630524001564728e-05, '580': 0.00013530229709495935, '2258': 0.0005394089876110125, '5103': 0.0007479004050438946, '5500': 0.00014064302763048536, '583': 0.000123504809266167, '582': 0.00015765039116716708, '4562': 7.068492126901416e-05, '4605': 8.814045884623297e-05, '4728': 0.00010689759899997216, '585': 3.22217051108256e-05, '588': 0.00010499352184311232, '591': 3.0416640661891656e-05, '595': 3.0396456203711945e-05, '593': 2.618816853739803e-05, '596': 2.618816853739803e-05, '594': 2.618816853739803e-05, '597': 2.9256930951620642e-05, '598': 2.528292538063027e-05, '599': 2.528292538063027e-05, '6892': 7.387550067200218e-05, '7912': 0.0002203571689955911, '602': 2.6166275221687386e-05, '605': 2.493699925503585e-05, '610': 2.5953914150919595e-05, '612': 2.654118181618602e-05, '614': 6.457705024410532e-05, '615': 0.0001819560741128671, '495': 5.7299553187522206e-05, '620': 8.88597610005655e-05, '8289': 3.7372356907636726e-05, '621': 2.7280241677443492e-05, '625': 3.330515988392684e-05, '632': 2.571224652628507e-05, '5469': 3.236685259713353e-05, '634': 0.0005974374902020762, '1403': 0.00032179991040973734, '3554': 0.0001898970654504445, '4323': 0.00019888603004009187, '5539': 0.00014717665105749766, '6148': 0.0003769653955157728, '646': 8.86290551664699e-05, '635': 0.00028520914244654704, '638': 2.571224652628507e-05, '640': 4.1214400805161374e-05, '641': 2.9403871206067475e-05, '642': 3.542395908824768e-05, '648': 2.9884252702291395e-05, '649': 0.00019231660387133018, '3082': 5.884660883956102e-05, '3256': 0.00010579212938071821, '651': 3.3071080919204885e-05, '655': 2.612462477223189e-05, '652': 3.10048786910318e-05, '653': 3.0050193957691486e-05, '654': 2.612462477223189e-05, '661': 3.184734735104443e-05, '662': 2.951132330823718e-05, '1961': 0.0001306113483612532, '2223': 0.0002078601608069437, '4480': 0.0002659321210736845, '666': 3.2925401613682524e-05, '639': 0.00014817775868481152, '669': 2.7617759498194723e-05, '672': 2.5724061559907372e-05, '4049': 8.021076536118143e-05, '676': 2.573410187074478e-05, '678': 2.588784532339332e-05, '683': 2.665562018155239e-05, '688': 4.1360879075342606e-05, '689': 0.0002062216878929577, '690': 3.237688797520629e-05, '692': 3.187432641147249e-05, '693': 3.186574696642068e-05, '695': 0.00048219017896949115, '4639': 6.474373655492225e-05, '699': 4.975721926637435e-05, '701': 3.804439410585837e-05, '703': 2.802867680754925e-05, '1819': 5.1942294904433676e-05, '708': 0.0002196660758215435, '2993': 0.00018497920361880367, '709': 2.802867680754925e-05, '3671': 4.128099761214408e-05, '711': 2.802867680754925e-05, '712': 9.518200284242502e-05, '713': 3.932514907451207e-05, '716': 2.6147158201003098e-05, '718': 2.6147158201003098e-05, '3808': 6.261695702641332e-05, '720': 2.6147158201003098e-05, '721': 2.6147158201003098e-05, '2571': 8.259027754210823e-05, '2591': 8.102772627100443e-05, '2607': 8.180318600950831e-05, '2647': 0.00012970757686102432, '2797': 9.402145431839318e-05, '2821': 7.940494016090773e-05, '2825': 0.00013321414778804693, '2856': 0.00031834601535213526, '2902': 0.00012183925109278184, '3255': 6.203807808305745e-05, '3609': 8.64463189168224e-05, '5326': 8.138366332915296e-05, '6714': 0.0006375672745234442, '724': 3.6880816610940665e-05, '726': 3.147991817900569e-05, '727': 0.00015705687131531982, '728': 4.275305869188006e-05, '729': 2.62722288973076e-05, '731': 2.62722288973076e-05, '732': 3.9422920970614105e-05, '1823': 0.00032658368656129314, '1865': 0.0001505800938052624, '3842': 0.0001999590724471564, '4298': 0.00020879057301729544, '5064': 0.00015407817154775683, '5772': 0.00015740520049802687, '6047': 6.817189812026328e-05, '6280': 0.0002832567242465425, '6320': 0.00023759829813319467, '6618': 0.0006871094425526246, '6700': 0.00010654867799709672, '6736': 0.0004081370169673825, '6759': 0.0001248519472545459, '6772': 0.00037541914326122406, '6789': 0.0003065838038021262, '6917': 6.412222957171153e-05, '6924': 0.00017689802835531157, '6933': 5.3910139065338255e-05, '7162': 7.584807999432912e-05, '7186': 7.83064096917335e-05, '7323': 6.327353487703699e-05, '7386': 0.0003852811537692635, '7391': 0.00043792217535972906, '7397': 8.199570236571994e-05, '7449': 0.00024293083165239125, '7517': 0.000136081872620931, '7567': 6.238183537813606e-05, '7593': 7.740755897538273e-05, '7658': 4.78867526867016e-05, '7666': 0.00015092251940828854, '7669': 4.8575180374775203e-05, '7673': 5.9541395105384016e-05, '7675': 0.0001505243911265638, '7730': 6.656773471404686e-05, '7778': 0.00020673153105886305, '7799': 3.967277144579014e-05, '7819': 6.521518610174743e-05, '7874': 0.00010384374071453142, '8168': 0.0002342307628713509, '8192': 0.0003871984375805271, '8204': 6.554284676936821e-05, '738': 5.4919253114824063e-05, '5301': 0.0005564996252697589, '734': 2.62722288973076e-05, '735': 2.62722288973076e-05, '4385': 9.105145462000009e-05, '4386': 6.937094101888666e-05, '6712': 0.00020808369732285998, '7214': 0.0002958455738093763, '7691': 0.0001277937155391503, '745': 2.9609506874446808e-05, '2116': 0.00025034721063940907, '5215': 0.00023410920212931538, '7683': 0.0002142812559812023, '751': 2.628990994227434e-05, '754': 3.0055128651095974e-05, '752': 2.628990994227434e-05, '753': 2.628990994227434e-05, '755': 2.628990994227434e-05, '758': 3.0041727764418044e-05, '759': 0.00033037289974774674, '4777': 0.000244411237417125, '5673': 3.6395792360413616e-05, '766': 0.0029604248476958546, '1971': 2.435338624315843e-05, '2507': 0.0003673489180269589, '2658': 0.0015059340484401178, '3000': 0.00028263161653658674, '3103': 0.00029662628246691176, '3271': 5.865748943913153e-05, '3319': 8.455443100455467e-05, '3320': 0.00017332619103031837, '3348': 0.00037275476016174566, '3381': 0.0008473888128663691, '3486': 6.923249708028442e-05, '3555': 0.00012227605877857914, '3616': 7.886473993410293e-05, '3856': 7.096472321143688e-05, '4219': 0.0005472085418448243, '4500': 0.00020180513651580885, '4529': 0.00014577210878107726, '4583': 5.9870034483999e-05, '5033': 5.336827899986413e-05, '5432': 0.0003361967556076599, '5650': 0.00017526253353365706, '5837': 0.00013888350861869858, '6501': 0.0002422196057791314, '7510': 0.0002927962382825404, '7879': 0.0002047445316698303, '7882': 0.0002468029584390673, '8073': 0.00010636185371356908, '7378': 0.0004821876759902138, '767': 2.466117278512122e-05, '768': 2.8481214833510672e-05, '770': 3.375602142639677e-05, '772': 3.264103500602213e-05, '773': 2.596247457937616e-05, '774': 2.596247457937616e-05, '736': 3.786436253608098e-05, '775': 2.9247638426522273e-05, '776': 2.596247457937616e-05, '786': 2.8978809116804745e-05, '788': 0.00046759451306519216, '2914': 0.00011247917356094976, '5709': 0.00011077238532373554, '6360': 0.00019992681102842526, '780': 3.193985306689995e-05, '781': 5.331771046914073e-05, '782': 5.932329804925761e-05, '783': 2.488169957550592e-05, '4355': 0.000249212941592509, '5120': 3.497691860885109e-05, '5470': 4.2075609156669544e-05, '785': 2.488169957550592e-05, '792': 3.114213180551101e-05, '7899': 6.155056184778561e-05, '796': 4.8511727809437985e-05, '799': 2.6740070002270153e-05, '800': 3.181049988985859e-05, '801': 5.106616527035421e-05, '804': 4.464793635881006e-05, '807': 2.6632768329121156e-05, '808': 3.659716457833289e-05, '811': 3.421070024312274e-05, '812': 3.4306480385809284e-05, '3875': 4.606485549687759e-05, '4181': 0.00015613949254865433, '814': 3.4633030592155144e-05, '815': 3.023992761319587e-05, '816': 0.0001378204060417934, '819': 2.6768273316332005e-05, '821': 2.6768273316332005e-05, '818': 3.1474113587605024e-05, '3465': 4.932774152207182e-05, '824': 3.1656491725737124e-05, '1970': 2.45172073732762e-05, '2638': 7.427363732525248e-05, '3105': 2.45172073732762e-05, '3235': 0.00022237080082797227, '3822': 7.778524827415016e-05, '3908': 2.8036734081849558e-05, '4030': 5.724540249293904e-05, '4678': 6.77198486197379e-05, '4783': 3.9022148226636674e-05, '5426': 5.996410433773489e-05, '5740': 3.212518897149149e-05, '7250': 3.7902846202765225e-05, '8246': 8.514147846290546e-05, '830': 3.3267454039043686e-05, '832': 3.445756303369214e-05, '831': 7.90550934080174e-05, '835': 2.6152650548164684e-05, '841': 0.0002538543738649027, '3914': 6.741467536690171e-05, '842': 0.00013339555448254058, '843': 2.4876023454149447e-05, '845': 2.5293803847003918e-05, '847': 2.5293803847003918e-05, '848': 5.354097493010597e-05, '851': 2.8742040227203266e-05, '854': 0.000422858675762612, '1770': 7.659391678066179e-05, '2112': 6.0469126686619094e-05, '855': 2.8469991760053806e-05, '4014': 3.435380600891247e-05, '852': 0.00017545945397871347, '2910': 4.7680525241933305e-05, '860': 5.316209658083112e-05, '862': 3.4206327362454856e-05, '865': 0.0004201114438895718, '867': 2.594988270523824e-05, '869': 6.456686942077415e-05, '870': 0.00016636917476042746, '2990': 3.9778991773456455e-05, '3023': 3.1674909693062356e-05, '874': 2.6937253357234375e-05, '876': 2.5587654231174034e-05, '877': 2.9052553065795058e-05, '879': 0.0004761927385646668, '3745': 7.717996891625864e-05, '4359': 4.535057402760406e-05, '4550': 0.00043164098104266595, '880': 2.606458099913942e-05, '883': 3.2496565782814244e-05, '886': 3.2279025012006904e-05, '888': 2.6594919089862613e-05, '889': 2.6594919089862613e-05, '890': 2.6594919089862613e-05, '891': 2.6594919089862613e-05, '892': 2.5453280544457696e-05, '469': 6.559246652674377e-05, '898': 6.244132893764693e-05, '900': 4.545963762441387e-05, '1323': 9.639221646520108e-05, '902': 2.9657338592429807e-05, '2751': 6.289360510192554e-05, '905': 2.9872787723909445e-05, '909': 7.407611704967648e-05, '7407': 4.8826454409758306e-05, '7439': 5.073547903185069e-05, '910': 2.8795505092992033e-05, '911': 0.00013404828693109802, '912': 6.058292553825091e-05, '914': 4.815367683154908e-05, '923': 2.5056226231566624e-05, '915': 4.817381576101325e-05, '916': 3.977227126717705e-05, '917': 2.5056226231566624e-05, '919': 2.5056226231566624e-05, '920': 6.170492051309022e-05, '921': 4.458560364428717e-05, '924': 2.5056226231566624e-05, '787': 7.662720724100357e-05, '927': 2.7875161583275717e-05, '926': 4.7906106027854816e-05, '931': 3.363712212685887e-05, '940': 2.5671913152735422e-05, '944': 3.9918593259048705e-05, '2083': 4.5709910407617545e-05, '3629': 0.0001339618056597718, '5253': 9.514278227410631e-05, '949': 5.162304640581923e-05, '950': 5.5391369797820294e-05, '951': 2.546110949107538e-05, '954': 0.00016489311741320968, '957': 3.244837353951858e-05, '961': 8.372753902500003e-05, '965': 2.5725851742584206e-05, '962': 3.498549735907655e-05, '964': 3.727767446124227e-05, '933': 9.496689039260163e-05, '969': 3.0016243260762586e-05, '970': 6.397669811295346e-05, '973': 3.521540716201632e-05, '3205': 2.6076867207271277e-05, '976': 2.618125121066236e-05, '980': 2.617469364324252e-05, '984': 4.870473133072052e-05, '986': 0.00032759987147649034, '988': 0.0011352359285694644, '2974': 0.00019409280132392295, '3538': 0.00010682972508211051, '3809': 0.00011522815738202622, '3825': 2.7819410292891526e-05, '5417': 7.592600502114767e-05, '8122': 0.00012105144755019671, '8124': 0.00012757907949830928, '8130': 5.611897985625519e-05, '987': 2.8609470873959063e-05, '990': 2.6025252789350456e-05, '992': 2.507772090952424e-05, '3888': 6.27474264147531e-05, '3885': 0.00021945585592364985, '996': 0.0011503496955018184, '5784': 0.00012041741129690851, '998': 0.0001359149375284956, '1005': 3.868194263098062e-05, '6027': 4.681912994286982e-05, '7436': 6.676507202915336e-05, '1001': 2.447954692596889e-05, '1002': 2.447954692596889e-05, '1003': 8.645368177505489e-05, '1004': 6.916203592682196e-05, '1008': 5.7011893811436824e-05, '1011': 4.431512565374846e-05, '3301': 0.00011747525877149467, '1013': 0.0001205643193179, '1016': 3.52799611180621e-05, '1017': 3.52799611180621e-05, '1019': 3.52799611180621e-05, '1009': 0.00020024745165194205, '1021': 2.5011255905214572e-05, '1025': 2.5011255905214572e-05, '1027': 4.7552986468101495e-05, '1028': 5.1182485162990795e-05, '1033': 4.3754396036103056e-05, '1037': 0.0003472804069614535, '1040': 2.6206894254104583e-05, '1041': 0.00021157081597275763, '4127': 0.0002647611012811295, '4468': 0.0002232665283142686, '5309': 3.8903716831382274e-05, '6311': 6.993789518857495e-05, '1042': 0.00018699224996294008, '1045': 2.4725247592517125e-05, '1046': 0.00011252960085625602, '1047': 2.4725247592517125e-05, '1048': 2.8071761328216794e-05, '1050': 0.00019167753627655115, '1052': 3.6383814605063065e-05, '1051': 0.0002079385874479494, '1058': 2.4527476120371493e-05, '1059': 3.284123602584647e-05, '1060': 3.146928666507965e-05, '1063': 0.00012952956178160555, '1064': 8.180761693076542e-05, '1067': 2.9094422288542984e-05, '1065': 5.2341876692576776e-05, '1066': 4.576195997617524e-05, '1070': 2.714203324517348e-05, '1071': 2.714203324517348e-05, '1072': 2.714203324517348e-05, '872': 0.00013300934003767696, '5499': 8.932922637412168e-05, '6755': 0.0001147507976859756, '6769': 4.059471744476303e-05, '6850': 0.00019205824574643812, '1084': 4.4302659041683026e-05, '1078': 4.1561183616750376e-05, '1079': 2.947299105607872e-05, '1081': 2.5174417221917537e-05, '1082': 3.639575433088086e-05, '1083': 2.8659225566735088e-05, '1085': 3.9199979986349816e-05, '1086': 5.6839604523874646e-05, '1089': 5.484633694441261e-05, '1087': 2.941839431422499e-05, '1088': 2.5284834760866022e-05, '1093': 3.2564846677058456e-05, '1094': 3.2564846677058456e-05, '1095': 6.414075878564866e-05, '1096': 2.7908060010885412e-05, '3155': 7.573261858602554e-05, '1098': 0.0012211869087628963, '2650': 9.420374945199488e-05, '2781': 0.00012618473134070715, '6568': 2.8660646699176455e-05, '6806': 5.7825061619910566e-05, '7059': 0.00018356170434703298, '7060': 5.6493674677824645e-05, '7110': 8.66033192594434e-05, '7120': 0.00020315226812719385, '7201': 5.7400867185790833e-05, '7262': 0.00011446240522454488, '7634': 5.229396513341418e-05, '8002': 0.00022497998195297153, '1099': 5.6689624755398266e-05, '1104': 2.7908060010885412e-05, '1105': 3.563978520943178e-05, '1106': 3.2462253678089055e-05, '1101': 2.7908060010885412e-05, '1107': 2.7908060010885412e-05, '1108': 2.7908060010885412e-05, '1109': 2.7908060010885412e-05, '1110': 2.7908060010885412e-05, '1112': 2.7908060010885412e-05, '1113': 4.7792292121930316e-05, '1102': 8.496448292234707e-05, '1115': 2.9552910267918958e-05, '1120': 2.4965936486449154e-05, '1126': 3.027371991719565e-05, '1129': 0.0002601350134781019, '1130': 2.5440936035930322e-05, '1132': 0.0002494946017732351, '1133': 0.0015738664156205637, '2129': 0.0002677710586112613, '4047': 5.584890983288843e-05, '4188': 3.80783389121589e-05, '4254': 5.5745704257232734e-05, '4311': 4.532606966511891e-05, '4331': 9.108668420030148e-05, '4558': 7.233437511165126e-05, '4620': 8.477235195390417e-05, '4648': 7.024475108054686e-05, '4677': 7.338705260685964e-05, '4946': 3.482539776901406e-05, '5043': 5.0027806045354934e-05, '5044': 6.422832430867701e-05, '5635': 4.994677973907344e-05, '5977': 6.792037361904812e-05, '6226': 7.515172407533963e-05, '1134': 3.1796410721435966e-05, '1135': 0.0004499780762349549, '1664': 6.235897416857505e-05, '5141': 8.455737145668797e-05, '1138': 3.189943311567128e-05, '1139': 2.855774994960809e-05, '1142': 0.00020215018911198677, '1143': 7.567836335281182e-05, '1068': 3.252585113052567e-05, '1145': 3.069670475714701e-05, '1146': 2.4633183763923582e-05, '1147': 3.2191901663227694e-05, '1148': 2.488169957550592e-05, '1150': 5.116990507910126e-05, '1155': 2.5574585288334958e-05, '1158': 2.5574585288334958e-05, '1161': 2.56761608704858e-05, '2376': 0.00013367620287476945, '3266': 3.56267501870257e-05, '3893': 5.1978618529193476e-05, '6023': 0.000254619988776399, '6164': 6.649662517832736e-05, '1177': 2.7004610515568595e-05, '1178': 2.7004610515568595e-05, '1179': 6.637851566115823e-05, '1169': 0.00013168389327761486, '1170': 3.153314510194725e-05, '1180': 2.7004610515568595e-05, '1171': 2.7004610515568595e-05, '1090': 3.088816284862731e-05, '1172': 2.7004610515568595e-05, '1173': 2.7004610515568595e-05, '1174': 2.7004610515568595e-05, '1175': 2.7004610515568595e-05, '1182': 5.229391528089243e-05, '1183': 5.7025855037187934e-05, '1176': 2.7004610515568595e-05, '1187': 3.285626204514887e-05, '1188': 2.9166519713238172e-05, '1189': 2.5610755246954904e-05, '3193': 6.9163514701861e-05, '1194': 2.57148928442884e-05, '1195': 4.085960345189016e-05, '1197': 3.176678226263834e-05, '1198': 3.559380904526472e-05, '3138': 3.6510545115682155e-05, '1202': 0.0002687658097165951, '1204': 0.0002512976348323967, '1205': 2.517644128256614e-05, '1206': 2.517644128256614e-05, '1207': 0.00012693102943702356, '1208': 2.517644128256614e-05, '1209': 2.517644128256614e-05, '1210': 0.0008454401630810071, '1212': 3.611471650004791e-05, '1213': 2.517644128256614e-05, '1214': 2.9216238542049394e-05, '1215': 0.0002740853322619091, '1216': 2.517644128256614e-05, '1219': 2.6767250454229784e-05, '1223': 2.5122017920059507e-05, '1224': 2.5122017920059507e-05, '1225': 2.5122017920059507e-05, '1226': 2.5122017920059507e-05, '1227': 2.5122017920059507e-05, '1228': 6.344677055588916e-05, '1229': 2.5122017920059507e-05, '1231': 2.5122017920059507e-05, '1233': 7.516333737836815e-05, '1235': 0.0001075005914031307, '1237': 5.1211859330825134e-05, '1238': 2.5122017920059507e-05, '1242': 6.115022160098612e-05, '1244': 2.8906414063151846e-05, '1245': 5.9172392218346446e-05, '1246': 5.298644891312431e-05, '3171': 5.610243824945154e-05, '1252': 2.844441220325093e-05, '1254': 2.4705341080200333e-05, '1255': 2.4705341080200333e-05, '1256': 2.4705341080200333e-05, '1257': 2.4705341080200333e-05, '1258': 2.4705341080200333e-05, '1262': 3.0219915519526448e-05, '1264': 2.490579759429525e-05, '1268': 2.5042771039410814e-05, '1269': 2.5042771039410814e-05, '1271': 2.953462334862467e-05, '1272': 2.9385621028735037e-05, '1273': 2.9385621028735037e-05, '1274': 2.9385621028735037e-05, '1275': 2.9385621028735037e-05, '1278': 0.0003010840299211356, '1276': 2.9385621028735037e-05, '1280': 4.1084049756953184e-05, '1281': 6.048930233781068e-05, '2956': 2.8153166846007563e-05, '1290': 8.100274415068493e-05, '1292': 5.023759793310094e-05, '1293': 0.00015706561465003209, '1294': 2.5194931529565856e-05, '1295': 2.5194931529565856e-05, '1298': 2.470794511693405e-05, '1299': 4.269783482862263e-05, '1301': 3.3838924533483e-05, '1302': 2.532277589496229e-05, '1303': 2.532277589496229e-05, '1304': 2.532277589496229e-05, '3461': 0.00048061730730259886, '3973': 0.0002116402180251723, '4993': 9.778419480031823e-05, '1306': 9.564247306774882e-05, '3867': 5.430520281900716e-05, '1308': 3.682831221893772e-05, '1309': 2.5485552166765748e-05, '1313': 2.5485552166765748e-05, '1311': 3.027671781911361e-05, '1312': 2.5485552166765748e-05, '1314': 2.576563835702415e-05, '1316': 5.005204208669821e-05, '1317': 2.576563835702415e-05, '1318': 2.9269484343413348e-05, '3237': 3.144351408804367e-05, '1320': 4.3356540341468316e-05, '1324': 2.474035395956314e-05, '1327': 2.5461696050755545e-05, '1328': 3.3310757245765134e-05, '1325': 2.5461696050755545e-05, '1329': 3.276508046710366e-05, '1331': 4.467020412712219e-05, '1332': 2.4711183308283823e-05, '1333': 2.9022196180498785e-05, '1334': 2.5399329125756446e-05, '1335': 0.00026256007440346706, '1336': 6.351948077594655e-05, '1337': 2.5399329125756446e-05, '1338': 3.749828727888647e-05, '1339': 3.9980617371825876e-05, '1340': 4.156215022624101e-05, '1341': 3.3713089031231423e-05, '1342': 4.1151218318754066e-05, '1343': 2.9035304204028496e-05, '1344': 3.047528489610542e-05, '1345': 2.5399329125756446e-05, '1346': 3.6705961648576845e-05, '1349': 2.9446386572891616e-05, '1350': 0.0004702495859939668, '1351': 2.516414630219253e-05, '1359': 3.397351359547722e-05, '1354': 5.5030912562142246e-05, '1355': 3.6393355713400814e-05, '1361': 2.516414630219253e-05, '1356': 0.00010112465720896332, '1362': 4.12631754113623e-05, '1358': 9.651398421960291e-05, '1365': 4.768400866542868e-05, '1366': 2.486733884832285e-05, '1367': 0.0001733324840122477, '1368': 0.0001531778393773777, '3785': 0.00014488499970622838, '1369': 2.544903216346859e-05, '1370': 2.544903216346859e-05, '1373': 3.805202611603537e-05, '7088': 0.00019894577560532586, '1376': 2.543831289042327e-05, '1379': 2.543831289042327e-05, '1380': 0.00026147399622406344, '1381': 0.00021378554298433786, '1383': 3.8286588776348726e-05, '1386': 0.0002539535778093365, '1387': 2.6118144826883026e-05, '1388': 3.026806989099623e-05, '1391': 2.5291588882502127e-05, '1392': 2.920622622968786e-05, '1395': 0.0007685231850121494, '1397': 2.6559108087147435e-05, '1398': 2.6559108087147435e-05, '1399': 2.6559108087147435e-05, '1400': 3.5376820086458596e-05, '1401': 3.4326213400897996e-05, '1404': 2.8955714855184694e-05, '1405': 2.8955714855184694e-05, '1406': 3.390427036574011e-05, '1408': 2.8955714855184694e-05, '1409': 2.8955714855184694e-05, '1410': 2.8955714855184694e-05, '1421': 3.0201149856578296e-05, '1422': 2.5252594346022876e-05, '1423': 5.258478982737413e-05, '1424': 0.00021480706781656326, '1426': 2.5524991845959613e-05, '1427': 2.9598369299096962e-05, '2679': 2.4584952082123027e-05, '3080': 5.2354329174214e-05, '1429': 3.326604766108293e-05, '1430': 2.9598369299096962e-05, '1431': 2.5524991845959613e-05, '1433': 2.4584952082123027e-05, '1434': 3.1160714836322324e-05, '1436': 2.520310054262553e-05, '1184': 0.0003261141444630529, '4809': 3.909297814036018e-05, '1438': 2.5852933928232034e-05, '1440': 2.470794511693405e-05, '1443': 3.3552708363084e-05, '1445': 2.6450304612182726e-05, '1447': 4.8716760364125774e-05, '1448': 2.4702396593650293e-05, '1449': 2.4702396593650293e-05, '1450': 2.4702396593650293e-05, '1451': 3.280769909708473e-05, '1452': 2.463798512685952e-05, '1454': 2.6503264605187872e-05, '1455': 2.6503264605187872e-05, '1456': 2.6503264605187872e-05, '1457': 4.0540442755156846e-05, '1458': 2.6503264605187872e-05, '1459': 2.6503264605187872e-05, '1460': 2.6503264605187872e-05, '1461': 2.6503264605187872e-05, '1462': 0.00021954548411476574, '1463': 0.00011731579540110696, '1466': 0.00010945722660042651, '1467': 6.163992786594448e-05, '1469': 4.8377342395571356e-05, '1470': 0.0005977385087870642, '3285': 5.8151904543145545e-05, '5706': 4.4211210539748884e-05, '1581': 4.523769334163599e-05, '1474': 2.8789550572511086e-05, '1480': 0.00018837508621524584, '1481': 2.5028173411816318e-05, '1483': 0.00022459059638429318, '1488': 2.4573971213390384e-05, '1494': 2.4525108217782683e-05, '1495': 5.5527183130249096e-05, '4411': 5.1635445822777203e-05, '1499': 6.586027792513796e-05, '1500': 0.00021197936996577842, '1502': 2.8480399118139314e-05, '1503': 3.460027795166197e-05, '1504': 4.499900821515932e-05, '1505': 3.683676151372438e-05, '1511': 2.476284147771358e-05, '1510': 9.661359781593818e-05, '1512': 2.565347950162998e-05, '1515': 2.5383891060514217e-05, '1516': 2.5383891060514217e-05, '1517': 2.5383891060514217e-05, '1519': 2.4815735192571066e-05, '1522': 0.0005445245016455016, '4012': 5.202328575054653e-05, '6462': 9.703814044150128e-05, '1523': 2.54247935342647e-05, '1527': 2.4692687148479193e-05, '1526': 3.669417083033482e-05, '1528': 2.6218185381207447e-05, '1535': 2.857180816135958e-05, '1536': 2.4518173745474508e-05, '1539': 4.6775460133926246e-05, '1540': 2.8140374151970282e-05, '1541': 2.8140374151970282e-05, '1543': 2.8140374151970282e-05, '1545': 2.8140374151970282e-05, '1546': 2.8140374151970282e-05, '2423': 3.2093892050433994e-05, '5115': 8.455332151307682e-05, '6059': 0.0001300140807850279, '6096': 4.6191014243927515e-05, '1552': 0.0003276430151783699, '1553': 9.73557811115874e-05, '2233': 0.0001730473257441001, '3880': 3.131789516653477e-05, '4009': 6.087100470354703e-05, '4272': 3.8632095143238684e-05, '5312': 7.944056874596781e-05, '1551': 2.4911039424180093e-05, '1554': 4.7059442552869796e-05, '1558': 2.6915512698747412e-05, '1559': 2.6915512698747412e-05, '1560': 3.577747071382201e-05, '3933': 8.535937367575869e-05, '1568': 2.9385621028735037e-05, '1570': 3.7845402465799946e-05, '1572': 3.8301269972780864e-05, '1574': 2.46160002272143e-05, '1575': 2.46160002272143e-05, '1576': 2.6864183557585295e-05, '1578': 2.5383080940341385e-05, '1579': 2.5383080940341385e-05, '1010': 4.531118944460753e-05, '1582': 6.914758268673997e-05, '1584': 2.515892182591588e-05, '1588': 2.4991472999294044e-05, '1589': 7.014797301745505e-05, '1590': 2.5226087687831638e-05, '1591': 2.5226087687831638e-05, '1594': 0.00045095795620127266, '1599': 3.2793951247467226e-05, '1601': 3.619337463577817e-05, '1602': 2.4766891774869356e-05, '1605': 6.261025774537223e-05, '1606': 3.223148731194081e-05, '1607': 2.8889976305344465e-05, '1609': 2.4563806264151677e-05, '1611': 2.485825722343632e-05, '7042': 6.174316279936525e-05, '8149': 4.0374564595495705e-05, '8235': 7.561642479598452e-05, '8148': 0.0001140271882069823, '1614': 0.00029501584450710735, '1615': 0.0006669416020430044, '1616': 2.5167692576763603e-05, '1617': 2.5526362841320638e-05, '1530': 6.539841652996247e-05, '1620': 2.4584952082123027e-05, '1623': 0.0001656814125991205, '1625': 2.902369022213413e-05, '1627': 2.4996858007761986e-05, '1626': 2.8826857507254004e-05, '1630': 2.8089509981453824e-05, '1631': 4.332768199732766e-05, '1632': 3.2052879639317106e-05, '1634': 2.841965201032823e-05, '1635': 2.841965201032823e-05, '1639': 0.00016100960470532343, '1642': 2.4841732503468297e-05, '1643': 2.4841732503468297e-05, '1644': 0.00020821011845670786, '1645': 2.8421330859505098e-05, '1650': 2.4736346859742065e-05, '1651': 2.5625673558875097e-05, '1655': 2.5535726828673628e-05, '1656': 2.5535726828673628e-05, '4580': 2.490700883148821e-05, '1659': 2.490700883148821e-05, '1660': 2.490700883148821e-05, '1663': 2.504418078315193e-05, '1665': 2.4810171861630495e-05, '1666': 2.4810171861630495e-05, '1667': 0.00024116026441055877, '8019': 5.7818642850493135e-05, '1668': 4.330566257563336e-05, '1670': 8.799394816696043e-05, '1671': 2.515441002860206e-05, '1647': 9.764093001295449e-05, '1674': 5.219837591420271e-05, '1675': 2.843701690226705e-05, '1676': 2.4671590374679168e-05, '1677': 2.901689971916757e-05, '4654': 0.00011322418589653616, '1681': 2.9041221741074824e-05, '1682': 2.5425626988438593e-05, '1683': 2.8996218531737524e-05, '1685': 2.5170910206296332e-05, '1684': 5.274309511233784e-05, '1686': 2.475278308501455e-05, '1690': 2.9607588243397717e-05, '1691': 0.00021044886451898398, '1693': 4.327457675917656e-05, '6723': 4.913572089379793e-05, '1694': 2.4850421814236237e-05, '1695': 2.4850421814236237e-05, '1696': 3.585650424433816e-05, '2552': 8.232322951923778e-05, '1698': 2.4850421814236237e-05, '1699': 2.4850421814236237e-05, '2244': 3.7020846429693704e-05, '1711': 5.7007348994043915e-05, '1703': 2.605123194864811e-05, '1704': 2.605123194864811e-05, '1708': 2.605123194864811e-05, '1709': 4.6912722576828064e-05, '1710': 2.605123194864811e-05, '1712': 2.4702396593650293e-05, '1713': 2.4702396593650293e-05, '1715': 2.4874553632452297e-05, '1719': 5.7785605235736504e-05, '1720': 7.585198095191512e-05, '1721': 2.536303687312962e-05, '1722': 7.513335585966441e-05, '1724': 2.536303687312962e-05, '1725': 2.536303687312962e-05, '1728': 2.6739812123414812e-05, '1731': 2.5133934177112122e-05, '1735': 2.4743380983266304e-05, '1736': 2.5427530005064656e-05, '1737': 5.8006493808881155e-05, '6340': 6.278330732177458e-05, '1740': 2.5427530005064656e-05, '1738': 3.410546511132476e-05, '1739': 2.5427530005064656e-05, '1741': 5.702639224833473e-05, '1742': 4.722644822733364e-05, '1743': 2.5802600092952328e-05, '1745': 2.5802600092952328e-05, '1748': 0.00032733591380066333, '4815': 6.069796682263805e-05, '8275': 0.00011277526193944273, '1753': 2.5068950827136235e-05, '1755': 2.5068950827136235e-05, '1756': 0.0003643007941741472, '1760': 2.5480810883275236e-05, '1761': 3.088708643264853e-05, '1762': 0.0002146635272091054, '1763': 2.635211891582982e-05, '1764': 2.9212612798979374e-05, '1765': 3.8339888751835e-05, '1766': 0.00013004988263905793, '1767': 0.0004019233213006469, '2678': 2.461742944788675e-05, '2798': 2.4696459732591275e-05, '3999': 4.520859824203137e-05, '1759': 3.9800233092307986e-05, '1773': 2.4711991426481538e-05, '1775': 2.4650752509317306e-05, '1778': 5.50003550844854e-05, '1782': 2.8612392082519893e-05, '1751': 0.0001558901039922858, '1784': 2.5104115998454425e-05, '1785': 2.5104115998454425e-05, '1789': 6.429356121251403e-05, '1790': 2.8797396940369675e-05, '1795': 0.00017717602312716232, '679': 3.432420856883083e-05, '1796': 0.00016614383320436054, '1797': 2.53482967362067e-05, '5569': 4.334840366634572e-05, '1800': 0.00010498228393913537, '1803': 9.254210399548363e-05, '1804': 2.5250652676403697e-05, '1806': 2.5250652676403697e-05, '1807': 5.310139448721445e-05, '2645': 8.225242789439728e-05, '5271': 4.332975365131555e-05, '5296': 0.00010865373830799077, '1809': 2.9294774852391357e-05, '1810': 2.5250652676403697e-05, '1812': 3.8701468314965286e-05, '1813': 0.00016879254585307267, '4552': 6.80430774222944e-05, '8186': 5.1166860234392296e-05, '5146': 3.903085567101023e-05, '1820': 0.00034320383204174295, '1821': 5.8037421364549264e-05, '3669': 6.907327189396209e-05, '1822': 6.191143848282891e-05, '1825': 2.57390073267493e-05, '1826': 2.57390073267493e-05, '1827': 2.9330300552200293e-05, '347': 5.691987206851624e-05, '1828': 3.113879971928581e-05, '1829': 2.9559049375138753e-05, '1838': 0.00023958984601465724, '1830': 3.439734472942132e-05, '1831': 3.439734472942132e-05, '1832': 4.490762643291865e-05, '1834': 2.57390073267493e-05, '1839': 2.57390073267493e-05, '1840': 3.092569367524773e-05, '1841': 2.57390073267493e-05, '1844': 2.6482013053112764e-05, '1845': 2.6482013053112764e-05, '1846': 2.6482013053112764e-05, '5208': 7.669837702363488e-05, '7146': 7.459943251747593e-05, '1852': 2.6482013053112764e-05, '1853': 2.6482013053112764e-05, '1856': 2.5126342836563913e-05, '1860': 2.5126342836563913e-05, '1862': 2.838566059870049e-05, '1866': 2.6030776171131673e-05, '1867': 3.158355345399121e-05, '1868': 0.00010652858094694284, '1869': 3.1725798666143134e-05, '1870': 2.4902262708965706e-05, '1874': 5.53353426867373e-05, '1875': 0.00014186765183072528, '1871': 2.4902262708965706e-05, '1872': 3.974394157080106e-05, '1876': 3.324319596167772e-05, '1873': 2.4902262708965706e-05, '1879': 7.090290611312394e-05, '1881': 2.555359467440246e-05, '1882': 2.555359467440246e-05, '1883': 2.555359467440246e-05, '1885': 0.00018091600856870533, '1886': 3.658467754471387e-05, '1887': 2.8268173197282153e-05, '1889': 2.4746045008167613e-05, '1891': 0.00015966317057774582, '1892': 4.0552181732676746e-05, '1894': 2.5172596566257205e-05, '1895': 2.5172596566257205e-05, '1896': 0.00021480089474107676, '1897': 2.4604348849690793e-05, '1899': 4.3360775427504764e-05, '1900': 2.5282378712577587e-05, '1902': 2.4904865120180636e-05, '1905': 2.6530055432824755e-05, '1906': 2.6530055432824755e-05, '1907': 2.6530055432824755e-05, '1909': 2.6530055432824755e-05, '1911': 2.6530055432824755e-05, '1912': 3.36124572130886e-05, '1913': 2.6530055432824755e-05, '1914': 2.911597675596433e-05, '1916': 2.5309427107762926e-05, '1917': 2.5309427107762926e-05, '1921': 2.459501887458696e-05, '1922': 0.0007931799267408824, '3201': 3.4554419155722306e-05, '1923': 3.0476280708427725e-05, '1924': 4.2033742871122834e-05, '1925': 0.00011011182365101751, '1928': 4.999245915270272e-05, '1890': 2.6268907009074685e-05, '1926': 2.6268907009074685e-05, '1929': 2.6268907009074685e-05, '1930': 2.6268907009074685e-05, '1931': 8.244106207636051e-05, '1937': 7.34879223868555e-05, '1932': 2.6268907009074685e-05, '1933': 2.6268907009074685e-05, '1938': 2.6268907009074685e-05, '1934': 2.6268907009074685e-05, '1939': 2.6268907009074685e-05, '1940': 4.2766792195672454e-05, '1941': 2.5241225660861983e-05, '1943': 3.639093185598373e-05, '1944': 2.86471261030938e-05, '1945': 2.8651269482935445e-05, '1946': 3.6642767044677855e-05, '1947': 7.450573011344027e-05, '4031': 7.966625087691682e-05, '1948': 8.148678070401502e-05, '1951': 0.00012609896910689236, '1958': 2.59434768925303e-05, '1959': 2.59434768925303e-05, '1960': 2.59434768925303e-05, '1962': 0.000138501307309134, '6621': 3.686131518469241e-05, '6762': 4.170223207328193e-05, '1967': 0.00013541139746418447, '1968': 3.2485933267513005e-05, '1975': 2.4943272683619094e-05, '1976': 4.875583023156747e-05, '1978': 2.4943272683619094e-05, '1952': 3.18057695060124e-05, '1980': 0.00019060735842018212, '1981': 2.881202960462557e-05, '1986': 8.42896189187076e-05, '1988': 2.4659260034265187e-05, '1989': 2.4659260034265187e-05, '1993': 3.1779204156999346e-05, '1994': 2.441596484589006e-05, '1995': 3.189151709870009e-05, '1996': 2.441596484589006e-05, '1794': 0.0001125208551394302, '2000': 2.4459160224893944e-05, '2002': 2.5218500709981928e-05, '2005': 2.4983186599178083e-05, '2008': 2.8931281855585845e-05, '2009': 0.0002664486685870654, '2040': 2.8931281855585845e-05, '2010': 0.0001393531996707017, '2011': 3.915041492731236e-05, '2012': 3.656998784615177e-05, '2013': 2.8931281855585845e-05, '2042': 3.724504176106082e-05, '2015': 2.8931281855585845e-05, '2017': 2.8931281855585845e-05, '2018': 3.724504176106082e-05, '2019': 2.8931281855585845e-05, '2020': 2.8931281855585845e-05, '2021': 2.8931281855585845e-05, '2044': 3.724504176106082e-05, '2023': 2.8931281855585845e-05, '2024': 2.8931281855585845e-05, '2025': 2.8931281855585845e-05, '2026': 2.8931281855585845e-05, '2027': 2.8931281855585845e-05, '2045': 2.8931281855585845e-05, '2029': 3.2267561166294654e-05, '2030': 2.8931281855585845e-05, '2031': 2.8931281855585845e-05, '2032': 2.8931281855585845e-05, '2033': 0.00010783941400497244, '2034': 2.8931281855585845e-05, '2035': 2.8931281855585845e-05, '2036': 3.724504176106082e-05, '2037': 5.803594621860654e-05, '6111': 5.926068876954238e-05, '698': 6.576511315141592e-05, '4216': 7.897572911468572e-05, '2038': 4.4850109550320034e-05, '2049': 3.218774551348597e-05, '2050': 3.539523777225529e-05, '2051': 2.4799545121148292e-05, '2052': 7.538568032406292e-05, '2054': 3.33227667533124e-05, '2056': 2.5315397527682837e-05, '2057': 2.5315397527682837e-05, '2058': 2.5315397527682837e-05, '2059': 3.664406946535831e-05, '2061': 3.5504299476518804e-05, '2063': 0.00011192140433543303, '2064': 2.859678896910084e-05, '2065': 0.00020729269370585703, '2068': 3.8886652996521635e-05, '2070': 2.481026376420359e-05, '2077': 2.4493218344029706e-05, '2081': 2.5163754305693756e-05, '2082': 2.5163754305693756e-05, '2084': 8.625209782655378e-05, '2086': 2.6732213021423296e-05, '2087': 2.6732213021423296e-05, '2088': 5.412538764779845e-05, '2089': 2.6732213021423296e-05, '2090': 2.6732213021423296e-05, '2093': 0.00023207890959397044, '2096': 2.8394304985571696e-05, '2422': 2.8421754990932353e-05, '2100': 2.613795536441397e-05, '2099': 0.00013159380033818301, '2104': 2.9034228656658705e-05, '2103': 2.8322855130820847e-05, '2105': 6.181282909939893e-05, '2108': 3.787693991158128e-05, '2110': 3.380362243986735e-05, '2111': 3.621166882825135e-05, '2115': 8.487100482479401e-05, '2118': 0.0004307556867549797, '6321': 3.5815773731329896e-05, '7994': 5.997252924250553e-05, '8225': 5.230562248924368e-05, '2125': 3.12173154150099e-05, '2126': 2.4469051504656306e-05, '2127': 3.3030580539455335e-05, '2130': 5.646055240580098e-05, '2131': 2.4469051504656306e-05, '2132': 2.4469051504656306e-05, '2133': 0.0005146462171206587, '2136': 2.532625202709034e-05, '2138': 2.4735841259949072e-05, '2139': 3.349694627829267e-05, '2141': 2.971129064291775e-05, '2142': 3.201944142589507e-05, '2143': 2.6097051570902728e-05, '4218': 0.0001232072346897431, '2146': 2.6097051570902728e-05, '2147': 2.6097051570902728e-05, '2148': 2.6097051570902728e-05, '2149': 3.109169811759775e-05, '2150': 2.6097051570902728e-05, '2152': 3.7709531459337775e-05, '2156': 0.0001868696325888687, '2155': 2.4810193307375205e-05, '2159': 8.731552013310111e-05, '2161': 3.306306401608629e-05, '2164': 2.4893551420534404e-05, '2167': 2.5420016725828032e-05, '2169': 0.00014537673300016045, '2170': 2.8951673464019545e-05, '2171': 7.871238944987049e-05, '2172': 0.0001367168123368798, '2173': 2.4696459732591275e-05, '2175': 2.710483044750586e-05, '2176': 8.576968012856723e-05, '2177': 3.378809239038029e-05, '2179': 2.5896977041192754e-05, '2180': 2.5896977041192754e-05, '2183': 3.009711795466493e-05, '2184': 3.814598926126761e-05, '2186': 0.0002440978453667498, '2187': 2.5289594359929296e-05, '2188': 3.3963356608947016e-05, '2189': 2.5289594359929296e-05, '2190': 2.5289594359929296e-05, '2191': 2.5289594359929296e-05, '2192': 4.501798928973789e-05, '2194': 3.4935802163906104e-05, '2196': 3.438814824564923e-05, '2197': 4.141541679675905e-05, '2198': 3.829935898228729e-05, '2199': 2.5591723751008912e-05, '2200': 2.9942650916204325e-05, '2201': 2.640486495307427e-05, '2203': 2.6076867207271277e-05, '2204': 2.6076867207271277e-05, '2212': 2.486365047081274e-05, '2213': 2.486365047081274e-05, '2214': 3.264489564756849e-05, '2215': 8.798122147455435e-05, '2216': 2.5142831025784988e-05, '2217': 6.770062917043142e-05, '2218': 2.6542461769255392e-05, '2219': 2.6542461769255392e-05, '2221': 2.5472596971533228e-05, '2222': 2.5472596971533228e-05, '8033': 4.150612331382316e-05, '2224': 3.180876438454634e-05, '2226': 0.00012783418121395504, '2227': 3.4574923486597277e-05, '2228': 2.5620223812296176e-05, '2230': 0.00021371097439569638, '3623': 3.60667958149193e-05, '2232': 7.429134862358056e-05, '2235': 2.4567029005393804e-05, '2236': 0.0002872864214998417, '2238': 2.5703309379760113e-05, '2239': 2.4711150988138832e-05, '2041': 4.2928449056105214e-05, '2243': 2.7245737693478935e-05, '2249': 0.00016615244046895477, '2250': 3.281019794520089e-05, '2254': 4.196958034965282e-05, '2255': 0.00013579070210014918, '3737': 4.760472473536986e-05, '2259': 2.493275306034044e-05, '2260': 2.557955965655067e-05, '2261': 2.557955965655067e-05, '2262': 2.557955965655067e-05, '2153': 3.7463079720065615e-05, '2266': 2.4966561974434745e-05, '2267': 2.5605177015168904e-05, '2268': 2.5605177015168904e-05, '2269': 3.116517618211681e-05, '2270': 2.5605177015168904e-05, '2274': 0.0002206822437506016, '5393': 9.671999026706242e-05, '7490': 0.000151859055459249, '8175': 2.555110525504545e-05, '2278': 3.776003619407714e-05, '2280': 3.169048043516237e-05, '2282': 4.3603343374407286e-05, '2283': 2.4553871714749846e-05, '2286': 4.162003798740202e-05, '2287': 3.467064202878077e-05, '3556': 9.284279407879644e-05, '6055': 3.37217211072233e-05, '2288': 2.453749417073576e-05, '4876': 2.8760526670056016e-05, '2291': 2.536446093127534e-05, '2292': 2.536446093127534e-05, '2265': 2.536446093127534e-05, '2293': 2.8967154154178923e-05, '2295': 2.925269653242582e-05, '2296': 2.9861346801174303e-05, '3770': 0.0001573327668055843, '2298': 0.0002032043646869298, '2299': 0.00026828510767452896, '2300': 2.5281566893207365e-05, '2301': 2.5281566893207365e-05, '2302': 2.5281566893207365e-05, '2304': 0.000140548137737175, '2305': 0.000140548137737175, '2308': 2.8584117573458672e-05, '2310': 2.8584117573458672e-05, '2311': 2.8584117573458672e-05, '2312': 2.8584117573458672e-05, '2313': 2.8584117573458672e-05, '2314': 3.7438727211861695e-05, '2315': 2.8584117573458672e-05, '2309': 3.7722256411448974e-05, '2316': 4.310106429802075e-05, '5375': 0.000261955497059066, '2317': 3.3946976659047564e-05, '2318': 3.3946976659047564e-05, '2319': 3.7626110836045876e-05, '2320': 3.3946976659047564e-05, '2321': 4.3101064298020744e-05, '2330': 2.9693468448427735e-05, '1561': 2.5627818768841342e-05, '2331': 2.9568602734347122e-05, '2334': 2.669466334648988e-05, '2335': 2.669466334648988e-05, '2336': 2.669466334648988e-05, '2337': 2.669466334648988e-05, '2342': 5.772792515633228e-05, '2343': 5.2244024279119876e-05, '2344': 2.5140581048024826e-05, '2349': 2.9326969543399636e-05, '2351': 2.5076905612724773e-05, '2352': 2.857305205163622e-05, '2353': 2.5076905612724773e-05, '2272': 0.00013340671535975074, '2357': 6.34920132962996e-05, '2359': 2.8217668545261907e-05, '2360': 3.103557380971257e-05, '2361': 2.9385629842235615e-05, '2363': 3.601534258877258e-05, '2365': 0.00031715059437839013, '2367': 5.3225047096549174e-05, '2368': 8.418018887899962e-05, '5231': 0.00024535065197323985, '5255': 0.00011386415433549498, '5303': 3.242291466381274e-05, '5467': 7.501021761545208e-05, '5564': 5.839529167927383e-05, '5664': 4.0306568332685096e-05, '6041': 5.281785225012234e-05, '6107': 3.502826515121301e-05, '6235': 5.1336194645272906e-05, '7928': 0.00015086266459689787, '2370': 3.0103624400139204e-05, '2372': 5.595892207366702e-05, '2374': 2.4911655976621427e-05, '2379': 0.00019503669922533805, '2380': 2.4547939088136898e-05, '2382': 2.4573971213390384e-05, '2387': 0.00027649639325314185, '5354': 6.564327244724769e-05, '2388': 2.529050832689017e-05, '2389': 2.529050832689017e-05, '2390': 2.8906103079526398e-05, '2392': 2.5633002044588426e-05, '2391': 2.5633002044588426e-05, '2394': 2.5633002044588426e-05, '2395': 2.5633002044588426e-05, '2396': 2.5633002044588426e-05, '2393': 3.799972187167904e-05, '2399': 2.7914167986133112e-05, '2401': 2.8507866950504902e-05, '2402': 3.258507140285374e-05, '2403': 2.9091001899060336e-05, '2404': 2.57390073267493e-05, '2405': 2.57390073267493e-05, '2406': 2.8939412419704445e-05, '2407': 3.6206386473791926e-05, '2306': 3.718144745355505e-05, '7304': 6.190712591400417e-05, '2412': 3.189275345543495e-05, '2413': 2.7980209719921144e-05, '2414': 4.910569549246605e-05, '2417': 4.984061953585054e-05, '2418': 2.486950102708451e-05, '2113': 7.844178455450191e-05, '2420': 7.843149658406354e-05, '2419': 5.3995140965334634e-05, '2424': 2.8251362906083034e-05, '2428': 2.5001816858823987e-05, '2429': 2.8432537351920008e-05, '2427': 7.006338771270605e-05, '2434': 2.8709039029981354e-05, '2437': 3.384407917784825e-05, '2373': 3.2732259876760036e-05, '2438': 2.9395980566051227e-05, '2462': 4.3509471572421215e-05, '2463': 2.9395980566051227e-05, '2439': 2.9395980566051227e-05, '2441': 2.9395980566051227e-05, '2442': 2.9395980566051227e-05, '2443': 2.9395980566051227e-05, '2444': 5.11221684943753e-05, '2445': 2.9395980566051227e-05, '2446': 2.9395980566051227e-05, '2094': 2.9395980566051227e-05, '2447': 2.9395980566051227e-05, '2448': 2.9395980566051227e-05, '2449': 2.9395980566051227e-05, '2450': 2.9395980566051227e-05, '2451': 3.384407917784825e-05, '2452': 0.00019855832711505736, '2453': 2.9395980566051227e-05, '2454': 2.9395980566051227e-05, '2455': 2.9395980566051227e-05, '2465': 2.9395980566051227e-05, '2457': 2.9395980566051227e-05, '2466': 2.9395980566051227e-05, '2458': 5.121843808815322e-05, '2459': 2.9395980566051227e-05, '2460': 2.9395980566051227e-05, '2461': 2.9395980566051227e-05, '2471': 2.508562489717512e-05, '2472': 0.0003049428897310358, '2473': 0.00039655063431306715, '2476': 0.00014513675669194966, '2477': 2.5720231680767213e-05, '2478': 4.620589161231222e-05, '2480': 4.6466269576106655e-05, '2481': 5.222237561359364e-05, '2482': 3.192122891032838e-05, '2487': 2.45327062092985e-05, '2488': 9.716073430888683e-05, '2489': 2.5412932066893278e-05, '2491': 2.808464987305157e-05, '2492': 2.808464987305157e-05, '2493': 4.612536038326176e-05, '2494': 2.808464987305157e-05, '2495': 2.808464987305157e-05, '2496': 3.3863323030271895e-05, '2497': 0.00016379776976307693, '2500': 3.4956661052168295e-05, '2502': 0.00014396748406687269, '2503': 2.9623657869671432e-05, '8296': 7.31962629356695e-05, '2505': 2.467255760260368e-05, '5311': 6.279076181998237e-05, '2509': 6.419105311401137e-05, '2512': 2.517267797476682e-05, '2514': 2.517267797476682e-05, '2513': 2.517267797476682e-05, '2515': 2.517267797476682e-05, '5926': 4.473651767527752e-05, '6532': 4.6816442462089733e-05, '2518': 3.7893265846815615e-05, '2519': 2.7004610515568595e-05, '2355': 2.7004610515568595e-05, '2520': 2.7004610515568595e-05, '2530': 2.7004610515568595e-05, '2531': 3.0537273584048824e-05, '2521': 2.7004610515568595e-05, '2522': 2.7004610515568595e-05, '2523': 4.405964806358209e-05, '2534': 2.7004610515568595e-05, '2526': 2.7004610515568595e-05, '2527': 3.101194588316398e-05, '2528': 2.7004610515568595e-05, '2536': 2.7004610515568595e-05, '2537': 2.7004610515568595e-05, '2538': 2.7004610515568595e-05, '2529': 2.7004610515568595e-05, '2540': 2.7004610515568595e-05, '1181': 2.7004610515568595e-05, '2541': 0.0001666927202648392, '2543': 2.462000662370631e-05, '2498': 2.462000662370631e-05, '2545': 4.8231513000555724e-05, '2546': 0.0001404684493924659, '6435': 6.13667576068538e-05, '2548': 6.281480791767342e-05, '2549': 0.00027626699284404667, '2551': 2.812022598049667e-05, '899': 0.00011172960490436722, '2555': 6.328931278641699e-05, '2556': 2.484764718816413e-05, '2566': 0.0001418398841887432, '2557': 0.00031503054132588185, '4220': 0.00011498090630534136, '2469': 3.1778044976797914e-05, '2567': 4.0666230611223456e-05, '2558': 2.8417771382919806e-05, '2559': 0.00032613565534278933, '5406': 7.283783997610947e-05, '2561': 2.8521490235759976e-05, '2562': 2.8981206741523104e-05, '2563': 2.8946701435070092e-05, '2564': 0.00020714070319212828, '4778': 8.078203595439633e-05, '5364': 4.231986697811836e-05, '6942': 5.869820981086755e-05, '7319': 7.187574543929967e-05, '7362': 0.00011282479271257709, '7857': 5.778700855474163e-05, '7996': 8.399019632491523e-05, '8068': 3.7559984994723525e-05, '8169': 7.753282329492167e-05, '2569': 4.067887625644723e-05, '2572': 5.244629511314255e-05, '2573': 2.6122238395746108e-05, '2574': 3.0129573763341494e-05, '5713': 5.3772244508660734e-05, '2577': 2.826293555122182e-05, '2578': 6.534004251420838e-05, '2581': 2.548441204590361e-05, '2582': 2.548441204590361e-05, '2583': 2.9491747413498997e-05, '2584': 2.548441204590361e-05, '2586': 3.075708651001937e-05, '4625': 9.90003346685021e-05, '2596': 6.952493629308268e-05, '2598': 4.7676349866394945e-05, '2603': 2.5253929936681493e-05, '6080': 7.744038985670331e-05, '2606': 2.5089556028171642e-05, '2608': 7.714715633914933e-05, '2609': 4.67755377544958e-05, '2610': 2.5089556028171642e-05, '2611': 5.094190119584513e-05, '5387': 8.075576545327929e-05, '2613': 0.00011558624151156209, '2614': 4.196461576559507e-05, '2615': 2.9121064120534492e-05, '2616': 2.5089556028171642e-05, '5240': 3.2356318544637255e-05, '5533': 3.3879679872734505e-05, '5956': 2.8667848686400425e-05, '6109': 3.9219744415064454e-05, '6279': 2.47318658222239e-05, '2627': 2.4902262708965706e-05, '2626': 3.2338614120209006e-05, '2630': 2.7876597787928952e-05, '2631': 2.4606048607888135e-05, '2632': 2.4606048607888135e-05, '2633': 2.6354895124692012e-05, '1863': 2.6354895124692012e-05, '2634': 2.6354895124692012e-05, '2635': 2.6354895124692012e-05, '2636': 2.6354895124692012e-05, '2637': 2.6354895124692012e-05, '2639': 2.6354895124692012e-05, '2640': 2.6354895124692012e-05, '2641': 2.6354895124692012e-05, '2642': 2.6354895124692012e-05, '2644': 2.7438660354822616e-05, '2628': 2.4443362137081766e-05, '2648': 2.454981306073578e-05, '2649': 2.677002570851745e-05, '6543': 3.9434073872910856e-05, '2656': 2.6129690698120683e-05, '5260': 4.4119730914560995e-05, '8024': 4.675782257433066e-05, '2659': 6.5461316444231e-05, '2661': 2.4995387261182595e-05, '2663': 2.8949145945375526e-05, '2664': 2.4995387261182595e-05, '2668': 2.4808240701791856e-05, '2671': 2.5726347911008756e-05, '2673': 2.5726347911008756e-05, '2675': 2.450152469158883e-05, '2676': 4.8106691487017185e-05, '2677': 0.00017709883527907599, '2680': 4.362479523033552e-05, '2682': 2.4931086999279534e-05, '2683': 7.421764354579802e-05, '2684': 2.4931086999279534e-05, '2699': 0.00029354066102303406, '2701': 8.793194008462383e-05, '6105': 8.25299870602769e-05, '2702': 0.000318735963597533, '2703': 0.00024188458047809657, '2688': 0.0023760691611198178, '5368': 4.069136591551752e-05, '5514': 6.708848074803019e-05, '5756': 0.0001035539062712325, '2704': 0.00030694210434122093, '6078': 7.764834474040194e-05, '2690': 0.00011416820636352366, '2691': 0.00018070822995633316, '2692': 9.126159420276224e-05, '2705': 2.4681612866594096e-05, '2706': 8.783981798358711e-05, '2694': 8.758208462463998e-05, '2695': 4.583589312023255e-05, '2698': 7.442240917775091e-05, '2709': 2.504418078315193e-05, '2711': 7.053713536258016e-05, '2715': 2.916116449328571e-05, '2716': 2.5232145724689458e-05, '2717': 2.5232145724689458e-05, '2718': 2.5232145724689458e-05, '2719': 9.876050273010221e-05, '2722': 2.5132064644464487e-05, '2723': 2.5132064644464487e-05, '2725': 2.5132064644464487e-05, '2728': 3.274660563182239e-05, '2730': 2.8858551360339743e-05, '2731': 2.544903216346859e-05, '2733': 3.39305000236339e-05, '2729': 2.544903216346859e-05, '2734': 2.544903216346859e-05, '2737': 7.801284344485772e-05, '2738': 3.35519115535385e-05, '7423': 6.9523993196374e-05, '2739': 2.4491739857447405e-05, '2740': 0.000120735314800244, '2741': 2.6213412785174905e-05, '2744': 0.00017698066407285316, '2748': 2.5092751623477118e-05, '2749': 2.5092751623477118e-05, '2752': 4.799166479378908e-05, '2753': 2.4518588641136917e-05, '2755': 2.557955965655067e-05, '2757': 4.1101445751281763e-05, '2759': 2.5109052874948397e-05, '2761': 2.5109052874948397e-05, '2762': 3.291510560594371e-05, '2766': 2.501746972509525e-05, '2767': 2.501746972509525e-05, '2771': 2.6339161658989417e-05, '2769': 2.6339161658989417e-05, '2772': 2.497773206275931e-05, '2773': 2.497773206275931e-05, '2776': 2.518127490748221e-05, '2778': 0.00010956002013267008, '2779': 2.5935795091598583e-05, '2780': 3.2698962379594226e-05, '2782': 2.5451804398678337e-05, '2783': 2.5451804398678337e-05, '2784': 2.5451804398678337e-05, '2786': 2.4946558221632863e-05, '2788': 3.469531423369899e-05, '2789': 3.1211652953124766e-05, '3036': 7.12049363835161e-05, '2791': 7.603976245011038e-05, '2792': 8.702696387634971e-05, '2793': 4.330343279658124e-05, '2796': 5.317430840835806e-05, '2802': 5.5980584358359745e-05, '2803': 2.4734786205216067e-05, '2804': 7.869542590649889e-05, '2807': 4.137484250076177e-05, '2808': 2.8392038786444148e-05, '2813': 2.4904577246089894e-05, '2817': 3.156200222709677e-05, '2823': 2.645447301703041e-05, '3109': 7.809883265740864e-05, '2824': 2.645447301703041e-05, '2826': 2.468119334195011e-05, '2758': 2.843861200766668e-05, '2827': 2.468119334195011e-05, '2832': 0.00023653739736877505, '4264': 2.5120935030159754e-05, '2833': 4.7262846771315456e-05, '2835': 2.5210415981369523e-05, '2839': 4.095788653893952e-05, '2840': 7.644604499468622e-05, '2845': 3.322952884483995e-05, '2846': 2.577351544897317e-05, '2847': 2.577351544897317e-05, '2848': 2.577351544897317e-05, '2849': 2.577351544897317e-05, '2850': 2.577351544897317e-05, '2852': 2.9374258901329205e-05, '2853': 2.577351544897317e-05, '2855': 8.03620064955847e-05, '2857': 2.4621588876746272e-05, '2858': 3.213528476907796e-05, '4171': 6.404654177095486e-05, '2860': 4.120606480278896e-05, '2866': 4.947686454193354e-05, '2867': 3.359502014270573e-05, '2861': 2.625865357827072e-05, '2868': 2.625865357827072e-05, '2869': 2.625865357827072e-05, '2862': 4.3620736282986246e-05, '2863': 4.778592163244539e-05, '2870': 2.625865357827072e-05, '2864': 2.625865357827072e-05, '2865': 2.9815818842824416e-05, '2872': 0.00034319608165822064, '2875': 4.4138387636546075e-05, '2876': 2.5325123207084863e-05, '2879': 2.6235686678574532e-05, '2881': 2.6235686678574532e-05, '2882': 2.6235686678574532e-05, '2883': 0.0001270800588311409, '4068': 6.414022990900002e-05, '2884': 2.6235686678574532e-05, '2885': 4.0666855180650585e-05, '2467': 4.2348730039091525e-05, '2896': 2.9395980566051227e-05, '2568': 4.002555084126153e-05, '2886': 3.674887961258092e-05, '2887': 2.9395980566051227e-05, '2888': 2.9395980566051227e-05, '2464': 2.9395980566051227e-05, '2889': 7.817908373805777e-05, '2890': 2.9395980566051227e-05, '2891': 2.9395980566051227e-05, '2892': 2.9395980566051227e-05, '2893': 2.9395980566051227e-05, '2894': 2.9395980566051227e-05, '2895': 2.9395980566051227e-05, '2898': 2.7889835167413488e-05, '2901': 3.606674771774752e-05, '2899': 2.4554138890945016e-05, '2905': 3.666288678635311e-05, '2903': 5.2213355767809563e-05, '2904': 8.548230212744229e-05, '2906': 5.062260689896064e-05, '2907': 4.99701637975906e-05, '2908': 7.212339767498437e-05, '2913': 5.9446450812955434e-05, '2916': 2.456345815944519e-05, '2919': 2.806367751623555e-05, '2921': 2.4748868125394987e-05, '2924': 2.9109640205392116e-05, '2929': 2.5325123207084863e-05, '2930': 2.5325123207084863e-05, '2931': 3.610405767241396e-05, '7316': 6.369308927651748e-05, '2933': 4.4928654105601485e-05, '2935': 0.0001531269051761165, '2939': 5.674812238285817e-05, '2938': 2.4582440017366615e-05, '7254': 6.755243018662435e-05, '2941': 6.534111609377291e-05, '2936': 5.5777129654915525e-05, '2944': 2.594279899963272e-05, '2945': 2.594279899963272e-05, '2947': 5.476678723637075e-05, '2948': 0.00011748608749743419, '2949': 2.445506926368432e-05, '2950': 6.910307042414467e-05, '2952': 2.503801469965268e-05, '2953': 5.735387520474234e-05, '2954': 2.503801469965268e-05, '2957': 2.4440983795353572e-05, '2960': 2.51717207773325e-05, '2961': 2.51717207773325e-05, '2962': 2.51717207773325e-05, '2964': 0.00027645245859778323, '2965': 2.919688303038967e-05, '2967': 0.0009176192320316487, '4086': 6.75267475777347e-05, '4866': 5.0016123526737914e-05, '4934': 7.963930007438665e-05, '4987': 7.314826564947118e-05, '4992': 8.119435282861898e-05, '5694': 3.5812988803649144e-05, '6611': 8.907063547821943e-05, '7023': 0.00013590706028444895, '7734': 6.788508191305057e-05, '2971': 2.4535739220305358e-05, '2969': 3.174098291822167e-05, '2970': 2.4535739220305358e-05, '2978': 4.530487775429606e-05, '2980': 2.439186938884279e-05, '2982': 2.485825722343632e-05, '2983': 0.00014240194391907472, '2985': 3.656594686076863e-05, '2986': 3.1946195176142245e-05, '2987': 5.25145521541435e-05, '2988': 0.00022981672701781974, '2989': 5.7250447987622065e-05, '2992': 2.5551947446810453e-05, '2994': 3.36589198794975e-05, '2995': 5.9184085999831884e-05, '2998': 3.167452178347932e-05, '3001': 4.649832288028659e-05, '3008': 2.4512941153672277e-05, '3003': 2.4512941153672277e-05, '3004': 3.2863952119160755e-05, '3006': 0.00013114408880123517, '3011': 2.468429382446452e-05, '3012': 2.4940529786336574e-05, '3013': 2.4940529786336574e-05, '3016': 2.8329880910628316e-05, '3017': 3.13593377962153e-05, '3019': 2.454882325161571e-05, '3363': 2.4652344855331923e-05, '3022': 2.454882325161571e-05, '3025': 3.625102047134886e-05, '4684': 3.199562586701373e-05, '4779': 4.1257065624190925e-05, '4887': 3.230337362327207e-05, '5267': 4.0276138658389145e-05, '5350': 3.583143466634448e-05, '5442': 3.469864827029809e-05, '6427': 6.676392212100462e-05, '6475': 2.819866841586904e-05, '3031': 0.00019905040651892016, '3032': 0.0008329422642860603, '3035': 7.410968163055756e-05, '3037': 4.597897145159045e-05, '3038': 2.4614883729056485e-05, '3039': 7.07503020107961e-05, '3040': 4.828166385095443e-05, '3041': 7.169633451504813e-05, '3042': 2.4614883729056485e-05, '3043': 2.4614883729056485e-05, '3044': 4.2219320074303606e-05, '3048': 2.5185702221033943e-05, '3049': 4.328671172602521e-05, '3046': 6.031815074154944e-05, '3051': 2.4972770964487723e-05, '3052': 2.4972770964487723e-05, '3053': 5.2327994522863573e-05, '3054': 2.4972770964487723e-05, '3055': 0.00021361271990407685, '3057': 0.00020498864702691278, '3047': 6.729991685393629e-05, '3060': 3.5922936924955424e-05, '3061': 2.8993011672234876e-05, '3062': 0.00017283057518188184, '2976': 5.1420544199068843e-05, '3066': 2.4480422801816384e-05, '3070': 2.9929654541335524e-05, '3071': 2.482677970186871e-05, '3072': 0.00011185287009500853, '7290': 4.2035129413771766e-05, '3074': 2.482677970186871e-05, '3075': 2.7991465131651013e-05, '3076': 2.482677970186871e-05, '3077': 3.581733154601833e-05, '3078': 2.4447311247015274e-05, '3063': 4.321873754402637e-05, '7735': 4.3511023590052326e-05, '3081': 9.747582376180967e-05, '3083': 2.815008153552372e-05, '3085': 2.462625358821184e-05, '3086': 5.0807656235678594e-05, '3087': 4.9808987720726696e-05, '3088': 0.00017380948599534269, '3090': 6.782559230779107e-05, '6530': 4.8770437263006127e-05, '3091': 2.462625358821184e-05, '3093': 2.5377284234674237e-05, '3094': 4.0325534847412145e-05, '3097': 2.5377284234674237e-05, '3098': 0.00015517648481679474, '3095': 0.00015677220632895683, '3096': 3.210757137791042e-05, '3101': 2.800071831565824e-05, '3102': 2.559165593875157e-05, '3107': 5.609768464558438e-05, '2842': 0.0004982149665245738, '3617': 2.4505493922681645e-05, '3108': 5.079995575254636e-05, '8227': 3.081124839780139e-05, '3110': 9.616233271682212e-05, '3111': 2.4325628076896022e-05, '3112': 2.4578367099487704e-05, '3113': 2.4578367099487704e-05, '2003': 0.0002648923859217588, '7440': 4.805457614158881e-05, '3115': 4.0167337175480905e-05, '3118': 2.8167582354327714e-05, '3119': 3.250572184368941e-05, '3120': 4.9755830114829307e-05, '3123': 3.244127161341135e-05, '3124': 2.9121064120534492e-05, '3127': 8.983108826279998e-05, '3701': 4.4850091635196344e-05, '3128': 2.5113728752939103e-05, '3129': 2.9121064120534492e-05, '3131': 2.5322301994143105e-05, '3132': 3.410384581320059e-05, '3135': 2.5322301994143105e-05, '3133': 2.5322301994143105e-05, '3134': 2.5322301994143105e-05, '3137': 4.184675084922411e-05, '3143': 2.4366810452981788e-05, '3142': 0.00023640139351119592, '3146': 2.4460513231501395e-05, '3147': 4.1718146883101096e-05, '3149': 2.466497799933135e-05, '3151': 2.508127503228834e-05, '3152': 2.508127503228834e-05, '3153': 2.5122305523675455e-05, '3154': 2.5122305523675455e-05, '3156': 2.4474804862488153e-05, '3158': 2.5730204926274764e-05, '3159': 5.972414416401281e-05, '3160': 3.0284398593478404e-05, '3162': 3.378890358831285e-05, '3163': 2.5730204926274764e-05, '3165': 2.497306178072519e-05, '3166': 2.497306178072519e-05, '3167': 2.497306178072519e-05, '3169': 2.4710752755301694e-05, '3168': 0.00030942475139775455, '3172': 6.792436616577135e-05, '3174': 2.4487058844260822e-05, '3175': 0.00016838397967711765, '3176': 4.690654261012221e-05, '3181': 3.30838244344709e-05, '3190': 5.9346161405847086e-05, '3182': 2.5259741296846122e-05, '3183': 2.867550166022627e-05, '3184': 2.5259741296846122e-05, '3185': 2.868466849857884e-05, '3186': 2.5259741296846122e-05, '3187': 2.5259741296846122e-05, '3188': 9.98477482374443e-05, '3189': 5.8811775435457805e-05, '3194': 0.000140548137737175, '3195': 0.000140548137737175, '3196': 9.807104543805549e-05, '3197': 3.566252891439763e-05, '3198': 2.467351388602725e-05, '3199': 6.823097817148458e-05, '3202': 5.004065484821258e-05, '3203': 2.496339868634447e-05, '3204': 2.496339868634447e-05, '3206': 2.514392507769429e-05, '3207': 2.514392507769429e-05, '3208': 4.506592640723235e-05, '3209': 0.0001781299890584314, '3212': 2.5722590502223845e-05, '3213': 2.5722590502223845e-05, '3215': 2.5722590502223845e-05, '3214': 2.5722590502223845e-05, '3216': 3.108544958781274e-05, '3210': 3.471672036000926e-05, '3217': 2.5722590502223845e-05, '532': 2.5722590502223845e-05, '3219': 2.5722590502223845e-05, '3220': 2.5722590502223845e-05, '3221': 2.5722590502223845e-05, '1509': 2.5722590502223845e-05, '3211': 2.958431842125963e-05, '3218': 2.5722590502223845e-05, '3222': 2.5722590502223845e-05, '3223': 2.5722590502223845e-05, '3224': 2.5722590502223845e-05, '3225': 6.694513658255659e-05, '3226': 2.4553619959242238e-05, '3227': 9.437838681553575e-05, '3228': 2.4553619959242238e-05, '3229': 2.890569404751295e-05, '3230': 2.890569404751295e-05, '3231': 2.890569404751295e-05, '3232': 2.890569404751295e-05, '3234': 2.890569404751295e-05, '3233': 4.177045004598426e-05, '3239': 3.187479473275816e-05, '3240': 2.5340847306173796e-05, '3241': 2.5340847306173796e-05, '3242': 4.323673770712815e-05, '3244': 0.000140548137737175, '3245': 0.000140548137737175, '3246': 2.9460680995106896e-05, '3247': 2.8887861122241828e-05, '3248': 2.4709265271491984e-05, '3249': 3.332408620430179e-05, '3250': 3.1546122172611145e-05, '3252': 0.0001505238045933984, '3257': 2.4616074981355634e-05, '3263': 2.4878050131653997e-05, '3264': 2.4878050131653997e-05, '3259': 2.9432243798857637e-05, '3261': 2.4878050131653997e-05, '3262': 5.3270090174587845e-05, '3267': 2.455191062086243e-05, '3268': 2.850531639155179e-05, '212': 2.5089556028171642e-05, '3269': 3.486534621359261e-05, '3270': 2.9223115581530615e-05, '2624': 2.5089556028171642e-05, '3272': 2.904163855001686e-05, '3280': 3.305939463113876e-05, '3281': 2.5089556028171642e-05, '3273': 2.5089556028171642e-05, '3275': 7.296318819179807e-05, '3277': 2.5089556028171642e-05, '3278': 2.8507475634946295e-05, '3279': 2.8846974693888214e-05, '3288': 2.4652344855331923e-05, '3292': 5.0847191917836776e-05, '3294': 2.4839639326292824e-05, '3296': 2.8985584438244437e-05, '3298': 2.5431048193704853e-05, '3299': 2.5431048193704853e-05, '3300': 3.906042076624438e-05, '3302': 2.5431048193704853e-05, '3303': 2.5431048193704853e-05, '1529': 2.979785969659719e-05, '3304': 0.00013503385358810602, '3305': 4.2122686030871855e-05, '3311': 2.4340779397764644e-05, '3312': 2.4497981023956402e-05, '3282': 3.870795449364476e-05, '3314': 2.4497981023956402e-05, '3315': 6.783079500792709e-05, '3290': 0.00015375277640550014, '3318': 2.4497981023956402e-05, '3316': 3.1905628760991095e-05, '3317': 7.360704056046506e-05, '3322': 2.4761354837574568e-05, '3323': 3.0124213923163456e-05, '3325': 4.19702726235257e-05, '3326': 8.529859093549441e-05, '3335': 2.503430318242147e-05, '3331': 2.503430318242147e-05, '3332': 2.503430318242147e-05, '3333': 7.738120239818787e-05, '3339': 2.4703231730414765e-05, '3340': 3.7642151273545166e-05, '3341': 2.4703231730414765e-05, '3342': 2.4703231730414765e-05, '3343': 7.040839349230121e-05, '3344': 2.4703231730414765e-05, '3345': 0.00015207484443823373, '3349': 5.272498910642608e-05, '3350': 0.00021930291730906347, '3353': 2.455067172404147e-05, '3354': 4.248173613740024e-05, '3355': 3.598998360428222e-05, '3360': 2.664221982752416e-05, '3356': 2.664221982752416e-05, '3357': 3.0415401453337423e-05, '3358': 2.664221982752416e-05, '3359': 2.664221982752416e-05, '3306': 5.058828320541685e-05, '3361': 3.0300420957988714e-05, '3362': 2.664221982752416e-05, '3368': 2.5339596089510515e-05, '3369': 2.5339596089510515e-05, '3370': 2.5339596089510515e-05, '3366': 0.00026840066669207163, '3367': 3.312313705647393e-05, '3373': 6.540913318248111e-05, '3374': 3.5701983001922634e-05, '3375': 0.00017773590637309362, '3377': 3.631116118492154e-05, '3378': 0.00017768751212635166, '3379': 8.753344967801996e-05, '3380': 0.00017989724352557074, '3382': 2.4417916937044725e-05, '3383': 2.7681477469635245e-05, '3384': 3.1655148222266845e-05, '3385': 2.4417916937044725e-05, '3388': 7.588697205972899e-05, '3389': 2.873704738500419e-05, '3391': 3.5456873424356285e-05, '3392': 0.00014314102873063615, '5882': 3.249025775818444e-05, '3395': 2.5497068353866326e-05, '3396': 2.9107193653616446e-05, '3397': 3.353631690917198e-05, '3398': 2.5497068353866326e-05, '3399': 3.407614462528029e-05, '3400': 2.5497068353866326e-05, '3401': 2.5497068353866326e-05, '3403': 3.3492355826261085e-05, '3402': 0.00048051002455055903, '3592': 2.8663942533013446e-05, '6307': 5.2611442784349566e-05, '8263': 6.469349099833166e-05, '3405': 2.4943948579612037e-05, '3390': 0.00024496167119954346, '5388': 3.174536802032956e-05, '3407': 2.4943948579612037e-05, '3406': 3.56404300053363e-05, '3411': 2.5026485848392246e-05, '3412': 2.5026485848392246e-05, '3422': 3.316141576123927e-05, '3423': 2.6445079746165145e-05, '3416': 2.6445079746165145e-05, '3424': 2.6445079746165145e-05, '3425': 3.559916738513833e-05, '3418': 2.6445079746165145e-05, '3426': 2.6445079746165145e-05, '3434': 2.474042179104081e-05, '3436': 2.4636756905115833e-05, '3437': 2.4636756905115833e-05, '3440': 2.4636756905115833e-05, '3441': 2.824804104776558e-05, '3438': 2.4636756905115833e-05, '3444': 2.8202756148745735e-05, '3445': 9.922397418924885e-05, '6225': 3.557542173481242e-05, '6724': 3.965045677312323e-05, '6920': 3.9710835618508495e-05, '7222': 4.7897982187823646e-05, '3448': 3.174712767245734e-05, '3449': 0.0012078626863947636, '3450': 0.00011767113837054616, '3451': 0.00041207700589801206, '4880': 2.4600664136499015e-05, '5306': 4.958556648575349e-05, '5471': 2.8162093078537234e-05, '6054': 3.1870835924798096e-05, '6826': 3.5003053682633876e-05, '3457': 0.000661288586561985, '5363': 3.2325916353705345e-05, '3462': 0.00022629616405692095, '3466': 8.515132446973018e-05, '3467': 2.4562059268578258e-05, '3468': 3.16527136463633e-05, '3469': 0.00010507293178973544, '3470': 9.854434955704708e-05, '3472': 8.308251519432447e-05, '3471': 2.9783655786795584e-05, '3475': 2.4465694908485156e-05, '3481': 8.63436620641723e-05, '3482': 0.00010808610480752021, '3477': 0.0002094088602448751, '3478': 0.00017800762408523422, '3487': 2.4687827218488762e-05, '3488': 7.986358343698517e-05, '3492': 3.7657545504495323e-05, '3493': 2.6445079746165145e-05, '3490': 3.0220359498566558e-05, '3494': 2.6445079746165145e-05, '3495': 4.3101064298020744e-05, '3427': 2.6445079746165145e-05, '3496': 5.844575020294057e-05, '3491': 3.3946976659047564e-05, '2524': 5.035860825535847e-05, '3497': 2.6445079746165145e-05, '3499': 3.979375132419943e-05, '3500': 2.6445079746165145e-05, '3504': 2.47318658222239e-05, '3509': 2.443421523288729e-05, '3510': 2.4851532566240256e-05, '3515': 3.289097915852842e-05, '3511': 2.4851532566240256e-05, '3512': 5.2512256623105864e-05, '3513': 3.474738749464326e-05, '3514': 2.4851532566240256e-05, '3518': 4.256888270738725e-05, '3519': 0.00019203236076612584, '3521': 0.0001288551688151307, '3522': 0.00030010859511793285, '3523': 0.00012407246111293232, '3524': 2.4619993949419277e-05, '3525': 7.935545535271693e-05, '3526': 4.289448274373732e-05, '3527': 0.0002587187669411255, '3386': 6.279887323150211e-05, '3530': 3.265042972769542e-05, '3531': 2.453749417073576e-05, '3532': 3.959917982733489e-05, '3535': 4.088867714517129e-05, '3536': 4.2917314298762454e-05, '3539': 2.8266793711957944e-05, '3540': 3.703066796134027e-05, '3542': 3.8914222694120144e-05, '3543': 3.211988528212284e-05, '3508': 6.0792228761960164e-05, '3544': 4.690114386680957e-05, '3545': 2.932518139534246e-05, '3550': 2.4854380766199938e-05, '3551': 2.4854380766199938e-05, '3552': 2.4854380766199938e-05, '3553': 5.008256600678155e-05, '3558': 2.5042459697196045e-05, '3560': 8.946191894061348e-05, '4481': 2.953225185241039e-05, '3561': 3.7585628363960555e-05, '3563': 3.301915653629275e-05, '3564': 2.865462129029353e-05, '3565': 2.4650341287471397e-05, '3566': 2.4650341287471397e-05, '4265': 3.400623478871106e-05, '6162': 4.2577736687657446e-05, '3569': 0.0001728498084245294, '3577': 2.464821990420615e-05, '3579': 2.9400825219904505e-05, '3578': 6.794057081117443e-05, '3708': 4.99785309554886e-05, '7708': 2.5192337714270684e-05, '3581': 2.5192337714270684e-05, '3582': 2.5192337714270684e-05, '3583': 3.6111236913693335e-05, '3584': 2.5192337714270684e-05, '3585': 2.8778194564515853e-05, '6680': 2.5032659852171316e-05, '3589': 3.842238364150459e-05, '3528': 7.011544541746734e-05, '3591': 9.279606771763914e-05, '3590': 2.673203146189962e-05, '3593': 0.00012958501954220706, '3594': 3.1366362540143e-05, '3598': 3.687396702453473e-05, '3595': 2.8666701429621573e-05, '3599': 2.497895174215157e-05, '3600': 6.735425512921552e-05, '3601': 0.0002166974911074414, '3596': 2.497895174215157e-05, '3597': 6.687691270092236e-05, '3602': 2.438330878863608e-05, '3603': 6.758717912269708e-05, '3605': 2.4689363393901322e-05, '3606': 2.4689363393901322e-05, '3610': 3.6007608762058344e-05, '3611': 0.00010123928016303693, '3613': 2.7155417986087074e-05, '3618': 2.4725639616612737e-05, '3619': 2.4725639616612737e-05, '3620': 2.5403138411876636e-05, '3621': 2.5403138411876636e-05, '3622': 0.00010086347558908758, '3624': 0.0002616191422890849, '3625': 3.61136254805216e-05, '3604': 2.951565649659832e-05, '3628': 2.581334836261302e-05, '3630': 0.00013412156757313211, '3632': 2.491222016006827e-05, '3633': 0.00020075193564133916, '3636': 6.102659020548947e-05, '3637': 3.573699569792071e-05, '3638': 2.491222016006827e-05, '3639': 6.59430929876536e-05, '3640': 2.491222016006827e-05, '3641': 0.0008295234988626629, '3642': 0.0014802887430243215, '6721': 4.355273309883207e-05, '3649': 2.491222016006827e-05, '3647': 6.709280776910416e-05, '3651': 2.4769970348046254e-05, '3652': 2.4769970348046254e-05, '3654': 2.4567268480448784e-05, '3653': 2.789199719063003e-05, '3655': 5.3430371974877016e-05, '3656': 3.218131348012363e-05, '3657': 2.4406949370757498e-05, '3658': 0.00016543109438040544, '3659': 0.000164934385019144, '3662': 6.195666938161901e-05, '3663': 2.455838982552322e-05, '3665': 9.975683974307968e-05, '3666': 0.0005643152252386843, '3667': 4.335184558978568e-05, '3668': 3.5679459293959034e-05, '3673': 3.896511163427648e-05, '3674': 2.8098447318611152e-05, '3675': 2.4741287338076393e-05, '3676': 2.4741287338076393e-05, '3677': 2.803200642835636e-05, '3678': 8.43340466208213e-05, '3682': 0.0003009300018316781, '3683': 4.803158515914377e-05, '3684': 2.5259741296846122e-05, '3685': 2.9900111138493714e-05, '3686': 3.2628298044100765e-05, '3692': 5.147996527956017e-05, '3687': 2.5259741296846122e-05, '3688': 3.7559270009859697e-05, '3689': 2.873591046179309e-05, '3690': 2.5259741296846122e-05, '3832': 2.9282825894393336e-05, '5481': 3.9446600601575894e-05, '7387': 5.479687221636949e-05, '3693': 2.5259741296846122e-05, '3694': 2.5259741296846122e-05, '3695': 2.5259741296846122e-05, '3696': 2.5259741296846122e-05, '3697': 2.5259741296846122e-05, '3698': 2.5259741296846122e-05, '3700': 4.377954067594137e-05, '3702': 2.5496110611653617e-05, '3703': 2.5496110611653617e-05, '3704': 2.5496110611653617e-05, '3705': 3.233586736910632e-05, '3706': 2.5496110611653617e-05, '3707': 2.5496110611653617e-05, '3709': 4.689296637803995e-05, '2067': 3.3948847666168405e-05, '3711': 3.113270891140811e-05, '3712': 3.113270891140811e-05, '3714': 7.431033957997566e-05, '3715': 2.4443616023174904e-05, '3718': 2.443239486351414e-05, '3719': 7.012223598516615e-05, '3723': 4.677515364161008e-05, '3722': 2.875256706414023e-05, '3733': 2.4573971213390384e-05, '3571': 0.00019359983250167534, '3725': 3.525754724014094e-05, '3727': 2.4573971213390384e-05, '3728': 0.0003562791715623191, '3729': 6.180230466462747e-05, '3735': 3.134845717602844e-05, '3730': 2.4573971213390384e-05, '3731': 7.860581690398616e-05, '3742': 3.2664032494036424e-05, '3743': 6.29419126359641e-05, '5133': 4.433915788644029e-05, '3744': 2.961051301258426e-05, '3746': 2.442300166692824e-05, '3747': 3.749795730655546e-05, '3749': 3.669168467219359e-05, '3750': 2.7778278673408314e-05, '3751': 6.216550885464462e-05, '3753': 2.442300166692824e-05, '3754': 4.2284720259246265e-05, '3679': 2.8668806593941575e-05, '3757': 2.486327831958886e-05, '3758': 2.486327831958886e-05, '3759': 2.486327831958886e-05, '3760': 2.486327831958886e-05, '3761': 2.877784691638012e-05, '3762': 5.0777244865280096e-05, '3763': 3.297714644389242e-05, '3764': 5.8984531134379686e-05, '3765': 2.4447311247015274e-05, '3766': 5.515396212794966e-05, '3767': 8.336881294621767e-05, '3771': 3.2357600905588135e-05, '3774': 2.616158880522545e-05, '3775': 6.876993743510779e-05, '3777': 8.49956548705357e-05, '4413': 2.767546632354884e-05, '3779': 2.875010730314472e-05, '3780': 3.3245784018631515e-05, '3781': 2.5086500663398384e-05, '3782': 3.2422920494268044e-05, '3784': 2.5086500663398384e-05, '3783': 2.5086500663398384e-05, '3786': 0.00042554932269690094, '5778': 3.600035726946306e-05, '2975': 2.9022369920922027e-05, '3791': 2.5420665628434418e-05, '3797': 6.132474292123672e-05, '3795': 3.841324159063384e-05, '3794': 0.00020894360898270203, '3798': 0.0001050917560902612, '3799': 4.201543626590461e-05, '3801': 2.4684613203479425e-05, '3802': 4.964577287555172e-05, '3805': 2.47248785031039e-05, '3810': 2.6942467625877888e-05, '3814': 0.00019767393457699597, '3815': 9.49547835993091e-05, '3817': 2.4858919992008168e-05, '3823': 2.8510597710714493e-05, '3824': 2.4683924953063862e-05, '3827': 2.874491695653661e-05, '3829': 2.5598660462728543e-05, '3821': 2.8953937469208624e-05, '3833': 3.293449579022537e-05, '3834': 2.46617197365149e-05, '3836': 2.46617197365149e-05, '3837': 2.46617197365149e-05, '3841': 2.4784528794561556e-05, '3839': 4.021254994491094e-05, '3840': 2.4784528794561556e-05, '3844': 2.477251729370974e-05, '3845': 5.0761578383132665e-05, '3848': 2.6877658142886557e-05, '3850': 2.8137037536226567e-05, '3851': 2.7992529957998688e-05, '3855': 4.259743159285994e-05, '3858': 2.4888295332425385e-05, '3862': 2.8685560619188985e-05, '3863': 3.972384032378641e-05, '3864': 2.4888295332425385e-05, '3865': 2.8330153566382604e-05, '3869': 4.129064665483093e-05, '3870': 3.147789554725605e-05, '3872': 7.880834711209278e-05, '8038': 3.877120470915444e-05, '3648': 5.416561363731603e-05, '3876': 3.2480557467075466e-05, '3878': 2.4578367099487704e-05, '3877': 7.041777097656639e-05, '3881': 2.7989939441049857e-05, '3882': 2.469214037415511e-05, '3883': 2.4644547578618197e-05, '3886': 2.486339751225456e-05, '3889': 2.945761224202143e-05, '3890': 3.363405705330134e-05, '3891': 2.4715747854087776e-05, '3894': 2.5620022886809925e-05, '3895': 2.5332247990414673e-05, '3896': 2.5332247990414673e-05, '3900': 3.2774583858051934e-05, '3901': 2.4589220584387573e-05, '3902': 0.00018556166824287965, '3904': 2.5337434392004522e-05, '3905': 2.9121391653225796e-05, '3906': 2.5337434392004522e-05, '3907': 2.5337434392004522e-05, '3909': 2.4640792317373424e-05, '5588': 6.309417679129448e-05, '3916': 0.00018114130952224288, '3917': 0.0001322488824049816, '3918': 3.552145237519754e-05, '3920': 4.2623803122690844e-05, '3923': 2.463798512685952e-05, '3924': 3.9381425863499095e-05, '3925': 4.6319293116257315e-05, '3927': 2.4891238703235806e-05, '3928': 2.8609904883182673e-05, '3929': 2.9489419950613084e-05, '3930': 4.1421274838719215e-05, '3931': 2.4891238703235806e-05, '3932': 3.7436409308292404e-05, '3935': 2.50097518408123e-05, '3936': 2.50097518408123e-05, '3941': 2.6892749385624392e-05, '3943': 2.482275480586242e-05, '3944': 2.482275480586242e-05, '3947': 3.1451885280285176e-05, '3945': 2.8237707710456936e-05, '3948': 0.00011533483546159527, '3952': 2.4584059994904322e-05, '3953': 2.4584059994904322e-05, '3954': 2.810434694540367e-05, '3955': 3.189906236565936e-05, '3959': 2.8222054997754254e-05, '3960': 0.00010937602245570627, '3961': 7.796618464888984e-05, '4886': 2.5059172437810187e-05, '3964': 2.4602507611075602e-05, '3965': 0.0003603318868166331, '3963': 2.4602507611075602e-05, '3966': 2.4891702701058985e-05, '3957': 2.4808377840943643e-05, '3968': 2.4808377840943643e-05, '7062': 5.323067019422159e-05, '4966': 0.0001552152900752613, '6257': 3.538083228709343e-05, '6278': 3.929079903255116e-05, '3977': 7.427603457986568e-05, '3978': 2.849881818965578e-05, '3979': 3.198229402134311e-05, '3981': 2.4996789257367513e-05, '3987': 2.4996789257367513e-05, '3982': 9.64781524520392e-05, '3989': 2.8877055204983978e-05, '3983': 3.5956027167265697e-05, '3984': 3.0218385775584838e-05, '3990': 2.4996789257367513e-05, '3985': 0.0001440988732155431, '3986': 2.4996789257367513e-05, '3991': 4.828238148837482e-05, '3992': 2.8501394328108863e-05, '3997': 2.455108726803683e-05, '3998': 2.8398944001555234e-05, '4000': 3.665987925514555e-05, '4001': 0.0001290996828031116, '4005': 2.455890748241946e-05, '4006': 2.8162555125880918e-05, '4007': 7.34390810110136e-05, '4008': 4.736303213998484e-05, '4010': 2.4537917334975497e-05, '4016': 2.8192991826582138e-05, '4015': 2.913038298089946e-05, '4019': 2.8226154711205453e-05, '4020': 4.2975414885426484e-05, '4023': 3.2389460881687135e-05, '4025': 2.6445079746165145e-05, '4026': 3.069748866467216e-05, '4027': 4.7420812438020644e-05, '4028': 2.6445079746165145e-05, '4034': 3.544098797090753e-05, '4035': 2.522798749343045e-05, '4036': 0.0005755552050553839, '4038': 2.4655683031840563e-05, '6709': 0.00013390309411826073, '4039': 5.3918611816520265e-05, '4042': 9.644101892073491e-05, '7149': 5.254042665814356e-05, '4991': 4.3428332226352716e-05, '4045': 0.0010098068735677917, '4521': 2.4438072482546097e-05, '4046': 0.00037720374331675103, '7257': 5.1017691424352414e-05, '4048': 2.7278840588995615e-05, '4050': 2.5098479416790574e-05, '4053': 2.83146179260988e-05, '4056': 0.00010954716849179337, '4057': 2.469781541321248e-05, '4059': 3.602019920550607e-05, '4061': 2.4879485947339853e-05, '4062': 3.55755900383438e-05, '4063': 0.00012263182052457247, '4077': 0.0003084665517273758, '4064': 2.4879485947339853e-05, '4066': 4.073978106682999e-05, '4067': 2.4879485947339853e-05, '4069': 2.4879485947339853e-05, '4079': 3.7449779208352844e-05, '4070': 0.00044010911044619375, '4073': 0.0004631189989808811, '5274': 3.38490175621249e-05, '4074': 0.00014226218635297929, '4075': 2.4879485947339853e-05, '4080': 2.4883400993357723e-05, '4083': 2.4508744881569105e-05, '4082': 7.944972359993434e-05, '4085': 4.967088833947647e-05, '4089': 3.2390363861115764e-05, '4090': 2.5155598113713605e-05, '4091': 2.5155598113713605e-05, '4092': 2.5155598113713605e-05, '4095': 2.899156732329899e-05, '4096': 2.4613460819744166e-05, '4097': 2.4613460819744166e-05, '4100': 2.4613460819744166e-05, '4108': 2.5460327164131077e-05, '4104': 3.287680254749266e-05, '4105': 2.5460327164131077e-05, '4109': 2.5460327164131077e-05, '4106': 2.5460327164131077e-05, '4107': 2.5460327164131077e-05, '4116': 7.122337031645852e-05, '4119': 4.297893744078123e-05, '4120': 3.160207994728725e-05, '4121': 2.8426611296880918e-05, '4076': 0.0003548730220866073, '6858': 2.8414507677100462e-05, '4122': 2.480088684052312e-05, '4123': 0.0001137414707372057, '4125': 2.872481298056168e-05, '4126': 2.8380446802836946e-05, '4128': 8.112171600879995e-05, '4237': 7.509961131249404e-05, '4129': 2.9948722703097496e-05, '4130': 2.8841744702204868e-05, '4131': 2.480088684052312e-05, '4132': 2.480088684052312e-05, '4133': 2.8280188582289667e-05, '4135': 2.809040071012171e-05, '4136': 0.00011670484377989903, '4137': 4.849352215790574e-05, '4139': 2.480088684052312e-05, '4140': 7.250095455292717e-05, '4141': 3.897857705795443e-05, '4142': 0.00016037019016422105, '4143': 2.480088684052312e-05, '4144': 0.0003110152055494563, '4145': 2.844562976793552e-05, '4146': 2.480088684052312e-05, '4147': 2.893954319853724e-05, '4148': 4.783051400443851e-05, '4149': 2.826710194789873e-05, '4150': 8.183344999001774e-05, '4151': 0.00032883501848390465, '4152': 0.00017500520551744667, '4153': 2.480088684052312e-05, '4154': 2.480088684052312e-05, '4159': 3.083528488766626e-05, '4163': 2.8416373552657787e-05, '4164': 3.2891820002923284e-05, '4165': 2.5006146800614813e-05, '4166': 2.5006146800614813e-05, '4155': 3.839084666261483e-05, '4167': 0.000140548137737175, '4168': 0.000140548137737175, '4169': 6.295818232103533e-05, '4170': 3.013865550665771e-05, '4174': 2.50112394291725e-05, '4176': 2.50112394291725e-05, '4177': 2.50112394291725e-05, '4178': 3.3384175818340726e-05, '4180': 2.5799569012954435e-05, '3819': 6.0642887551257824e-05, '4184': 2.452091299875744e-05, '4185': 2.452091299875744e-05, '4186': 4.371560138809619e-05, '4187': 5.674601276255683e-05, '4190': 2.899212954437974e-05, '4194': 2.833228462543459e-05, '4192': 4.709849930316269e-05, '4195': 2.44379358771761e-05, '4197': 4.656327904035073e-05, '4198': 2.481191916256864e-05, '4200': 4.176290309305868e-05, '4207': 2.5706673197171342e-05, '4208': 3.034569204340585e-05, '4202': 2.5706673197171342e-05, '4203': 2.5706673197171342e-05, '4204': 2.9519527408065615e-05, '3995': 0.0002308324834827344, '4209': 2.5706673197171342e-05, '4205': 4.261191232134446e-05, '4210': 2.5706673197171342e-05, '4206': 2.5706673197171342e-05, '5362': 2.4903693668509533e-05, '4215': 2.7932422997517577e-05, '4213': 3.247283141301318e-05, '4214': 5.2794417383872266e-05, '4217': 2.5827511206644556e-05, '4222': 0.00017370153390428776, '4223': 4.743644377844151e-05, '4224': 8.746830347320486e-05, '4221': 0.00018475696178634908, '4225': 2.45327062092985e-05, '4228': 3.1964774366783994e-05, '4232': 4.2614415955444915e-05, '4093': 2.87361462443489e-05, '4236': 5.2725786306229594e-05, '4238': 2.4538771327122773e-05, '4240': 2.572123950681076e-05, '4243': 2.572123950681076e-05, '4244': 2.572123950681076e-05, '4241': 2.572123950681076e-05, '4242': 2.572123950681076e-05, '4245': 2.9145435282386198e-05, '4246': 2.572123950681076e-05, '4248': 2.4426606910347333e-05, '4249': 2.477311344622181e-05, '4250': 2.8512818896125444e-05, '4251': 2.477311344622181e-05, '4252': 3.8827990430609935e-05, '4229': 3.529704487995799e-05, '4255': 5.4003593946461584e-05, '4257': 2.860921677181134e-05, '4259': 2.505802274715155e-05, '4260': 2.505802274715155e-05, '4267': 2.4578744895397623e-05, '4275': 3.940928651025051e-05, '4273': 0.00011226845360299925, '7315': 6.843027401581657e-05, '213': 2.4859409088274923e-05, '4277': 2.4859409088274923e-05, '4274': 2.4859409088274923e-05, '4278': 2.4859409088274923e-05, '4279': 2.4859409088274923e-05, '4280': 2.4859409088274923e-05, '4282': 4.666955557835366e-05, '4283': 2.4790108396720465e-05, '4284': 2.4790108396720465e-05, '4285': 2.8431680936217398e-05, '4291': 3.8550763507589714e-05, '4292': 3.510719330206765e-05, '4295': 8.340295120267519e-05, '4296': 2.468199114583106e-05, '4304': 2.5403138411876636e-05, '4305': 2.5403138411876636e-05, '4308': 5.143157801201185e-05, '4306': 2.5403138411876636e-05, '4307': 3.399750268598837e-05, '4312': 4.1754094120104445e-05, '4313': 3.96413224576252e-05, '4314': 3.660165696824509e-05, '4316': 5.06075468903966e-05, '4317': 3.385756348615471e-05, '4318': 3.2796676072744624e-05, '4319': 3.586974224343793e-05, '4320': 2.8638558368387787e-05, '4321': 2.4572173301233486e-05, '4324': 5.278281063513226e-05, '4325': 3.246183452276775e-05, '4326': 4.707777734737062e-05, '4327': 2.8088099505340395e-05, '4328': 2.455067172404147e-05, '4329': 6.492605511420048e-05, '4333': 2.8701875348437224e-05, '4334': 2.5241073752500998e-05, '4336': 2.5241073752500998e-05, '4337': 2.5241073752500998e-05, '4345': 3.0630840545298006e-05, '4346': 2.6032659297920726e-05, '4340': 2.6032659297920726e-05, '4342': 6.245321190190602e-05, '4343': 4.793239505850783e-05, '4347': 0.00026553130849838044, '7952': 5.842626777651042e-05, '8090': 5.250334400316124e-05, '4344': 3.49180943480938e-05, '4348': 2.6032659297920726e-05, '4352': 2.4501339656100576e-05, '4353': 0.0003288746375849354, '4354': 4.275776722070943e-05, '4357': 2.4460654805502585e-05, '4358': 2.465892954962255e-05, '4360': 2.5040484873193405e-05, '4364': 0.0001736735056669285, '4362': 2.5040484873193405e-05, '4363': 0.00010349957707839893, '4366': 2.9139102602580434e-05, '2028': 2.4691003990783413e-05, '4368': 2.5617411202170793e-05, '4369': 2.9097362538047586e-05, '4371': 4.470753389305081e-05, '4370': 2.5617411202170793e-05, '4372': 2.5617411202170793e-05, '4375': 3.234766245421687e-05, '4377': 6.366649037414519e-05, '4378': 2.5432465169154785e-05, '4383': 3.788543704286077e-05, '4379': 3.935255745458217e-05, '4380': 2.5432465169154785e-05, '4381': 2.5432465169154785e-05, '4382': 2.5432465169154785e-05, '4393': 2.6973985333859055e-05, '4394': 2.6973985333859055e-05, '4399': 2.6973985333859055e-05, '4322': 2.6973985333859055e-05, '4395': 3.604049255519306e-05, '4396': 2.6973985333859055e-05, '4397': 2.6973985333859055e-05, '4398': 5.9225603806559334e-05, '4404': 2.4866177921797523e-05, '4408': 2.5043598445164908e-05, '4405': 2.5043598445164908e-05, '4414': 2.5148605727730554e-05, '4415': 9.068945049673665e-05, '4416': 6.450219089588012e-05, '4423': 2.4643138950724002e-05, '4425': 2.9079103518246334e-05, '4426': 3.9413843036021793e-05, '4427': 2.4528219707742233e-05, '4428': 6.665135437894822e-05, '4429': 6.63766711492647e-05, '4430': 4.714610865976005e-05, '4431': 3.822486089403575e-05, '4433': 0.00011271430005689522, '4434': 2.807854738149126e-05, '4436': 2.816446819763579e-05, '4437': 0.00029030221691894444, '4438': 5.006108053655842e-05, '4439': 2.4528219707742233e-05, '4440': 4.2742383511433675e-05, '4442': 8.865445924966295e-05, '4443': 4.606676659474854e-05, '4444': 2.4528219707742233e-05, '4445': 2.4528219707742233e-05, '4446': 2.807221453028589e-05, '4447': 7.602347409037751e-05, '4449': 2.5279278679909674e-05, '4451': 5.560823154015054e-05, '4452': 2.5279278679909674e-05, '4450': 2.5279278679909674e-05, '4454': 2.4727421372596065e-05, '4455': 0.0001332983155030262, '4539': 2.625585565107513e-05, '4456': 3.665071343742125e-05, '4457': 2.4727421372596065e-05, '4458': 3.171038071308986e-05, '4459': 3.689150387963707e-05, '4460': 2.8715054435320142e-05, '4461': 2.9531613894352517e-05, '2047': 2.5220877018590376e-05, '4462': 2.5220877018590376e-05, '4464': 2.4836398976107452e-05, '4465': 3.710496392284162e-05, '4467': 2.4897839941417433e-05, '4469': 2.44187184734679e-05, '4470': 2.687219517733893e-05, '4473': 2.6702900526567164e-05, '4474': 3.0221344002489926e-05, '4477': 3.248157368378749e-05, '4476': 0.00010715746645654073, '8139': 3.8518189490244716e-05, '4478': 2.6702900526567164e-05, '4475': 2.6702900526567164e-05, '4479': 2.6702900526567164e-05, '7292': 6.841872912392039e-05, '4493': 2.4710752755301694e-05, '4486': 0.00011580041460464155, '5726': 2.601663159855152e-05, '4494': 2.4710752755301694e-05, '4495': 2.4710752755301694e-05, '5955': 3.193545351866697e-05, '4489': 7.855884765552565e-05, '4490': 2.4710752755301694e-05, '4496': 3.227318648543549e-05, '4491': 2.4710752755301694e-05, '4497': 2.4710752755301694e-05, '4504': 2.8547886054856042e-05, '4502': 2.8598925490089604e-05, '4503': 2.4751068756571204e-05, '4492': 2.8061102186499193e-05, '4508': 2.471407851009317e-05, '4509': 6.088095037140836e-05, '4511': 7.73782486539658e-05, '4498': 2.4458153944497336e-05, '4516': 2.5392957536338397e-05, '4523': 2.5217243899615476e-05, '4524': 5.990637603301357e-05, '4526': 4.483218831472412e-05, '4533': 3.200188102739707e-05, '4535': 3.868771870959716e-05, '4538': 2.4391751965770404e-05, '4540': 0.000140548137737175, '4541': 0.000140548137737175, '4542': 7.621862297463596e-05, '4544': 4.752713883560238e-05, '7434': 5.204572360229006e-05, '4543': 4.4890899978264275e-05, '4545': 2.4588123300718562e-05, '5434': 4.307356433303118e-05, '5570': 3.6319471354459996e-05, '4553': 3.346326943155586e-05, '4554': 2.5823899128026007e-05, '4555': 2.5823899128026007e-05, '4556': 2.5823899128026007e-05, '4560': 4.253172561208084e-05, '4563': 6.147498066014708e-05, '4564': 0.00013935293043298134, '4565': 2.808398317169934e-05, '4566': 3.242171066763564e-05, '4567': 2.7859320420123572e-05, '4568': 2.447584617221467e-05, '4569': 2.4524179358957026e-05, '4575': 2.8517030417711554e-05, '4576': 5.920117447042967e-05, '4577': 2.8286459190257507e-05, '4581': 3.2238930963649316e-05, '4582': 4.315667511144776e-05, '4586': 5.7749920176615764e-05, '4592': 5.073261956356914e-05, '4593': 2.589708296454337e-05, '4594': 2.4821926110479888e-05, '4595': 3.237337544319666e-05, '4596': 2.4821926110479888e-05, '4597': 2.4821926110479888e-05, '4598': 0.0003068374991339137, '4599': 2.45615224023428e-05, '4602': 2.8480280878421872e-05, '4601': 2.4673731230220467e-05, '4603': 2.7307232182140425e-05, '4608': 2.4718469150469805e-05, '4607': 2.4718469150469805e-05, '4609': 2.8515286448754647e-05, '2841': 2.4700768262359834e-05, '4611': 2.4700768262359834e-05, '4612': 2.4784252830493302e-05, '4615': 2.4739096612786905e-05, '4616': 4.8624208161060885e-05, '4617': 2.4739096612786905e-05, '4618': 3.5638252553386997e-05, '4619': 2.705991762475674e-05, '4622': 2.4879037958861095e-05, '4623': 2.8355207123808063e-05, '4624': 3.010063447707842e-05, '4629': 2.4879037958861095e-05, '4626': 4.008729563204505e-05, '4627': 2.4879037958861095e-05, '4630': 3.869936048218268e-05, '4487': 0.00015003237979536107, '4633': 6.814668133351265e-05, '4636': 2.5115226517370263e-05, '4638': 3.0230702084592263e-05, '4640': 2.8626274919078808e-05, '4641': 2.498234928231155e-05, '4644': 2.462625358821184e-05, '4649': 2.4798542932055646e-05, '4651': 2.8400947468079873e-05, '4652': 5.035483835462368e-05, '4655': 2.837594388890043e-05, '4635': 2.757172435507574e-05, '4659': 3.318360115160389e-05, '4660': 2.4857500412977666e-05, '4663': 6.158567730478122e-05, '4664': 4.2993091505830826e-05, '4647': 6.069202475972066e-05, '4665': 5.548809637889848e-05, '8043': 4.264379106759132e-05, '4672': 2.9750206157153507e-05, '4667': 2.5152024909776233e-05, '4673': 0.0004040738172945392, '4668': 2.5152024909776233e-05, '4669': 7.736367326873327e-05, '4670': 2.5152024909776233e-05, '4671': 4.883414233372915e-05, '4674': 3.2955209503287506e-05, '4681': 9.940303380873539e-05, '4683': 2.499062641774895e-05, '4682': 7.317426305351307e-05, '4686': 0.00023563382563108795, '4688': 0.00024288589905073054, '4693': 3.263192827772607e-05, '4692': 2.686089381779658e-05, '4694': 2.686089381779658e-05, '4695': 2.686089381779658e-05, '4696': 2.686089381779658e-05, '4697': 2.686089381779658e-05, '4698': 2.686089381779658e-05, '4699': 2.686089381779658e-05, '4700': 2.686089381779658e-05, '4701': 2.686089381779658e-05, '4702': 2.686089381779658e-05, '4703': 2.686089381779658e-05, '4704': 2.686089381779658e-05, '4705': 3.7255416037082994e-05, '4707': 2.686089381779658e-05, '4708': 2.686089381779658e-05, '4710': 5.390850965371367e-05, '4711': 2.686089381779658e-05, '4714': 3.208822746423097e-05, '4716': 2.4823906803206698e-05, '2621': 5.325489905476881e-05, '4718': 0.00023075837673086017, '4721': 2.810962054525242e-05, '4720': 2.4465694908485156e-05, '4723': 2.4547345070870255e-05, '4725': 0.0001607854563879227, '4726': 8.015853680516588e-05, '4727': 2.7544105435898825e-05, '4733': 3.625286687454378e-05, '4736': 2.4908893418226884e-05, '4675': 2.4908893418226884e-05, '4742': 2.838506258317385e-05, '4737': 3.98481052662719e-05, '5838': 5.2375163212686034e-05, '4738': 2.4908893418226884e-05, '4739': 6.446571153714755e-05, '4743': 2.9507074665604158e-05, '4745': 2.9463087085430524e-05, '4740': 2.4908893418226884e-05, '4744': 2.8540285090285768e-05, '4746': 9.238757401558645e-05, '4741': 3.218716018625687e-05, '4749': 3.2717560884268174e-05, '4750': 3.1923482219513526e-05, '4751': 3.5928716989846975e-05, '4754': 2.513287612410284e-05, '4752': 2.513287612410284e-05, '4753': 2.513287612410284e-05, '4755': 2.462642356780719e-05, '4756': 0.00015347346176035903, '4757': 4.3760607785119076e-05, '4759': 2.488250399215711e-05, '4760': 4.970992233309711e-05, '4761': 2.455838982552322e-05, '4762': 2.455838982552322e-05, '4763': 2.455838982552322e-05, '4765': 3.726864639439401e-05, '4771': 3.3129748450121826e-05, '4766': 2.455838982552322e-05, '4773': 2.5578621829052928e-05, '4774': 7.21058407284358e-05, '4782': 2.8027709170721988e-05, '4785': 2.5946294553171972e-05, '4787': 2.5946294553171972e-05, '4788': 0.00010896053063414832, '4789': 3.088406126538182e-05, '4790': 2.5946294553171972e-05, '7909': 2.8811726218696628e-05, '4793': 2.9660604065274818e-05, '4794': 2.5946294553171972e-05, '4799': 2.9038527835329815e-05, '4800': 2.4678455140871514e-05, '4803': 2.6103384937948257e-05, '4804': 2.6103384937948257e-05, '4805': 2.962921843075851e-05, '4806': 2.6103384937948257e-05, '4807': 2.6103384937948257e-05, '4810': 2.456766028126551e-05, '4813': 0.0001936083326528082, '4816': 2.485931599386572e-05, '4817': 2.485931599386572e-05, '4818': 0.00013340187212610357, '4819': 2.4767458313437513e-05, '4821': 3.0200448479075853e-05, '4823': 2.4981667767880322e-05, '5310': 2.8411836167142108e-05, '4825': 2.8644900989022545e-05, '4826': 2.4632548334325276e-05, '4829': 0.0003481702894761339, '6856': 2.4896320864306316e-05, '4830': 2.6248540094679094e-05, '4832': 5.6411559951801505e-05, '4857': 2.5722590502223845e-05, '4833': 4.6130453083805893e-05, '4834': 2.5722590502223845e-05, '4835': 2.5722590502223845e-05, '4836': 2.5722590502223845e-05, '4837': 2.9221732668999814e-05, '4838': 3.0236359010597655e-05, '4839': 2.5722590502223845e-05, '4840': 3.883415723582354e-05, '4858': 2.5722590502223845e-05, '4841': 2.5722590502223845e-05, '4842': 2.940832139920248e-05, '4843': 0.00011788231764006466, '4844': 3.0236359010597655e-05, '4859': 0.0001308934025902204, '4860': 3.0320771749601123e-05, '4845': 2.5722590502223845e-05, '4847': 2.5722590502223845e-05, '4848': 2.5722590502223845e-05, '4849': 3.0236359010597655e-05, '4850': 3.392208990757629e-05, '4861': 2.5722590502223845e-05, '4862': 3.718206251632454e-05, '4851': 3.377016448010745e-05, '4852': 3.285527339678471e-05, '4863': 2.5722590502223845e-05, '4853': 4.2403591657744716e-05, '4854': 3.0236359010597655e-05, '4855': 2.965522794618769e-05, '4856': 3.3536777461755685e-05, '4867': 2.568040190795353e-05, '4868': 2.568040190795353e-05, '4873': 2.568040190795353e-05, '4801': 2.568040190795353e-05, '4871': 2.568040190795353e-05, '4869': 2.568040190795353e-05, '4874': 3.3646359755660425e-05, '4870': 3.0220604603612278e-05, '4872': 2.568040190795353e-05, '7557': 8.150418632982402e-05, '4881': 3.6630214126528506e-05, '4882': 3.388038025952468e-05, '4883': 4.1750185411977735e-05, '4885': 3.586870901894269e-05, '4889': 2.8911442416776616e-05, '4890': 2.531196831537367e-05, '4891': 5.009095883828797e-05, '4893': 3.978792667574963e-05, '4894': 0.0003721324352560835, '6088': 3.495418798268324e-05, '4898': 7.04881357334438e-05, '4900': 2.5384647340433373e-05, '4901': 2.9026219879930306e-05, '4903': 3.085801084599722e-05, '4904': 3.085801084599722e-05, '4905': 2.6303817178793578e-05, '4923': 3.468691850448445e-05, '4906': 3.085801084599722e-05, '4908': 2.6303817178793578e-05, '4924': 6.060384953814525e-05, '4909': 2.983739910336971e-05, '4910': 3.07519157905906e-05, '4911': 2.6303817178793578e-05, '4912': 3.085801084599722e-05, '4913': 2.6303817178793578e-05, '4914': 3.085801084599722e-05, '4915': 4.529589044040459e-05, '4916': 2.6303817178793578e-05, '4917': 2.6303817178793578e-05, '4918': 2.6303817178793578e-05, '4925': 3.0163030841407277e-05, '4919': 2.6303817178793578e-05, '4920': 3.0548911472278e-05, '4926': 5.225023219122497e-05, '4921': 2.6303817178793578e-05, '4922': 3.085801084599722e-05, '4931': 2.5192864664517085e-05, '4932': 2.848358375479705e-05, '4933': 3.6289688359409015e-05, '8028': 6.384647561041084e-05, '4935': 2.471361233263514e-05, '4936': 2.856072838830792e-05, '4937': 8.319258969800532e-05, '4943': 0.00014366227025570133, '4945': 2.475183561283351e-05, '4947': 5.664835178615583e-05, '4948': 0.0008673433146250942, '4950': 2.5997708342052587e-05, '4951': 2.5997708342052587e-05, '4952': 3.2532643552635525e-05, '4957': 2.4844875873979225e-05, '4960': 4.95410127340112e-05, '4963': 6.89907272601538e-05, '7204': 3.268432235172012e-05, '7243': 7.611320044932475e-05, '4965': 2.445583217340017e-05, '4967': 0.0014715257313595985, '5880': 3.8041025037641594e-05, '6661': 7.617744399237515e-05, '6950': 5.088864459675848e-05, '4969': 2.460759975325286e-05, '4970': 5.182990755544507e-05, '4971': 2.460759975325286e-05, '4972': 2.8218213481178447e-05, '4973': 5.114721296984844e-05, '4974': 0.00018888650933528934, '7642': 6.834119768662183e-05, '4975': 2.8092122020999527e-05, '4976': 0.00010882630601405812, '2346': 4.2635488013796e-05, '4978': 2.4891333628096425e-05, '4979': 2.4891333628096425e-05, '4982': 0.00018688030740921172, '4985': 2.481191916256864e-05, '4988': 0.00010928127098725507, '4989': 4.7513380638705394e-05, '4995': 2.5241073752500998e-05, '4996': 2.5241073752500998e-05, '4864': 3.569328560547575e-05, '5000': 2.4854754000144343e-05, '5001': 2.4854754000144343e-05, '5003': 2.8202580760641345e-05, '5005': 2.460183730828531e-05, '4897': 2.4502111208223837e-05, '5006': 0.00012388522260810197, '5008': 0.00012778788199336257, '5009': 7.310381565148167e-05, '5010': 3.959708009645946e-05, '5011': 6.0214661543205974e-05, '5013': 4.98082557369638e-05, '5016': 6.228827959915631e-05, '5017': 5.4606604962347116e-05, '5018': 2.468296411293229e-05, '5019': 2.4815871207775283e-05, '5024': 3.750279005748136e-05, '5029': 0.00011817321968506319, '5031': 2.5123078522258004e-05, '5032': 2.9055715966221848e-05, '5035': 2.4946558221632863e-05, '5036': 3.770597344701296e-05, '5038': 3.981088148846009e-05, '5039': 4.5690072530889916e-05, '5040': 3.2038893114968856e-05, '5046': 2.8666000954233715e-05, '5047': 2.450714786230897e-05, '5048': 4.295303210706685e-05, '5051': 5.354505943842906e-05, '5052': 2.4727463402795604e-05, '5053': 0.00022769007048044687, '5054': 2.8851486416432844e-05, '5057': 2.522374652872402e-05, '5059': 0.00013544592024284223, '7318': 3.465255475916657e-05, '5060': 3.2984243248789914e-05, '5062': 2.4769970348046254e-05, '5063': 2.4769970348046254e-05, '5065': 2.672895899675363e-05, '5069': 4.106070842072147e-05, '5067': 2.8614108401413755e-05, '5068': 5.8363435263537286e-05, '5071': 2.4566688945527182e-05, '5077': 2.4936365758075357e-05, '5078': 3.331944616300393e-05, '5145': 2.47827819813308e-05, '6778': 3.875581647570024e-05, '8277': 3.6708263876472866e-05, '5080': 3.3205851372126625e-05, '5081': 4.116596783740921e-05, '5084': 2.4801148909017382e-05, '5085': 4.4096033404798844e-05, '5086': 2.5321176799192037e-05, '5087': 2.5321176799192037e-05, '5088': 2.5321176799192037e-05, '5089': 5.122510457111552e-05, '5090': 3.283043592440665e-05, '5091': 2.5321176799192037e-05, '5095': 3.2446509829614216e-05, '5097': 2.4754540064225092e-05, '5099': 7.444695452846819e-05, '5098': 2.8810748739205744e-05, '7297': 2.4856716666767652e-05, '7365': 3.62802494102192e-05, '5102': 0.00024567772309262313, '6681': 2.870317490967477e-05, '5104': 3.2196557097719574e-05, '5105': 2.4856716666767652e-05, '5109': 2.450641643615169e-05, '5111': 4.6857065280808844e-05, '5110': 0.0003434100913442555, '5112': 2.450641643615169e-05, '5114': 3.8227551295707576e-05, '5665': 2.4863706280900588e-05, '5116': 2.4863706280900588e-05, '5117': 2.843727696148783e-05, '5118': 6.74899479421586e-05, '5119': 8.941853185710879e-05, '5122': 2.556149822129579e-05, '5127': 2.556149822129579e-05, '5128': 2.556149822129579e-05, '5129': 2.556149822129579e-05, '5124': 2.556149822129579e-05, '5125': 0.00024292702581682964, '5050': 6.380571024491955e-05, '5126': 3.298218495755581e-05, '5135': 2.46557913411635e-05, '5136': 2.4646445605794316e-05, '5138': 2.4929336716249035e-05, '5139': 6.306157913415431e-05, '5142': 3.568054078740448e-05, '5150': 6.921874808959589e-05, '5151': 3.270160728344561e-05, '5152': 3.733553451448863e-05, '5153': 4.12613475746278e-05, '5154': 3.532697511319719e-05, '5158': 2.6853255120505744e-05, '5159': 2.6853255120505744e-05, '5160': 7.330895260145969e-05, '5161': 2.6853255120505744e-05, '5167': 2.6853255120505744e-05, '5163': 2.6853255120505744e-05, '5164': 3.063935385588595e-05, '5166': 0.00021291084572471343, '5171': 0.00017332301022277447, '5172': 0.00013861145666958495, '5173': 0.0005304982575843422, '5174': 4.313487236363989e-05, '5175': 0.0001501446491181868, '5177': 0.0004291927006979541, '7653': 8.059565506940222e-05, '5180': 0.00020140615021163746, '5181': 0.00018347954865725083, '5183': 2.4520856466380783e-05, '5184': 0.0002760452595510493, '5185': 0.0006164028047772608, '5186': 2.8495066626459023e-05, '5187': 0.00013720370434559196, '5754': 2.8340157470814494e-05, '7498': 5.730904228949229e-05, '7913': 3.996204024084419e-05, '5190': 0.0003396532272919649, '5191': 5.8398344113542435e-05, '5192': 2.4520856466380783e-05, '5194': 6.07853296041164e-05, '5195': 3.616045911664227e-05, '5196': 0.00014771351662135198, '5197': 3.2452427638288476e-05, '5198': 4.283529312656883e-05, '5201': 8.506874428366595e-05, '7520': 6.234873961915059e-05, '5202': 2.8803480628643223e-05, '5203': 8.491130253151952e-05, '5207': 7.164115564196213e-05, '5209': 2.531912777822954e-05, '5213': 2.5301866838603874e-05, '5214': 2.5301866838603874e-05, '5216': 2.7054654831160534e-05, '5217': 0.00010078563483390569, '5218': 2.5833636384191168e-05, '5219': 2.5833636384191168e-05, '5220': 2.5833636384191168e-05, '5221': 2.5833636384191168e-05, '5224': 3.765616485518646e-05, '8058': 2.8440802031383424e-05, '5227': 3.765616485518646e-05, '5228': 3.765616485518646e-05, '5225': 3.765616485518646e-05, '5229': 3.765616485518646e-05, '5230': 3.765616485518646e-05, '5232': 2.8430355717643903e-05, '5238': 3.2206106706392985e-05, '5242': 2.623204493200724e-05, '5244': 2.623204493200724e-05, '5241': 3.102098817664344e-05, '5243': 9.331766396144801e-05, '5250': 7.601978435947267e-05, '5247': 3.0401094857367552e-05, '5248': 2.9821166069379742e-05, '5249': 2.499946984868035e-05, '5252': 3.4445912474881305e-05, '5251': 3.4445912474881305e-05, '5261': 2.87277638768297e-05, '4407': 2.5043598445164908e-05, '5265': 2.5043598445164908e-05, '5275': 2.92121552221503e-05, '5276': 5.8060260617577185e-05, '5277': 2.4975248104497014e-05, '5278': 2.4975248104497014e-05, '5280': 2.5260483239745805e-05, '5281': 2.5260483239745805e-05, '5282': 3.567899639963526e-05, '5283': 2.8896458318017855e-05, '5287': 2.5260483239745805e-05, '5284': 2.872128483568203e-05, '5286': 7.205746918624994e-05, '5290': 2.471127484638756e-05, '5291': 2.471127484638756e-05, '5294': 2.4546267112223953e-05, '5299': 2.4700828628865936e-05, '5300': 2.4700828628865936e-05, '5313': 6.746027666522759e-05, '5314': 2.461587890106689e-05, '5315': 2.461587890106689e-05, '5316': 0.00011435840710533045, '5317': 9.065645125975704e-05, '5320': 7.044862825627146e-05, '5322': 2.4548663176836396e-05, '5324': 8.003719104899239e-05, '5328': 2.5426866477691728e-05, '5329': 2.9364797110923222e-05, '5330': 2.5426866477691728e-05, '5333': 3.2768564178831876e-05, '5332': 4.4352713702007715e-05, '5334': 4.704682681636949e-05, '5336': 3.30450063480988e-05, '5339': 5.99452225699324e-05, '5337': 2.4986023504785294e-05, '5342': 0.00013979891556673615, '5343': 2.8972966070585938e-05, '5344': 3.252359235778307e-05, '5345': 2.5022526878990874e-05, '5346': 2.5022526878990874e-05, '5347': 2.8999493485394582e-05, '5348': 2.5022526878990874e-05, '5352': 3.1994172382430005e-05, '5353': 2.499062641774895e-05, '5355': 3.0342458535930507e-05, '4591': 2.8325519723335993e-05, '5356': 2.492222778842768e-05, '5357': 2.492222778842768e-05, '5358': 2.492222778842768e-05, '5264': 4.622419186096121e-05, '5360': 7.893603925015918e-05, '5361': 4.381282505770037e-05, '5365': 2.4643000798149257e-05, '5366': 2.8262443599063303e-05, '5367': 2.4643000798149257e-05, '5370': 3.0236308299549437e-05, '5371': 3.0236308299549437e-05, '5372': 3.0236308299549437e-05, '5373': 3.0236308299549437e-05, '5374': 3.0236308299549437e-05, '5376': 2.5451804398678337e-05, '5377': 2.5451804398678337e-05, '5380': 2.83567115120084e-05, '5381': 3.638084496259158e-05, '5382': 9.125869787675457e-05, '5385': 2.46499786524424e-05, '5386': 3.277168524754517e-05, '5390': 2.8765920126545963e-05, '5391': 0.00016049527012213015, '5395': 2.4565953934850887e-05, '5397': 2.4543022256512482e-05, '5398': 2.8483806222018262e-05, '5405': 3.642753821491199e-05, '5399': 5.0779906283667114e-05, '5400': 3.6487778947638235e-05, '5401': 3.2769546475446754e-05, '5413': 0.000140548137737175, '5414': 0.000140548137737175, '5416': 2.7512393470810353e-05, '5418': 2.5059187266979964e-05, '5424': 2.9192746820338936e-05, '5419': 5.501384935386e-05, '5422': 2.5059187266979964e-05, '5427': 0.00016549403053914388, '5428': 3.145209482693185e-05, '5429': 2.4738488262772566e-05, '5431': 2.4437277342877268e-05, '5435': 2.4586062963705398e-05, '5436': 2.48543622797932e-05, '5438': 2.48543622797932e-05, '5440': 2.941948968410324e-05, '5643': 7.840550242134657e-05, '7359': 5.538837596025809e-05, '5446': 0.00012656583262794262, '5447': 2.983982939132806e-05, '5448': 3.271313781745437e-05, '5456': 2.866760662384209e-05, '5455': 5.338922671889053e-05, '5460': 2.4987236116824606e-05, '5461': 2.4987236116824606e-05, '5468': 6.156005589568593e-05, '5472': 8.267584799881967e-05, '5473': 2.5016418239175557e-05, '5474': 5.271353228660762e-05, '5475': 2.8498746949382105e-05, '5476': 2.482275480586242e-05, '5477': 2.4708070490929918e-05, '5478': 5.5816792075516676e-05, '5480': 3.2452225541955135e-05, '5483': 2.5595989168950063e-05, '5485': 0.00010923580067331822, '5486': 2.5595989168950063e-05, '5488': 2.5595989168950063e-05, '5489': 7.003594647108262e-05, '5490': 2.5595989168950063e-05, '5491': 2.5595989168950063e-05, '5494': 2.5888946712189603e-05, '5495': 3.739228706472702e-05, '5496': 2.5888946712189603e-05, '5462': 9.576104320086885e-05, '5497': 2.5888946712189603e-05, '5501': 3.4177405120647134e-05, '5504': 2.8759308317438776e-05, '5505': 2.5006907818896368e-05, '5507': 2.514151998586974e-05, '5508': 2.514151998586974e-05, '5510': 2.5144323163122796e-05, '5512': 2.8481578924622793e-05, '5515': 4.856033170111121e-05, '5516': 2.889303620349359e-05, '5517': 2.5241073752500998e-05, '5518': 2.5241073752500998e-05, '5519': 2.5241073752500998e-05, '5520': 2.864366956857473e-05, '5521': 3.217941695388304e-05, '5522': 2.5241073752500998e-05, '5523': 2.5241073752500998e-05, '7740': 6.9690955349313e-05, '5525': 2.5241073752500998e-05, '5526': 4.379466262187178e-05, '5530': 2.5241073752500998e-05, '5531': 0.0009910951405678434, '5528': 4.544889577482105e-05, '5532': 0.00012812886976430263, '5534': 7.851311267351871e-05, '5535': 2.459766735030649e-05, '5536': 3.1906470095904114e-05, '5537': 2.459766735030649e-05, '5193': 8.89238377062291e-05, '5540': 3.33019675843654e-05, '5541': 2.5622423356235e-05, '5542': 2.441947642207625e-05, '5544': 3.7517907108271297e-05, '5548': 2.5317900566962422e-05, '5549': 6.282690933008164e-05, '5550': 6.611028169292016e-05, '5551': 5.348101131116213e-05, '5554': 2.5317900566962422e-05, '5552': 5.191189942558174e-05, '5553': 0.00020517110110242743, '5555': 2.5317900566962422e-05, '5558': 3.355152098165561e-05, '5561': 2.4735210179965537e-05, '5562': 7.083862725324601e-05, '5565': 3.16775850628465e-05, '5566': 2.464364960261447e-05, '5567': 2.4872488053726324e-05, '5571': 2.5152024909776233e-05, '5572': 2.5152024909776233e-05, '5573': 2.5152024909776233e-05, '5577': 5.126756770583393e-05, '5576': 2.4616026130086047e-05, '5578': 2.556529700376298e-05, '5579': 2.9069139306892125e-05, '5580': 3.077094891672692e-05, '5581': 2.9331539533237254e-05, '5583': 2.9331539533237254e-05, '5587': 3.178400335500657e-05, '5589': 6.403259944633309e-05, '5591': 0.0001286726328065516, '5594': 2.4983024502653217e-05, '5595': 2.4983024502653217e-05, '5598': 2.572123950681076e-05, '5599': 2.572123950681076e-05, '5600': 5.253188207493897e-05, '5601': 2.935721458508281e-05, '5602': 2.572123950681076e-05, '5603': 3.3850794557736496e-05, '5604': 4.8853561095166465e-05, '5606': 0.00013100347901870635, '5607': 2.4718195738848303e-05, '5608': 8.330375522955873e-05, '5612': 0.0002743623698323015, '5609': 2.4718195738848303e-05, '5610': 2.9272389406051946e-05, '5611': 2.4718195738848303e-05, '5613': 2.4718195738848303e-05, '5615': 3.3879953839598186e-05, '5616': 8.05259411773012e-05, '5617': 0.00010745260432344843, '5622': 3.095142396364749e-05, '5396': 7.922306343160354e-05, '5627': 3.3083205636260334e-05, '5782': 2.513989187363054e-05, '5625': 2.5015175309209536e-05, '5628': 2.5015175309209536e-05, '5629': 2.5015175309209536e-05, '5633': 2.4555725071011872e-05, '5644': 0.0001016096128529834, '5636': 2.5578355293543377e-05, '5645': 2.5578355293543377e-05, '5646': 2.9487231332394783e-05, '5648': 2.557526039797184e-05, '5649': 2.9372707852938884e-05, '5652': 2.58264906878306e-05, '5653': 2.58264906878306e-05, '7246': 5.708943289194978e-05, '7273': 4.702953654426704e-05, '7534': 2.91595794663126e-05, '5656': 6.102409826454611e-05, '5657': 2.8944704073510474e-05, '5658': 6.01199977960412e-05, '5659': 2.4811144520151502e-05, '5660': 2.852081541945121e-05, '5661': 3.198408361728165e-05, '5662': 3.867912602072571e-05, '5668': 3.6795201656982483e-05, '5647': 5.3002860045573934e-05, '5666': 4.087553392581597e-05, '5667': 4.19938887770805e-05, '5669': 2.471361233263514e-05, '5670': 2.8319936657097896e-05, '5674': 2.4860720292932825e-05, '5675': 4.9843196168191565e-05, '5676': 2.544903216346859e-05, '5678': 0.000140548137737175, '5679': 0.000140548137737175, '5682': 2.48796681155433e-05, '5686': 3.365966427780924e-05, '5685': 2.468854498503901e-05, '5687': 2.468854498503901e-05, '5688': 2.468854498503901e-05, '5689': 2.486623404025429e-05, '5690': 2.486623404025429e-05, '5691': 0.0002072628042063649, '5692': 0.00010764779700781643, '5695': 2.4700768262359834e-05, '5698': 2.4700768262359834e-05, '5696': 0.0002158657368452925, '5702': 6.013212324381259e-05, '5703': 2.4654116354659927e-05, '5704': 3.7340970366625206e-05, '5708': 4.720672433119018e-05, '5707': 3.684818054837681e-05, '5710': 2.47016634614903e-05, '5711': 2.47016634614903e-05, '5712': 2.47016634614903e-05, '5717': 2.4636756905115833e-05, '5718': 2.448104880934386e-05, '5720': 3.186809866630425e-05, '5722': 3.198160874944341e-05, '5729': 2.5236293427836913e-05, '5730': 2.5236293427836913e-05, '5731': 2.9427953157936044e-05, '5733': 2.4546641141473474e-05, '5735': 2.496228744029171e-05, '5741': 7.206053772727027e-05, '4418': 2.6793787502546954e-05, '5744': 2.6793787502546954e-05, '5746': 2.4790285012166806e-05, '5750': 3.74586480644317e-05, '5747': 2.849995591146652e-05, '5748': 2.4790285012166806e-05, '5749': 2.865443768648095e-05, '5751': 2.4877700891612116e-05, '5752': 2.4877700891612116e-05, '5755': 2.5952150916626125e-05, '5761': 5.61765966986366e-05, '5763': 3.676198645589491e-05, '5764': 2.460593178966888e-05, '5765': 2.460593178966888e-05, '5766': 0.000140548137737175, '5767': 0.000140548137737175, '5768': 7.556638811767133e-05, '5769': 3.651076331883896e-05, '5770': 4.505696850123834e-05, '5771': 6.038176269935204e-05, '5774': 2.474545388171848e-05, '5781': 2.4888770308777657e-05, '5783': 0.00010895397269730147, '5785': 2.832770704034469e-05, '5786': 2.468296411293229e-05, '5787': 0.00014173094286195625, '5788': 4.0162755170754407e-05, '5789': 2.4822913847552427e-05, '5794': 2.668253703601368e-05, '5796': 0.0007737502116535422, '5797': 3.176883996763731e-05, '7583': 3.723601670869366e-05, '8271': 3.684975882939303e-05, '5803': 2.822602898623317e-05, '6756': 2.5001371465564485e-05, '7533': 4.2802574356277987e-05, '5805': 8.477192239875245e-05, '5808': 4.335168279251147e-05, '5810': 0.0001363152997639207, '5813': 2.8624212126049225e-05, '6987': 2.4792789506024012e-05, '7508': 3.671431348693284e-05, '5815': 6.62828930642805e-05, '6871': 3.241819187475601e-05, '5816': 0.00035093131045547846, '5820': 0.00010275875039564597, '5821': 0.00011030624405143895, '7690': 2.4777566492411936e-05, '5823': 6.954629949600672e-05, '5833': 2.542916796985004e-05, '5834': 4.455224345323732e-05, '5842': 2.6267080303053264e-05, '5840': 2.6267080303053264e-05, '5841': 2.6267080303053264e-05, '5836': 6.565634483739869e-05, '5846': 3.3381716056925516e-05, '5852': 2.5451549205344902e-05, '5853': 2.5451549205344902e-05, '5854': 2.5451549205344902e-05, '3788': 2.826452141411081e-05, '5855': 5.301067916119687e-05, '5856': 2.4665047312707868e-05, '5857': 0.00038454749176062235, '5859': 9.532335849385623e-05, '5861': 2.921777382964459e-05, '5862': 0.0001114455973289327, '5864': 2.5412932066893278e-05, '5866': 2.5412932066893278e-05, '5868': 3.4347926341691696e-05, '7506': 2.4868319395956453e-05, '5873': 4.4983312162195255e-05, '5874': 2.5718641101213485e-05, '5875': 2.5718641101213485e-05, '5876': 2.5718641101213485e-05, '5877': 4.921416404793456e-05, '5878': 2.5718641101213485e-05, '5883': 2.8838188126524034e-05, '5884': 2.847072208772923e-05, '5885': 3.372050168380001e-05, '5888': 2.534719076050131e-05, '5889': 2.534719076050131e-05, '5890': 4.406145366176275e-05, '5590': 4.388780180677135e-05, '5892': 2.994774281556084e-05, '5895': 2.4776372376784913e-05, '5896': 6.338297307119145e-05, '5899': 2.8529346487690662e-05, '5070': 3.856489440281413e-05, '5903': 2.4665193813376516e-05, '4767': 7.629441935187614e-05, '5907': 2.483462115911866e-05, '5911': 2.862569824605811e-05, '5908': 0.00010235571905718595, '5909': 2.862569824605811e-05, '5913': 4.2636164608405374e-05, '5915': 0.00024031188765087272, '5916': 5.627494422886801e-05, '4927': 2.479001074340274e-05, '5914': 2.8727941376634235e-05, '5917': 2.479001074340274e-05, '5919': 3.0602391012954765e-05, '5920': 6.483655673887035e-05, '5921': 3.881232952631042e-05, '5923': 3.4785449885599883e-05, '5924': 2.5380794494737436e-05, '5927': 6.369132694744898e-05, '5930': 3.5611427890385404e-05, '5934': 0.00018576074156969883, '5935': 6.657830126780255e-05, '5937': 2.4548435767951864e-05, '5938': 2.834075824266614e-05, '5942': 3.591512309799308e-05, '5939': 3.1894130527237575e-05, '5940': 7.484632308814555e-05, '5941': 2.4548435767951864e-05, '5944': 2.470434513064369e-05, '5945': 5.661885136669824e-05, '5946': 3.867908280260977e-05, '5952': 7.60524686517219e-05, '5962': 2.964241611646803e-05, '5964': 2.5650003309522236e-05, '5958': 3.375144983870633e-05, '5966': 4.9529271174343796e-05, '5959': 2.5650003309522236e-05, '5960': 3.700713530481475e-05, '5093': 2.5650003309522236e-05, '5961': 6.917212458448976e-05, '5970': 0.000140548137737175, '5971': 0.000140548137737175, '5981': 4.31728046948341e-05, '5982': 3.966756853602498e-05, '5983': 2.5032659852171316e-05, '5984': 6.069496405980151e-05, '5985': 2.5032659852171316e-05, '5986': 2.5032659852171316e-05, '5987': 2.5032659852171316e-05, '5988': 3.986897111613989e-05, '5989': 2.5032659852171316e-05, '5990': 2.5032659852171316e-05, '5992': 2.4967709436210553e-05, '5993': 3.474349962163152e-05, '5997': 6.825347026819301e-05, '6791': 5.011143792990543e-05, '5967': 2.487454313529053e-05, '5999': 0.00010585707479373867, '8276': 8.353652155952476e-05, '6005': 2.5049597411840656e-05, '6003': 2.5049597411840656e-05, '6641': 6.840970449170475e-05, '6007': 4.83811163223568e-05, '6013': 3.496066860633362e-05, '4409': 5.4072391002036866e-05, '6014': 2.5702450538951204e-05, '6015': 3.496066860633362e-05, '6016': 6.38660318236755e-05, '6017': 2.9394482304142293e-05, '6018': 2.5702450538951204e-05, '6019': 2.5702450538951204e-05, '6020': 0.00012183613526544127, '6024': 8.899454766415622e-05, '6022': 2.477109674026889e-05, '6002': 0.000140548137737175, '6025': 0.000140548137737175, '6026': 3.5373418684888444e-05, '6028': 2.4484816476649983e-05, '6030': 2.525783742199494e-05, '6031': 2.9856018669372214e-05, '5978': 2.525783742199494e-05, '6033': 2.525783742199494e-05, '6034': 2.525783742199494e-05, '6036': 2.525783742199494e-05, '6037': 2.525783742199494e-05, '6035': 2.525783742199494e-05, '6038': 4.3946149894492884e-05, '6039': 2.5294312043251053e-05, '6042': 2.459694840853384e-05, '6045': 5.105980295766745e-05, '6046': 2.9375946673473962e-05, '6048': 2.4688553960370117e-05, '6049': 3.2544347489262264e-05, '6050': 2.4688553960370117e-05, '6051': 2.4688553960370117e-05, '6052': 2.4688553960370117e-05, '6053': 2.4688553960370117e-05, '6056': 3.1084712517690075e-05, '6057': 3.1084712517690075e-05, '6058': 3.1084712517690075e-05, '6060': 2.4832481768668798e-05, '6061': 2.4832481768668798e-05, '6062': 2.8458462033187457e-05, '6063': 2.4832481768668798e-05, '6064': 3.8690064742957635e-05, '6066': 2.4663929845679916e-05, '6070': 3.207139573052291e-05, '6071': 3.437314921853375e-05, '6072': 0.00025309916434686957, '6067': 2.4663929845679916e-05, '6068': 0.00015031104470383344, '6069': 4.3288303399003386e-05, '6073': 2.479776718182257e-05, '6074': 2.479776718182257e-05, '6075': 8.970447374202008e-05, '6077': 2.766813474262668e-05, '6079': 2.836961733666314e-05, '6081': 3.4765480121726505e-05, '6082': 9.448930123638085e-05, '6089': 0.000140548137737175, '6090': 0.000140548137737175, '6091': 2.4863706280900588e-05, '6092': 2.4863706280900588e-05, '6093': 4.044632133601735e-05, '6100': 0.000140548137737175, '6101': 0.000140548137737175, '6108': 3.6335157713029875e-05, '6116': 2.9605525696014025e-05, '6112': 2.568040190795353e-05, '6113': 2.568040190795353e-05, '6114': 2.9513941730977264e-05, '6118': 2.8582781902088627e-05, '6119': 3.4132998903306626e-05, '6120': 2.4853731172035014e-05, '6121': 2.8564300017482774e-05, '6126': 6.556499660077995e-05, '6129': 2.552084186564487e-05, '6128': 2.9336971167504168e-05, '6127': 3.348244365269229e-05, '6133': 3.682140811195819e-05, '6134': 5.0010927145065315e-05, '6135': 2.9712919552228277e-05, '6141': 2.6395830097533555e-05, '6142': 2.6395830097533555e-05, '6143': 2.6395830097533555e-05, '6144': 2.6395830097533555e-05, '6145': 2.6395830097533555e-05, '6146': 5.73568367702661e-05, '6147': 2.6395830097533555e-05, '6150': 2.4898349962435548e-05, '6152': 2.5114460254172072e-05, '6153': 2.5114460254172072e-05, '6155': 2.496248660819272e-05, '6158': 2.496248660819272e-05, '6157': 3.46362486604712e-05, '6160': 3.569032776736965e-05, '6165': 3.696346291855064e-05, '6168': 2.513989187363054e-05, '6169': 3.224843681599696e-05, '6175': 2.4581362827352226e-05, '6176': 3.28814857114167e-05, '6177': 2.8141201451913182e-05, '6178': 2.5636414327779893e-05, '6179': 4.783244258904602e-05, '6180': 3.451382182762517e-05, '6196': 2.9550982924571153e-05, '6197': 2.9200892314191827e-05, '6181': 2.5636414327779893e-05, '6182': 3.411584996695029e-05, '6183': 2.5636414327779893e-05, '6184': 2.9331760159615576e-05, '6185': 2.5636414327779893e-05, '6186': 2.5636414327779893e-05, '6187': 2.5636414327779893e-05, '388': 2.5636414327779893e-05, '6188': 2.5636414327779893e-05, '6199': 2.5636414327779893e-05, '6200': 4.622978674122193e-05, '6201': 2.9550982924571153e-05, '6202': 3.588624470166813e-05, '6203': 2.5636414327779893e-05, '6204': 6.658025598062178e-05, '6190': 3.395206790949639e-05, '6205': 2.5636414327779893e-05, '6206': 2.5636414327779893e-05, '6207': 3.7605405860830936e-05, '6191': 2.5636414327779893e-05, '6192': 3.0020400771912432e-05, '6208': 3.519982067538785e-05, '6193': 2.5636414327779893e-05, '6212': 3.4448227989017835e-05, '6213': 3.304513363526065e-05, '6214': 2.530041375317529e-05, '6215': 2.530041375317529e-05, '6216': 4.0893857776652404e-05, '6217': 0.00014002308705321625, '6219': 3.9429852581778036e-05, '6220': 9.300877686835505e-05, '6224': 2.4778728528776276e-05, '6222': 2.4778728528776276e-05, '6223': 9.014207952219798e-05, '6230': 2.8984131286470782e-05, '6228': 2.489497505323574e-05, '6232': 3.235371276345314e-05, '6236': 2.516415045204169e-05, '6239': 4.036179025517532e-05, '6240': 2.4683647019717894e-05, '7590': 3.257962620475091e-05, '6242': 4.0669622304087763e-05, '6244': 2.4888268053429875e-05, '6245': 5.130652629302323e-05, '6247': 2.4715761388361152e-05, '6248': 5.720300452848607e-05, '6252': 2.962108270345048e-05, '6253': 2.5771805917157192e-05, '6254': 2.5771805917157192e-05, '6258': 0.000140548137737175, '6259': 0.000140548137737175, '6263': 3.724900951740178e-05, '6264': 2.5466207104708793e-05, '6265': 2.5466207104708793e-05, '6266': 0.000140548137737175, '6267': 0.000140548137737175, '6271': 6.773154436215443e-05, '6273': 2.4782754861181677e-05, '6274': 5.8014109571672675e-05, '6275': 2.4782754861181677e-05, '6276': 2.4782754861181677e-05, '6282': 2.5020151293807748e-05, '6281': 2.5020151293807748e-05, '6286': 3.248786227722399e-05, '6287': 2.5059187266979964e-05, '6288': 2.5059187266979964e-05, '6291': 2.6363714215898732e-05, '6292': 2.6363714215898732e-05, '6293': 2.6363714215898732e-05, '6294': 2.6363714215898732e-05, '6297': 2.6363714215898732e-05, '6295': 3.354273412481171e-05, '6301': 2.630417203372103e-05, '6304': 2.471730994563328e-05, '6312': 3.352774788454908e-05, '6313': 2.8929376767188554e-05, '6314': 6.470800683851023e-05, '6315': 2.4880499145009656e-05, '6319': 3.0174732867552004e-05, '6132': 3.337443590074467e-05, '6317': 3.961535319676286e-05, '6324': 4.271676000350589e-05, '6325': 3.983145429154723e-05, '6326': 2.8266535337113828e-05, '6331': 3.529984202398446e-05, '6332': 2.55946352332954e-05, '6333': 2.978415010622907e-05, '6339': 3.466472345687525e-05, '6346': 8.625155689824781e-05, '6348': 2.477425242576734e-05, '6349': 2.477425242576734e-05, '6350': 2.477425242576734e-05, '4406': 2.4996789257367513e-05, '5995': 2.9444887869164533e-05, '6355': 2.4996789257367513e-05, '6356': 2.8937573222873293e-05, '6359': 0.0003431196978062871, '6298': 5.21048454387495e-05, '6366': 2.4887474543643365e-05, '6351': 2.4961379097639416e-05, '6371': 2.4961379097639416e-05, '6374': 2.5018203524752776e-05, '6375': 2.5018203524752776e-05, '6377': 8.868015812122107e-05, '6378': 2.9198549551014152e-05, '6379': 2.5217054827396532e-05, '6380': 3.748024464469533e-05, '6381': 3.398959221185072e-05, '7215': 3.720559019758967e-05, '6383': 3.309974851504098e-05, '6387': 2.5123971332239142e-05, '5965': 3.4063738560204634e-05, '6389': 2.4708582488628337e-05, '6391': 2.7068809079345688e-05, '6392': 2.7068809079345688e-05, '6393': 2.7068809079345688e-05, '6394': 5.539451446774451e-05, '6399': 2.7068809079345688e-05, '6395': 2.7068809079345688e-05, '6396': 2.7068809079345688e-05, '6397': 2.7068809079345688e-05, '6398': 0.00015209099489297705, '6406': 2.9507972899020417e-05, '6408': 3.603514649492185e-05, '6410': 2.5530319272373277e-05, '6411': 2.5530319272373277e-05, '6412': 2.5530319272373277e-05, '6413': 2.5530319272373277e-05, '6415': 3.696391412863313e-05, '6416': 2.9270206909059394e-05, '6983': 2.5629385969753654e-05, '6423': 2.534349649202898e-05, '6426': 3.053803982139077e-05, '6429': 2.489364827843098e-05, '6428': 3.1953181531067925e-05, '6430': 2.5342121446375365e-05, '6431': 2.5342121446375365e-05, '6436': 3.2803599547578865e-05, '6439': 2.4767210574466506e-05, '6440': 3.2507094452288234e-05, '6443': 0.0003062906749349437, '6444': 2.4963475052369378e-05, '6448': 2.4963475052369378e-05, '6445': 5.268106314366374e-05, '850': 3.6562693885097784e-05, '6446': 2.4963475052369378e-05, '6450': 2.5903916881275645e-05, '6451': 2.5903916881275645e-05, '6452': 3.057153863255138e-05, '6453': 2.5903916881275645e-05, '6454': 2.5903916881275645e-05, '6455': 2.5903916881275645e-05, '6456': 3.389019323715735e-05, '6457': 3.150039762126176e-05, '6459': 2.998339349745245e-05, '6461': 4.4961533038080084e-05, '6466': 2.5774979668690705e-05, '6467': 5.260164131164805e-05, '6468': 2.5774979668690705e-05, '6469': 2.9504030398744317e-05, '6470': 2.753494841748298e-05, '6471': 4.459562762762704e-05, '6477': 2.468854498503901e-05, '6479': 7.193811523518172e-05, '6478': 2.468854498503901e-05, '6480': 2.4784380676519287e-05, '6483': 0.00015157842439206398, '6484': 6.239749894120569e-05, '6485': 2.5473033001914598e-05, '6486': 0.00037815075481894536, '6487': 3.789802226203964e-05, '6488': 0.00010768683065477082, '6489': 2.9533134429130947e-05, '6490': 2.953598252346605e-05, '6492': 2.9081173585578432e-05, '6493': 2.5473033001914598e-05, '6494': 0.0004497463519930587, '8025': 3.833608688697472e-05, '6495': 3.62519674672437e-05, '6497': 2.4909115631308885e-05, '6500': 5.2823609429727785e-05, '6502': 7.117640571483456e-05, '6504': 4.745093461337739e-05, '6506': 2.5149774759819775e-05, '6507': 2.5149774759819775e-05, '6508': 2.5149774759819775e-05, '6509': 2.5149774759819775e-05, '6510': 0.00023936206319714082, '6513': 2.5173018565635294e-05, '6514': 2.5173018565635294e-05, '6515': 2.5173018565635294e-05, '6516': 2.489536836371205e-05, '6517': 2.8211213504119713e-05, '6518': 0.00015055002498475615, '6519': 2.5217243899615476e-05, '6520': 2.8987093434301954e-05, '6521': 2.5217243899615476e-05, '6522': 0.00014141734843141972, '6524': 5.6986206428081984e-05, '6525': 8.793063433471562e-05, '6526': 6.631087772603085e-05, '6527': 2.5273880390675384e-05, '6460': 0.00027986917542586017, '7765': 2.9193323246225868e-05, '6533': 2.63764543831186e-05, '6534': 2.63764543831186e-05, '6537': 4.2241242518145104e-05, '6535': 2.63764543831186e-05, '6538': 0.00012075343578801281, '6539': 2.63764543831186e-05, '6536': 3.1314221095328445e-05, '6541': 2.5884491937393593e-05, '6542': 2.5884491937393593e-05, '6544': 2.4722186683104025e-05, '6545': 4.1464748926201885e-05, '6546': 2.847105648300249e-05, '6547': 2.4722186683104025e-05, '6548': 5.922423688204798e-05, '6550': 5.9994369155487586e-05, '6561': 3.239825618366536e-05, '6565': 2.4747992703130864e-05, '6572': 2.5607951625274936e-05, '6573': 2.5607951625274936e-05, '6574': 2.519086138303803e-05, '6575': 2.519086138303803e-05, '6563': 0.0002610428518126358, '7840': 4.0312328110766424e-05, '6577': 6.085670045419168e-05, '6578': 2.8584117573458672e-05, '6579': 2.8584117573458672e-05, '6580': 2.8584117573458672e-05, '6586': 2.8584117573458672e-05, '6581': 2.8584117573458672e-05, '6582': 2.8584117573458672e-05, '6583': 2.8584117573458672e-05, '6587': 2.8584117573458672e-05, '6584': 2.8584117573458672e-05, '6588': 2.8584117573458672e-05, '6585': 2.8584117573458672e-05, '6598': 4.399850515894745e-05, '6601': 2.556546701040174e-05, '6602': 2.556546701040174e-05, '6603': 2.556546701040174e-05, '6604': 2.556546701040174e-05, '6605': 6.060855318588885e-05, '6607': 3.6129207906197215e-05, '6608': 9.74968611703341e-05, '6612': 4.9287697430919254e-05, '6619': 0.00045348868266140217, '6614': 2.9939054051333358e-05, '6615': 0.0006800981843513924, '6616': 9.325096991518128e-05, '6617': 2.4717457533116033e-05, '6622': 6.488749970228415e-05, '6623': 3.2137326047662137e-05, '6625': 3.339751572054345e-05, '6627': 0.00023006983923393678, '6626': 5.803776227898329e-05, '6630': 2.488318683283482e-05, '5943': 2.564634085864591e-05, '6636': 3.070700263606204e-05, '6633': 2.548540611784471e-05, '6635': 5.7293275024737964e-05, '6639': 5.0175352556907374e-05, '6643': 3.043737673215255e-05, '6644': 2.5215780213935225e-05, '6645': 2.9156564179441005e-05, '6646': 3.991204421877376e-05, '6647': 2.5215780213935225e-05, '6655': 4.993144013354806e-05, '6648': 3.373327179786068e-05, '6649': 0.00012164061725104874, '6650': 2.5215780213935225e-05, '6651': 2.5215780213935225e-05, '6652': 2.5215780213935225e-05, '6653': 2.5215780213935225e-05, '6654': 2.5215780213935225e-05, '6656': 2.5920137755404647e-05, '6657': 7.253941363345933e-05, '6658': 4.175040004413204e-05, '6609': 5.8541987133910536e-05, '6660': 3.0299290157929272e-05, '6551': 2.8667346677837637e-05, '6666': 4.441100650001269e-05, '6671': 3.944088562753134e-05, '6672': 2.5759193595594398e-05, '6673': 2.5759193595594398e-05, '6674': 2.5759193595594398e-05, '6675': 2.5759193595594398e-05, '6676': 4.549595491274352e-05, '6677': 2.5759193595594398e-05, '6678': 2.5759193595594398e-05, '6679': 2.5759193595594398e-05, '6683': 4.376008155917672e-05, '6684': 3.175591033569224e-05, '6687': 5.888185950077168e-05, '6688': 5.888185950077168e-05, '6689': 5.888185950077168e-05, '6690': 5.888185950077168e-05, '6695': 2.9171483623654052e-05, '6696': 2.9645634921161204e-05, '6697': 2.5399425344241377e-05, '6698': 2.5399425344241377e-05, '6701': 2.608977848589219e-05, '6702': 6.110436238055009e-05, '6703': 2.4920356813659333e-05, '6705': 2.5014186150002132e-05, '6706': 3.3234195087441306e-05, '6710': 2.830088162648831e-05, '6711': 4.8220347540143334e-05, '6713': 3.741418542642827e-05, '6718': 2.5258543401699856e-05, '6717': 4.3873640499777326e-05, '6719': 3.2849767337960706e-05, '6727': 2.4634607846739696e-05, '6728': 2.4634607846739696e-05, '6729': 2.5143736118936368e-05, '6730': 2.5143736118936368e-05, '6731': 2.5143736118936368e-05, '6732': 2.5143736118936368e-05, '6734': 2.8552805951942053e-05, '6735': 2.5474867329195772e-05, '6738': 2.5474867329195772e-05, '6744': 2.969432253247424e-05, '6745': 2.5749842411851987e-05, '6746': 2.968987375163227e-05, '6749': 2.708270134483746e-05, '6751': 6.980681760228632e-05, '6757': 5.0791840683936685e-05, '6726': 7.035200490540142e-05, '6752': 2.4772593455483742e-05, '6753': 3.884670755388687e-05, '6758': 6.527684204971577e-05, '6760': 2.8885304507212314e-05, '6761': 2.4905692775306305e-05, '6764': 2.4831090460474716e-05, '6766': 0.00011794133895565459, '6767': 2.8879968082653614e-05, '6768': 2.5025763462244154e-05, '6771': 2.8879957102439972e-05, '8021': 6.316358371671677e-05, '6775': 3.289690378699353e-05, '6773': 2.469786307408245e-05, '6779': 3.4400480644368106e-05, '6781': 5.2126551721096904e-05, '6782': 2.513109828275515e-05, '6787': 2.7095210147621138e-05, '6793': 2.5026700781198506e-05, '6794': 2.5026700781198506e-05, '6795': 2.971409349430235e-05, '6797': 2.5023004626082036e-05, '6798': 2.5023004626082036e-05, '6800': 2.5023004626082036e-05, '6801': 4.5578235898817234e-05, '6802': 3.57404070897723e-05, '6804': 4.613567029443717e-05, '6808': 2.7450087028966322e-05, '6807': 2.7450087028966322e-05, '6810': 2.541881666578537e-05, '6812': 2.9521889005063562e-05, '6811': 2.541881666578537e-05, '6815': 3.700174525661828e-05, '6816': 2.5015175309209536e-05, '6818': 2.8805096701361087e-05, '6819': 2.5133779453080494e-05, '5269': 2.5133779453080494e-05, '6821': 2.501985172637862e-05, '6822': 2.8906641165881795e-05, '6824': 2.501985172637862e-05, '6776': 3.243580191157927e-05, '6828': 2.49785752222154e-05, '6829': 3.678499562300733e-05, '6834': 3.0485911207151098e-05, '6835': 2.5264314688933773e-05, '6836': 2.5264314688933773e-05, '6837': 2.4697458576651893e-05, '6841': 2.959498108659475e-05, '6842': 2.535807396894147e-05, '6843': 2.535807396894147e-05, '6844': 2.535807396894147e-05, '6845': 2.9729396490758783e-05, '6846': 4.471261948632918e-05, '6848': 7.795673718213265e-05, '6847': 2.5719734805991216e-05, '6852': 2.5123971332239142e-05, '6854': 2.48463793531716e-05, '6859': 6.819592449346099e-05, '6620': 0.000392359337503789, '6861': 2.907305974817211e-05, '6862': 2.5027567357796187e-05, '6863': 3.0249163876013513e-05, '6864': 2.91774044439355e-05, '6866': 3.674248600495803e-05, '6867': 4.0088119495516556e-05, '6865': 9.569212097735402e-05, '6870': 3.217736959268629e-05, '6876': 2.4969010100079428e-05, '6877': 2.4969010100079428e-05, '6878': 2.4969010100079428e-05, '6880': 2.9172360448730282e-05, '6881': 2.502252336259097e-05, '6883': 3.707738710054796e-05, '6884': 2.5230724907520252e-05, '6885': 0.00010604141586364145, '6747': 3.830690942000711e-05, '6886': 4.934161315468355e-05, '5410': 2.482884372874545e-05, '6895': 4.316888589320682e-05, '6896': 3.634703593454691e-05, '6899': 3.1276642180869845e-05, '6900': 0.00014940150886877702, '6902': 0.0001375257081767721, '6903': 5.0406000756168326e-05, '6905': 2.5317900566962422e-05, '6915': 3.0043215259332772e-05, '6906': 0.00021609922009236497, '6908': 2.5317900566962422e-05, '6909': 2.5317900566962422e-05, '2415': 3.661660872896104e-05, '6910': 2.5317900566962422e-05, '6916': 0.00026451231576482667, '6911': 4.298570231975004e-05, '6912': 3.266136739803236e-05, '6921': 2.4832481768668798e-05, '6922': 2.4832481768668798e-05, '6926': 2.526527953322138e-05, '6927': 2.526527953322138e-05, '6928': 2.4735210179965537e-05, '6929': 2.5127713050952175e-05, '6935': 2.8162365287843643e-05, '6936': 2.4663929845679916e-05, '6940': 2.5266996002505133e-05, '6941': 0.0002560137059116274, '6943': 2.47724758043903e-05, '6949': 4.01658663707666e-05, '6947': 2.501643182662594e-05, '6954': 3.400012278430185e-05, '7636': 2.587045253385756e-05, '7881': 3.0454059121560197e-05, '7991': 2.9757724888131742e-05, '8007': 6.700986433683975e-05, '6959': 4.0369268498718585e-05, '6692': 4.6627395334703775e-05, '6958': 3.152521930016457e-05, '6960': 2.468791882691863e-05, '6961': 2.8451478074815144e-05, '6962': 2.468791882691863e-05, '6963': 2.468791882691863e-05, '6968': 2.512269788979504e-05, '6969': 2.512269788979504e-05, '6316': 9.873552074483195e-05, '6971': 4.560686344595625e-05, '6972': 2.4662794915530795e-05, '6974': 2.8722896342747144e-05, '6975': 6.402147895776816e-05, '6978': 2.4755496939984753e-05, '6981': 2.6353849262803606e-05, '6984': 4.8349587433425736e-05, '6985': 2.5142322087792602e-05, '6990': 2.490925730947506e-05, '6991': 9.192766714246234e-05, '6995': 2.5145170182127705e-05, '6996': 3.402986835651167e-05, '6998': 2.762485068826454e-05, '6999': 2.762485068826454e-05, '7000': 2.762485068826454e-05, '7001': 2.762485068826454e-05, '7002': 3.193640973831789e-05, '7003': 2.762485068826454e-05, '7004': 2.762485068826454e-05, '7006': 2.762485068826454e-05, '7007': 2.762485068826454e-05, '7008': 2.762485068826454e-05, '7009': 2.762485068826454e-05, '7010': 2.762485068826454e-05, '7011': 3.465752669694782e-05, '7013': 2.762485068826454e-05, '7014': 3.218521541136438e-05, '7015': 2.762485068826454e-05, '7016': 2.762485068826454e-05, '7017': 2.762485068826454e-05, '7018': 2.762485068826454e-05, '7019': 3.9825415391024155e-05, '7020': 3.64661350265555e-05, '7022': 2.762485068826454e-05, '7024': 3.494087528804438e-05, '7025': 2.762485068826454e-05, '7026': 7.63351278679071e-05, '7027': 2.762485068826454e-05, '7028': 2.762485068826454e-05, '7029': 3.132541200901909e-05, '7031': 0.00010078158423047149, '7033': 0.00022008124475058198, '7032': 0.00010078158423047149, '7035': 2.822600556810814e-05, '7036': 2.8880574179185752e-05, '7037': 2.4646445605794316e-05, '7041': 3.8530752621345744e-05, '7043': 0.00010078701722572263, '7044': 3.6812895778668526e-05, '7051': 2.6083088747775473e-05, '7045': 0.00016465036608228232, '7053': 0.0001613086440543916, '7046': 0.00010929173118910456, '7055': 0.00042732950344166845, '7048': 2.6083088747775473e-05, '7056': 0.00017394746872866098, '7049': 0.00013295046187720912, '7057': 0.0005050651434427908, '7030': 2.892740357855125e-05, '7061': 3.2944871859507795e-05, '7064': 3.2159405352889236e-05, '7065': 2.455067172404147e-05, '7038': 4.8956319867619584e-05, '7072': 2.5313980948749933e-05, '7070': 2.9521268133683724e-05, '7071': 3.715020148622191e-05, '7079': 2.5152024909776233e-05, '7080': 0.000325436679677831, '7797': 2.5064596074258067e-05, '7082': 2.5056430820654493e-05, '7085': 2.5199456771714603e-05, '7087': 2.895741701309478e-05, '7086': 0.0005498951530562662, '7084': 2.5199456771714603e-05, '7090': 6.513229899455135e-05, '5015': 7.905768668698454e-05, '7089': 2.9926371149239134e-05, '7096': 4.19115504176957e-05, '7095': 2.548540611784471e-05, '7098': 2.49834269731947e-05, '7099': 9.046931907555384e-05, '7100': 8.340717433819318e-05, '7103': 2.516169727675306e-05, '7104': 8.132103388637457e-05, '7106': 3.686378138673565e-05, '7107': 3.844250231287762e-05, '7109': 2.941924526329907e-05, '7111': 2.5289507845510048e-05, '7112': 2.5289507845510048e-05, '7113': 7.18187591584328e-05, '7114': 2.5289507845510048e-05, '7118': 2.5206243674213493e-05, '7117': 5.041711667638886e-05, '7121': 4.86049818409292e-05, '7123': 2.5807535352946604e-05, '7122': 2.5807535352946604e-05, '7124': 2.6303817178793578e-05, '7125': 2.6303817178793578e-05, '7127': 3.0744782210188e-05, '7128': 3.0360025853774234e-05, '7129': 7.065381556529786e-05, '7136': 3.136856668096646e-05, '7130': 3.0482413029543422e-05, '7137': 2.6303817178793578e-05, '7126': 3.4398225130408014e-05, '7132': 0.00015138858351560665, '7133': 2.6303817178793578e-05, '7138': 3.085991220015581e-05, '7134': 3.403154252781138e-05, '7139': 3.457549326908301e-05, '7140': 2.6303817178793578e-05, '7135': 2.6303817178793578e-05, '6986': 2.5080698072807777e-05, '7142': 3.7363676628580626e-05, '7145': 2.5270791264734666e-05, '7151': 2.4758212804095938e-05, '7153': 7.581422716546376e-05, '7154': 2.5232057746715567e-05, '7155': 2.5232057746715567e-05, '7156': 2.5232057746715567e-05, '7157': 2.5232057746715567e-05, '7160': 2.5232057746715567e-05, '7158': 2.5232057746715567e-05, '7159': 2.5232057746715567e-05, '7163': 3.2787322639404366e-05, '7164': 3.634615982409316e-05, '7165': 3.3854885870582746e-05, '7166': 2.5337394286657297e-05, '7167': 2.5337394286657297e-05, '7172': 2.9199622450483964e-05, '7173': 2.9075481977165917e-05, '7174': 2.5260816511326097e-05, '7175': 3.102885213095735e-05, '7178': 2.9120628243568068e-05, '7179': 3.102885213095735e-05, '7176': 3.7466466350796355e-05, '7177': 2.5260816511326097e-05, '7183': 5.846869472918013e-05, '7184': 2.8656641030842263e-05, '7187': 2.4538771327122773e-05, '7188': 7.620602094469172e-05, '7189': 3.292811509582931e-05, '7190': 0.000140548137737175, '7191': 0.000140548137737175, '7192': 2.5260483239745805e-05, '7193': 2.5260483239745805e-05, '6889': 4.5960283294094475e-05, '7194': 0.000140548137737175, '7195': 0.000140548137737175, '7197': 2.5451804398678337e-05, '7198': 6.0026795686835794e-05, '7203': 2.474959572835155e-05, '7205': 2.8311111211806214e-05, '7206': 2.8311111211806214e-05, '7210': 2.5638315681938483e-05, '7211': 2.5638315681938483e-05, '7212': 2.5638315681938483e-05, '7217': 2.5254660706128255e-05, '7219': 2.4613144457845733e-05, '7218': 2.4613144457845733e-05, '7220': 2.496248660819272e-05, '7221': 2.496248660819272e-05, '7223': 2.5143736118936368e-05, '7226': 3.8651372986926263e-05, '7227': 7.41633471857104e-05, '7228': 5.0129546946459824e-05, '7229': 5.0943814657638254e-05, '5143': 0.00010130770823277893, '7230': 3.799008113379945e-05, '7231': 0.0004366055060735303, '7232': 2.4925925705194752e-05, '7234': 2.4925925705194752e-05, '7235': 2.4925925705194752e-05, '7236': 0.00011496764170382098, '7239': 0.00010815009455533207, '7240': 2.497203698487682e-05, '7241': 0.00010440833010647635, '7245': 2.5022252000356538e-05, '7251': 2.4797801729503454e-05, '7252': 2.4797801729503454e-05, '7253': 3.95344170385557e-05, '7255': 2.6797372819905808e-05, '7260': 3.5195602688047856e-05, '7265': 2.513842933555691e-05, '7266': 4.645179016215664e-05, '7267': 2.513842933555691e-05, '7268': 2.513842933555691e-05, '7269': 2.513842933555691e-05, '7270': 4.2853841521423526e-05, '7271': 3.421923951638793e-05, '7276': 4.347181449181352e-05, '7278': 3.657229538755586e-05, '7282': 3.129601465060542e-05, '7283': 2.6254653907618814e-05, '7284': 3.129601465060542e-05, '7285': 2.6254653907618814e-05, '7286': 2.6254653907618814e-05, '7287': 2.6254653907618814e-05, '7291': 5.019268820145471e-05, '7293': 3.696233006495879e-05, '5949': 3.278914375445631e-05, '7296': 2.4867779848116098e-05, '7298': 2.9223747012725225e-05, '7299': 2.5523185691970677e-05, '7300': 2.5523185691970677e-05, '7302': 2.9463224982307682e-05, '7305': 2.4941434323189952e-05, '7171': 5.89634827371939e-05, '7309': 2.552429518177821e-05, '7310': 2.552429518177821e-05, '7317': 9.016005938832727e-05, '7320': 2.869927122826512e-05, '7294': 0.00017416589345522208, '7326': 2.4773023064057833e-05, '7327': 4.437268237593439e-05, '7281': 6.897561042464006e-05, '7329': 2.9240879991275756e-05, '7333': 2.5231218306508192e-05, '7330': 2.9017317041888392e-05, '7332': 2.4876592183410822e-05, '7335': 8.487317344063142e-05, '7336': 2.4876592183410822e-05, '7337': 2.4876592183410822e-05, '7342': 2.4951319412960537e-05, '7345': 2.4951319412960537e-05, '7343': 6.945406177809725e-05, '7344': 3.372567136244554e-05, '7347': 2.5091882345343817e-05, '7348': 2.902148191136291e-05, '7349': 2.5091882345343817e-05, '7350': 0.00010314438193297441, '7352': 8.150628311842e-05, '7353': 2.5091882345343817e-05, '7354': 3.7739066570953664e-05, '7355': 2.5091882345343817e-05, '7360': 2.5043910938354015e-05, '7363': 2.5016410358892936e-05, '7371': 3.1571581283108114e-05, '7374': 2.4986215388114382e-05, '7377': 2.4986215388114382e-05, '7379': 4.98526856226017e-05, '7380': 3.291152369411858e-05, '7357': 6.000150529387106e-05, '7199': 2.8742943852711622e-05, '7382': 2.4880499145009656e-05, '7383': 2.8422845459091605e-05, '7390': 0.00011794007428981444, '7392': 2.4624566974658202e-05, '7321': 3.356014518860918e-05, '7394': 4.2780247491886516e-05, '7170': 2.5239864342904548e-05, '7401': 3.3155700496073775e-05, '7402': 4.08467071245517e-05, '7403': 2.5239864342904548e-05, '7404': 2.5239864342904548e-05, '7405': 9.799289232683567e-05, '7409': 5.9853170012647147e-05, '7413': 2.880568791188797e-05, '7416': 2.512036982292008e-05, '7417': 2.9544154873551873e-05, '7418': 2.955091995282122e-05, '7419': 2.5717380129797483e-05, '7420': 2.5717380129797483e-05, '7421': 6.096747120355296e-05, '7424': 3.7948288864052615e-05, '7425': 5.236504849218599e-05, '7426': 2.8547595271959034e-05, '7427': 2.5014858104540097e-05, '7428': 2.859543235949464e-05, '7429': 2.5014858104540097e-05, '7430': 2.5014858104540097e-05, '7431': 2.5014858104540097e-05, '7441': 3.3746951726002774e-05, '7444': 3.553799409348294e-05, '6139': 2.7363990335727638e-05, '7448': 2.7363990335727638e-05, '7445': 2.7363990335727638e-05, '7446': 2.7363990335727638e-05, '7447': 2.7363990335727638e-05, '7451': 2.6850256280207507e-05, '7452': 3.613750247801123e-05, '7453': 2.6850256280207507e-05, '7181': 3.207185279842483e-05, '7180': 4.19842771431631e-05, '7454': 2.6850256280207507e-05, '7455': 3.9487019895836765e-05, '7456': 2.6850256280207507e-05, '7457': 2.6850256280207507e-05, '7458': 2.6850256280207507e-05, '7459': 2.6850256280207507e-05, '7461': 2.6850256280207507e-05, '7462': 2.6850256280207507e-05, '7465': 0.00010078158423047149, '7467': 0.00022008124475058198, '7466': 0.00010078158423047149, '7473': 2.6115923115803036e-05, '7474': 2.6115923115803036e-05, '7468': 2.6115923115803036e-05, '7469': 2.6115923115803036e-05, '7476': 3.046548809168886e-05, '7477': 2.6115923115803036e-05, '7470': 2.6115923115803036e-05, '4532': 5.578894434291264e-05, '7480': 2.511679384968679e-05, '7481': 2.511679384968679e-05, '7482': 2.511604511046014e-05, '7483': 2.511604511046014e-05, '7484': 3.2614244944699076e-05, '7485': 2.573969265744734e-05, '7486': 2.573969265744734e-05, '7487': 2.573969265744734e-05, '7492': 3.4020604039857076e-05, '7494': 0.000140548137737175, '7495': 0.000140548137737175, '7501': 2.5341331730426135e-05, '7502': 3.330451463908077e-05, '7503': 2.5341331730426135e-05, '7505': 2.4908995404330643e-05, '7509': 2.5211958078365276e-05, '7471': 5.6243525684311385e-05, '7511': 8.894331541388509e-05, '7514': 3.456161340693564e-05, '7515': 2.6040475612292976e-05, '7513': 2.6040475612292976e-05, '7518': 3.4095327564723716e-05, '7376': 3.6055822281424516e-05, '7522': 2.46833081004583e-05, '7523': 2.46833081004583e-05, '7524': 2.46833081004583e-05, '7525': 2.46833081004583e-05, '7527': 2.576443869685245e-05, '7528': 2.576443869685245e-05, '7531': 2.5066976818446666e-05, '7538': 2.5540514481827477e-05, '7540': 2.5540514481827477e-05, '7535': 2.5540514481827477e-05, '7536': 2.5540514481827477e-05, '7537': 2.5540514481827477e-05, '7549': 2.875790796551331e-05, '7545': 2.5177333710558772e-05, '7546': 3.2783698379364384e-05, '7550': 2.5177333710558772e-05, '7554': 3.2650423068170524e-05, '7563': 2.563788820626181e-05, '7564': 0.00014829037234961298, '7415': 4.455602980018033e-05, '7150': 6.160576446400008e-05, '7565': 3.267880651784466e-05, '7569': 3.667631274138411e-05, '7570': 3.562635455784233e-05, '7571': 2.5670698330511578e-05, '7572': 2.5670698330511578e-05, '7576': 2.5011255905214572e-05, '7577': 2.5011255905214572e-05, '7578': 0.0001532825283085992, '8165': 2.577058452517788e-05, '7579': 5.723970609366097e-05, '7580': 0.00010141977930427625, '7581': 2.5011255905214572e-05, '7585': 2.4942032392818225e-05, '7586': 4.981905727363815e-05, '7594': 3.787022462094966e-05, '7595': 2.519059996711098e-05, '7597': 3.9788505037554535e-05, '7598': 0.00015439606929509674, '7599': 2.519059996711098e-05, '7600': 2.519059996711098e-05, '7602': 2.5841104371599768e-05, '7605': 3.218584322879641e-05, '5910': 2.455067172404147e-05, '7608': 3.0383877280402423e-05, '7610': 2.6146970162749138e-05, '7611': 2.6146970162749138e-05, '7613': 2.6146970162749138e-05, '7609': 2.911059425898677e-05, '7614': 0.00017790588248909573, '7615': 2.5393779710629597e-05, '7616': 2.5393779710629597e-05, '7617': 2.5393779710629597e-05, '7619': 2.5393779710629597e-05, '7623': 3.258271305089452e-05, '7625': 4.759409745044383e-05, '7626': 2.4872000755608102e-05, '7630': 2.494466536827822e-05, '7629': 2.494466536827822e-05, '7639': 2.5410650436099796e-05, '7638': 2.5410650436099796e-05, '7601': 3.7851106820531804e-05, '7644': 2.5753051625428903e-05, '7645': 2.5753051625428903e-05, '7986': 2.9627888669515708e-05, '7659': 4.54269455742928e-05, '7660': 2.5185292999854444e-05, '7650': 2.9053532354019653e-05, '7661': 3.726142758565691e-05, '7663': 2.4661912585879697e-05, '7664': 2.4661912585879697e-05, '7665': 4.4919730707696534e-05, '7670': 2.5283661392207757e-05, '7676': 4.67812557695654e-05, '7677': 7.973916752050573e-05, '7678': 2.9852525380591626e-05, '7679': 0.00012718647024778765, '7682': 0.00019217813439993328, '7684': 2.984317925312966e-05, '7685': 7.623593035911783e-05, '7687': 3.378348195514437e-05, '7686': 2.984317925312966e-05, '7696': 3.976979919177558e-05, '7697': 0.00011137184945164587, '7698': 2.4840180901956425e-05, '7703': 2.949529040039556e-05, '7704': 2.5790329326965406e-05, '7705': 2.5790329326965406e-05, '7706': 2.9962151018980977e-05, '7715': 2.512269788979504e-05, '7716': 2.905700052056111e-05, '7719': 3.804298835359489e-05, '6367': 3.0719178629781155e-05, '7717': 2.905700052056111e-05, '7720': 2.628787257354019e-05, '7721': 2.6634997943435793e-05, '7724': 3.0503067802107908e-05, '7728': 3.0097371680457984e-05, '7727': 0.00015185934042643816, '7729': 3.0496282287380256e-05, '7732': 3.065151323273809e-05, '7733': 0.00021563839183705156, '7736': 3.048739513162634e-05, '7737': 2.5254042352591824e-05, '7738': 4.418342656664302e-05, '7741': 3.899739087907213e-05, '7742': 2.4946526431567962e-05, '7743': 7.872632254858549e-05, '7744': 0.00023867473875402293, '7745': 2.4974351027897666e-05, '7747': 5.180621336727796e-05, '7750': 3.082417984323316e-05, '7751': 2.594114747749197e-05, '7752': 3.0298497634004974e-05, '7753': 3.0298497634004974e-05, '7755': 7.787957754688955e-05, '7756': 3.0298497634004974e-05, '7758': 2.6382027923843287e-05, '7759': 3.8200469970655634e-05, '7760': 2.6382027923843287e-05, '7761': 2.6382027923843287e-05, '7762': 2.6382027923843287e-05, '7766': 7.442246980214783e-05, '7767': 2.8938079778692926e-05, '7768': 6.807035896122735e-05, '7769': 0.000101228673594234, '7770': 2.9194761403052727e-05, '7771': 3.600415251306645e-05, '7772': 0.00011877062777891374, '7773': 2.6215766730495238e-05, '7774': 0.00017294345053768512, '7775': 6.719233702999524e-05, '7777': 2.6215766730495238e-05, '7779': 3.020872320378245e-05, '7780': 3.470766449184503e-05, '7781': 2.502252336259097e-05, '7782': 2.502252336259097e-05, '7783': 2.502252336259097e-05, '7789': 2.516823024400645e-05, '7790': 3.9151840913625806e-05, '7792': 5.189914016596801e-05, '7796': 2.4992236540006922e-05, '7800': 2.6928995325728118e-05, '7804': 2.6928995325728118e-05, '7801': 2.6928995325728118e-05, '7805': 2.6928995325728118e-05, '7802': 2.6928995325728118e-05, '7806': 2.868784053962291e-05, '7808': 7.037691198090356e-05, '7812': 4.654459882436776e-05, '7814': 2.5338944581119804e-05, '7815': 2.9650503631173148e-05, '7818': 0.00013382895447290727, '7821': 2.5283810349619375e-05, '7822': 2.5283810349619375e-05, '7826': 3.522675809497089e-05, '7827': 3.522675809497089e-05, '7828': 3.522675809497089e-05, '7829': 3.869891118700316e-05, '7830': 2.5022259950913255e-05, '7831': 2.9542156831694786e-05, '7832': 2.5022259950913255e-05, '7834': 2.5022259950913255e-05, '7836': 2.5022259950913255e-05, '7837': 2.8499596529687974e-05, '7841': 2.501652329134232e-05, '7842': 2.8616321804354538e-05, '7843': 2.882363984301255e-05, '7844': 2.47827819813308e-05, '7845': 2.9641373639483448e-05, '7848': 2.47827819813308e-05, '7849': 2.513371247135246e-05, '7852': 2.513371247135246e-05, '7850': 2.513371247135246e-05, '7851': 2.513371247135246e-05, '6638': 2.513371247135246e-05, '7853': 3.19085381154278e-05, '7854': 2.5399767822038523e-05, '7856': 5.187769842771305e-05, '7754': 2.5439570817089256e-05, '7863': 2.491576048359999e-05, '7864': 2.895661834528174e-05, '7865': 0.00012817673425921254, '7866': 2.526809494012594e-05, '7867': 2.581814956574933e-05, '7868': 2.581814956574933e-05, '7870': 2.581814956574933e-05, '7873': 4.601789359102354e-05, '7875': 2.9655490179230956e-05, '7877': 5.080189804378763e-05, '7878': 2.6019987372786098e-05, '7885': 4.8610390938130837e-05, '7883': 2.518556205130145e-05, '7884': 4.161168743466988e-05, '7886': 2.5949626386620326e-05, '7887': 2.5949626386620326e-05, '7888': 2.5949626386620326e-05, '7889': 2.5949626386620326e-05, '7891': 2.514787034016265e-05, '7892': 2.514787034016265e-05, '7893': 2.963321938133106e-05, '7372': 2.514787034016265e-05, '7894': 2.514787034016265e-05, '7900': 0.0001393115130474568, '7901': 0.00015013990661394584, '7902': 0.00011384092234378228, '7903': 3.846297834969357e-05, '7904': 4.673808325435676e-05, '7905': 2.5022382243108807e-05, '7906': 6.341683707456954e-05, '7907': 7.507701390712079e-05, '7911': 2.5861310546238097e-05, '7869': 2.5861310546238097e-05, '7914': 2.5373221648226183e-05, '7915': 2.5059172437810187e-05, '7916': 2.9386219916014537e-05, '7919': 3.5528920661469664e-05, '7920': 2.6318840817524128e-05, '7922': 2.612492451929285e-05, '7923': 2.612492451929285e-05, '7925': 2.612492451929285e-05, '7930': 2.478718173400641e-05, '7929': 3.909935642259604e-05, '7932': 2.8901067409981727e-05, '7933': 3.8386439727525315e-05, '7931': 2.846045801341491e-05, '7934': 2.478718173400641e-05, '7935': 2.478718173400641e-05, '7937': 2.5642585383676092e-05, '7938': 3.004577084094455e-05, '7939': 2.5642585383676092e-05, '7940': 2.5642585383676092e-05, '7941': 2.5642585383676092e-05, '7942': 2.5642585383676092e-05, '7944': 2.5409268138780602e-05, '7945': 4.1321593414680126e-05, '7948': 3.025374955929359e-05, '7949': 2.543163940188182e-05, '7950': 2.543163940188182e-05, '7953': 2.5153747038958116e-05, '7954': 2.6268420501767734e-05, '7955': 2.6268420501767734e-05, '7956': 2.6268420501767734e-05, '7959': 2.5026265022683114e-05, '7960': 2.5026265022683114e-05, '7964': 6.895263778728998e-05, '7966': 2.5629385969753654e-05, '7968': 3.412768447700463e-05, '7969': 3.1717210431570316e-05, '7967': 3.877600981679449e-05, '7970': 2.5629385969753654e-05, '7972': 0.000140548137737175, '7973': 0.000140548137737175, '7974': 2.5904330817988022e-05, '7975': 2.5904330817988022e-05, '7976': 2.5904330817988022e-05, '7978': 2.5300326717038408e-05, '7980': 8.826753212571044e-05, '7981': 0.000140548137737175, '7982': 0.000140548137737175, '7985': 2.4605546485127756e-05, '7993': 3.0548911472278e-05, '7995': 2.7541449012180325e-05, '7998': 2.7421523945553844e-05, '7999': 2.7421523945553844e-05, '8000': 2.7421523945553844e-05, '8001': 2.7421523945553844e-05, '8005': 2.957547027848678e-05, '8006': 3.2434399854620695e-05, '8009': 2.5769613373680098e-05, '8010': 2.997939494147079e-05, '8011': 2.5769613373680098e-05, '8012': 5.262245345656322e-05, '8013': 2.5769613373680098e-05, '8014': 0.000140548137737175, '8015': 0.000140548137737175, '8020': 3.9000998204105155e-05, '8027': 3.465437140517215e-05, '8035': 2.5199456771714603e-05, '8036': 0.0001036209861823012, '8040': 2.5292002228366943e-05, '8041': 3.337523393718293e-05, '8045': 6.392852134764705e-05, '8046': 9.406532414432171e-05, '8047': 0.00011473471046391917, '8048': 3.6625626544350496e-05, '8049': 2.5210411975900498e-05, '8052': 2.5210411975900498e-05, '8053': 0.00011324012374277675, '8054': 2.9613597433168955e-05, '8055': 2.5974208898944223e-05, '8056': 2.5974208898944223e-05, '8057': 2.5974208898944223e-05, '8060': 4.27893113736031e-05, '8061': 4.3006974941834934e-05, '8062': 2.531912777822954e-05, '8063': 3.4780216657514163e-05, '8064': 2.531912777822954e-05, '8065': 2.531912777822954e-05, '8066': 3.427437484364589e-05, '8069': 3.832408710530437e-05, '8070': 2.5159669876301325e-05, '8071': 2.5159669876301325e-05, '8072': 2.5159669876301325e-05, '8074': 0.00010078158423047149, '8076': 0.00022008124475058198, '8075': 0.00010078158423047149, '8077': 3.115698139664491e-05, '8080': 2.5693034298571246e-05, '8081': 2.5693034298571246e-05, '8023': 2.5913843314099648e-05, '8084': 2.5913843314099648e-05, '8085': 9.030435485257936e-05, '8086': 2.5913843314099648e-05, '8087': 2.5913843314099648e-05, '8088': 6.829158910522164e-05, '8089': 5.0175003816959166e-05, '8091': 2.4815871207775283e-05, '8092': 4.3976563078423935e-05, '8093': 2.4815871207775283e-05, '8094': 4.6667597443096926e-05, '8095': 2.4815871207775283e-05, '8096': 2.4815871207775283e-05, '8098': 2.6303817178793578e-05, '8099': 2.6303817178793578e-05, '8100': 2.6303817178793578e-05, '8101': 2.6303817178793578e-05, '8102': 2.6303817178793578e-05, '8108': 2.6303817178793578e-05, '8103': 2.6303817178793578e-05, '8104': 2.6303817178793578e-05, '8105': 2.6303817178793578e-05, '8111': 3.061537622884692e-05, '8112': 3.1900297918779696e-05, '8106': 2.6303817178793578e-05, '8107': 8.104014382446052e-05, '8114': 2.6303817178793578e-05, '8115': 2.6303817178793578e-05, '8109': 2.6303817178793578e-05, '8110': 2.6303817178793578e-05, '8118': 2.59408123187289e-05, '8119': 2.59408123187289e-05, '8120': 2.59408123187289e-05, '8126': 2.5884491937393593e-05, '8131': 3.46890396851197e-05, '8133': 2.630721480908313e-05, '8135': 2.611045451624717e-05, '8138': 2.611045451624717e-05, '8136': 2.611045451624717e-05, '8097': 3.042201356630051e-05, '8137': 2.611045451624717e-05, '8140': 2.667870140056237e-05, '8142': 2.667870140056237e-05, '8144': 2.667870140056237e-05, '8145': 3.276652586237903e-05, '8146': 3.292969144916447e-05, '8147': 2.9113871140755863e-05, '8152': 6.24695434136877e-05, '8153': 2.4853893319338896e-05, '8155': 2.5393779710629597e-05, '8156': 4.27966188758645e-05, '8158': 2.5393779710629597e-05, '8159': 2.5393779710629597e-05, '8157': 2.9796965167898055e-05, '8161': 2.5309850549940196e-05, '8162': 6.392351528879597e-05, '8166': 2.5222975018224545e-05, '8167': 2.5222975018224545e-05, '8170': 2.5567569701744663e-05, '8171': 3.500237357438572e-05, '8172': 2.5567569701744663e-05, '8173': 5.205224955532311e-05, '8177': 2.759099095396553e-05, '7472': 2.759099095396553e-05, '8179': 2.759099095396553e-05, '8184': 2.759099095396553e-05, '8180': 2.759099095396553e-05, '8181': 2.759099095396553e-05, '8182': 2.759099095396553e-05, '8183': 2.759099095396553e-05, '8187': 2.504961664562581e-05, '8189': 4.295468049019422e-05, '7861': 3.017580314353806e-05, '8190': 3.960732085977302e-05, '8193': 2.977983093169075e-05, '8194': 2.568471788170823e-05, '8195': 2.568471788170823e-05, '8196': 2.607638817611255e-05, '8197': 2.607638817611255e-05, '8199': 2.676254383572845e-05, '8202': 2.5914527312085333e-05, '8203': 2.5914527312085333e-05, '8206': 2.5914527312085333e-05, '8205': 2.5914527312085333e-05, '8211': 7.107367347013546e-05, '8213': 2.490925730947506e-05, '8215': 2.5871163905212458e-05, '8216': 2.5871163905212458e-05, '8221': 2.5424651276339305e-05, '8222': 4.688315956104026e-05, '8231': 2.612358140356286e-05, '8232': 2.612358140356286e-05, '8233': 2.612358140356286e-05, '8236': 2.550121939907407e-05, '8214': 2.5177333710558772e-05, '8238': 2.5177333710558772e-05, '8241': 3.0266269343589107e-05, '8242': 2.5383236977847916e-05, '8243': 5.248517083179688e-05, '8244': 2.5670676999863386e-05, '8245': 2.5670676999863386e-05, '8248': 2.619603361117885e-05, '8229': 2.619603361117885e-05, '8251': 2.5061832392482266e-05, '8252': 2.548540611784471e-05, '8253': 2.548540611784471e-05, '8254': 2.548540611784471e-05, '8255': 2.548540611784471e-05, '8256': 2.548540611784471e-05, '8260': 2.6483845669263454e-05, '8261': 2.6483845669263454e-05, '8262': 2.6026437074408612e-05, '8264': 2.610055574747354e-05, '8265': 2.610055574747354e-05, '8266': 2.610055574747354e-05, '7637': 2.5369569637426225e-05, '8270': 3.0252602003167416e-05, '8272': 2.5965253026317444e-05, '8273': 2.5965253026317444e-05, '8150': 3.6846122434081244e-05, '8274': 2.9010374661050714e-05}\n"
     ]
    }
   ],
   "source": [
    "pr = nx.pagerank(H_undirected,alpha=0.85) # Page Rank of the directed graph    \n",
    "print(\"Node PageRank\")\n",
    "print('%s' % pr)"
   ]
  },
  {
   "cell_type": "markdown",
   "metadata": {
    "colab_type": "text",
    "id": "MBjiy8Tt9xeY"
   },
   "source": [
    "**Find the top two nodes with highest page rank**"
   ]
  },
  {
   "cell_type": "code",
   "execution_count": 33,
   "metadata": {
    "colab": {
     "base_uri": "https://localhost:8080/",
     "height": 34
    },
    "colab_type": "code",
    "executionInfo": {
     "elapsed": 4584,
     "status": "ok",
     "timestamp": 1557473988472,
     "user": {
      "displayName": "Priyanka Kumar",
      "photoUrl": "",
      "userId": "04515317227541161014"
     },
     "user_tz": 420
    },
    "id": "_d-kTxRGJu8j",
    "outputId": "879d766d-27ac-4ff4-8474-606793cb9a06"
   },
   "outputs": [
    {
     "name": "stdout",
     "output_type": "stream",
     "text": [
      "[('2565', 0.00432884820637688), ('11', 0.00301243768596226)]\n"
     ]
    }
   ],
   "source": [
    "sorted_pr = sorted(pr.items(), key=operator.itemgetter(1),reverse=True) #sorts the page ranks of the nodes\n",
    "print(sorted_pr[:2]) #find the top two nodes with highest page rank"
   ]
  },
  {
   "cell_type": "markdown",
   "metadata": {
    "colab_type": "text",
    "id": "mryZFAje-Bi1"
   },
   "source": [
    "**Finds the dispersion between two nodes with highest pageRank**"
   ]
  },
  {
   "cell_type": "code",
   "execution_count": 35,
   "metadata": {
    "colab": {
     "base_uri": "https://localhost:8080/",
     "height": 34
    },
    "colab_type": "code",
    "executionInfo": {
     "elapsed": 906,
     "status": "ok",
     "timestamp": 1557474001567,
     "user": {
      "displayName": "Priyanka Kumar",
      "photoUrl": "",
      "userId": "04515317227541161014"
     },
     "user_tz": 420
    },
    "id": "g5nY4P72KHHp",
    "outputId": "8083c4a7-c718-4b62-b496-186bf075ed8f"
   },
   "outputs": [
    {
     "data": {
      "text/plain": [
       "1.876543209876543"
      ]
     },
     "execution_count": 35,
     "metadata": {
      "tags": []
     },
     "output_type": "execute_result"
    }
   ],
   "source": [
    "nx.algorithms.centrality.dispersion(H_undirected,'2565','11') #prints the dispersion between two nodes with highest pageRank"
   ]
  },
  {
   "cell_type": "markdown",
   "metadata": {
    "colab_type": "text",
    "id": "Y5J9MJkC-KYM"
   },
   "source": [
    "**Finds hubs and authorities of the directed graph and prints top 5 nodes with the highest authority**"
   ]
  },
  {
   "cell_type": "code",
   "execution_count": 0,
   "metadata": {
    "colab": {
     "base_uri": "https://localhost:8080/",
     "height": 54
    },
    "colab_type": "code",
    "executionInfo": {
     "elapsed": 12130,
     "status": "ok",
     "timestamp": 1557385317949,
     "user": {
      "displayName": "Priyanka Kumar",
      "photoUrl": "",
      "userId": "04515317227541161014"
     },
     "user_tz": 420
    },
    "id": "8-6NnJ_qK3CV",
    "outputId": "0bae0eef-c97c-43b4-b938-5a23648df908"
   },
   "outputs": [
    {
     "name": "stdout",
     "output_type": "stream",
     "text": [
      "[('2398', 0.002580147178008918), ('4037', 0.002573241124142803), ('3352', 0.002328415091537902), ('1549', 0.0023037314804751075), ('762', 0.00225587485637424)]\n"
     ]
    }
   ],
   "source": [
    "hubs,auth=nx.hits(H, max_iter=100, tol=1e-08, nstart=None, normalized=True) #finds hubs and authorities of the directed graph H\n",
    "sorted_auth = sorted(auth.items(), key=operator.itemgetter(1),reverse=True) #sort the authorities\n",
    "print(sorted_auth[:5]) #print 5 nodes with highest authority score"
   ]
  },
  {
   "cell_type": "markdown",
   "metadata": {
    "colab_type": "text",
    "id": "jU8T1s1f-lNL"
   },
   "source": [
    "**Finds the communities using girvan newman algorithm using directed graph**"
   ]
  },
  {
   "cell_type": "code",
   "execution_count": 0,
   "metadata": {
    "colab": {},
    "colab_type": "code",
    "id": "Rdzy1gQkbMjk"
   },
   "outputs": [],
   "source": [
    "comp = community.girvan_newman(H)"
   ]
  },
  {
   "cell_type": "markdown",
   "metadata": {
    "colab_type": "text",
    "id": "qvBSJIuTo6tT"
   },
   "source": [
    "**Find the top level communities using next()**"
   ]
  },
  {
   "cell_type": "code",
   "execution_count": 0,
   "metadata": {
    "colab": {},
    "colab_type": "code",
    "id": "c97Pyr6ReUIB"
   },
   "outputs": [],
   "source": [
    "top_level_communities = next(comp)"
   ]
  },
  {
   "cell_type": "markdown",
   "metadata": {
    "colab_type": "text",
    "id": "uZ1t9h93-oY4"
   },
   "source": [
    "**Printing number of total communities**"
   ]
  },
  {
   "cell_type": "code",
   "execution_count": 21,
   "metadata": {
    "colab": {
     "base_uri": "https://localhost:8080/",
     "height": 34
    },
    "colab_type": "code",
    "executionInfo": {
     "elapsed": 401,
     "status": "ok",
     "timestamp": 1557473194493,
     "user": {
      "displayName": "Priyanka Kumar",
      "photoUrl": "",
      "userId": "04515317227541161014"
     },
     "user_tz": 420
    },
    "id": "Le9Vvju3lPsz",
    "outputId": "5b7ce246-fd33-4cb5-9439-370e3cf6197c"
   },
   "outputs": [
    {
     "data": {
      "text/plain": [
       "25"
      ]
     },
     "execution_count": 21,
     "metadata": {
      "tags": []
     },
     "output_type": "execute_result"
    }
   ],
   "source": [
    "sum(1 for x in top_level_communities) #Printing number of total communities"
   ]
  },
  {
   "cell_type": "markdown",
   "metadata": {
    "colab_type": "text",
    "id": "gNaC99wwbj2J"
   },
   "source": [
    "**Printing top 5 nodes from the communities**"
   ]
  },
  {
   "cell_type": "code",
   "execution_count": 20,
   "metadata": {
    "colab": {
     "base_uri": "https://localhost:8080/",
     "height": 442
    },
    "colab_type": "code",
    "executionInfo": {
     "elapsed": 856,
     "status": "ok",
     "timestamp": 1557473111798,
     "user": {
      "displayName": "Priyanka Kumar",
      "photoUrl": "",
      "userId": "04515317227541161014"
     },
     "user_tz": 420
    },
    "id": "vo-XimcToTlb",
    "outputId": "eddbedfe-bb80-43aa-ac03-1f926429e5b2"
   },
   "outputs": [
    {
     "data": {
      "text/plain": [
       "(['10', '100', '1000', '1001', '1002'],\n",
       " ['6687', '6688', '6689', '6690', '6691'],\n",
       " ['2304', '2305'],\n",
       " ['3194', '3195'],\n",
       " ['3244', '3245'],\n",
       " ['4167', '4168'],\n",
       " ['4540', '4541'],\n",
       " ['5413', '5414'],\n",
       " ['5678', '5679'],\n",
       " ['5766', '5767'],\n",
       " ['5970', '5971'],\n",
       " ['6002', '6025'],\n",
       " ['6089', '6090'],\n",
       " ['6100', '6101'],\n",
       " ['6258', '6259'],\n",
       " ['6266', '6267'],\n",
       " ['7031', '7032', '7033'],\n",
       " ['7190', '7191'],\n",
       " ['7194', '7195'],\n",
       " ['7465', '7466', '7467'],\n",
       " ['7494', '7495'],\n",
       " ['7972', '7973'],\n",
       " ['7981', '7982'],\n",
       " ['8014', '8015'],\n",
       " ['8074', '8075', '8076'])"
      ]
     },
     "execution_count": 20,
     "metadata": {
      "tags": []
     },
     "output_type": "execute_result"
    }
   ],
   "source": [
    "tuple(sorted(c)[:5] for c in top_level_communities)"
   ]
  }
 ],
 "metadata": {
  "accelerator": "GPU",
  "colab": {
   "collapsed_sections": [],
   "name": "ProgrammingAssignment3_WikigraphAnalysis.ipynb",
   "provenance": [
    {
     "file_id": "1y_OQFjwM-lfFF8UOFo1V42b9SVLbveKw",
     "timestamp": 1557470197371
    }
   ],
   "version": "0.3.2"
  },
  "kernelspec": {
   "display_name": "Python 3",
   "language": "python",
   "name": "python3"
  },
  "language_info": {
   "codemirror_mode": {
    "name": "ipython",
    "version": 3
   },
   "file_extension": ".py",
   "mimetype": "text/x-python",
   "name": "python",
   "nbconvert_exporter": "python",
   "pygments_lexer": "ipython3",
   "version": "3.7.2"
  }
 },
 "nbformat": 4,
 "nbformat_minor": 1
}
